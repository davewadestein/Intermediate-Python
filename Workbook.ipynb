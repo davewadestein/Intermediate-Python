{
 "cells": [
  {
   "cell_type": "markdown",
   "id": "d8ac0735-6397-4379-89f7-679308c7694c",
   "metadata": {},
   "source": [
    "# Important things to know about Python\n",
    "* Python is dynamically typed\n",
    "  * when you create a variable, you just give it a value, you don't specify its type\n",
    "  * plus = you just create a variable, put something in it, and be done with it\n",
    "  * minus = you can make a mistake–you can put the wrong datatype into a variable w/no comment from Python\n",
    "* fundamental data types: __`int`__, __`float`__, __`str`__, __`bool`__\n",
    "* scalars vs. containers\n",
    "  * scalar = one single value ... __`int`__, __`float`__, __`bool`__\n",
    "  * containers = objects which hold 0+ values inside them\n",
    "    * e.g., __`str`__, list, tuple, dict, set\n",
    "* mutable vs. immutable objects\n",
    "  * immutable = str, tuple, frozenset\n",
    "  * mutable = list, dict, set\n",
    "* Everything is an object!\n",
    "  * every \"thing\" that we work with (e.g., variables, modules, functions) is\n",
    "    1. stored in memory and we can inspect it\n",
    "    2. every thing is composed of multiple parts\n",
    "      * some parts are functions\n",
    "      * other parts are data (attributes)\n",
    "* Duck Typing\n",
    "  * \"If it walks like a duck, and it quacks like a duck, I'll call it a duck\"\n",
    "  * Python functions can, rather than restricting what types of arguments are passed to them, instead expect an attribute or \"feature\" of that type, and as long as the argument exhibits that feature, it will work\n",
    "* built-in functions DO NOT change the objects that are passed them\n",
    "  * if you want to change an object in Python, you must invoke/call/apply a method on/to that object\n",
    "  * ...NOT ALL methods change the objects they are invoked/called/applied on/to\n",
    "* a method is a FUNCTION that operates on a specific datatype\n",
    "  * list methods only work on lists\n",
    "* Python \"truthiness\"\n",
    "  * in a Boolean context, Python _considers_:\n",
    "     * 0 and 0.0 to be False / any other numbers to be True\n",
    "     * empty containers to be False / non-empty containers to be True\n",
    "* strings can be delimited by ' or \"\n",
    "* tuples typically represent a \"row\" of a database/spreadsheet, etc. (heterogeneous)\n",
    "* ...whereas lists typically represent a column (homogeneous)\n",
    "* __`*`__ is used to unpack a container like list, tuple\n",
    "* __`**`__ is used to unpack a dict into key=value items\n",
    "* __`*args`__, __`**kwargs`__"
   ]
  },
  {
   "cell_type": "markdown",
   "id": "c7681f13-ebf4-46b8-9722-19bade75fe79",
   "metadata": {},
   "source": [
    "# Pythonic\n",
    "* code written in such a way that other Python programmers expect it\n",
    "* using common idioms\n",
    "* \"My name is Rick and I'm a Java programmer. I've started to teach myself Python, but my Python looks like Java\"\n",
    "* e.g.,\n",
    "  * __`container[-1]`__ always means the last item in the container\n",
    "  * __`container[-n]`__ always means the nth from the last in the container\n",
    "  * __`container[:n]`__ always means the first n items in the container\n",
    "  * __`container[n:]`__ always means the rest of the items in the container\n",
    "  * __`container[::-1]`__ means generate a reversed version of the container\n",
    "  * __`fruits = 'apple fig orange banana pear'.split()`__ is easy to way to make a list\n",
    "  * use _ when you don't need a variable name but you need a \"placeholder\"\n",
    "     * e.g., __`first, *_, last = [some list of items]`__\n",
    "     * e.g., __`for _ in range(n)`__ means \"do this n times\" (no confusion with a counting loop)\n",
    "  * truthiness\n",
    "  * if a datatype is difficult to work with, consider converting to another datatype\n",
    "    * sets are unordered (presumably we used them to remove dupes), but now we'll convert to list in order to put the items in sequence\n",
    "    * int\n",
    "      "
   ]
  },
  {
   "cell_type": "markdown",
   "id": "d8208795-5d67-465b-945f-9f87559ebd84",
   "metadata": {},
   "source": [
    "# Important Programming Principles\n",
    "* choose good variable names, e.g.,\n",
    "  * __`cost`__ is better than __`c`__ (but __`cost_per_ounce`__ might be better still)\n",
    "  * __`queue_name`__\n",
    "  * __`first_name`__\n",
    "  * __`pressure`__\n",
    "  * e.g., not __`p`__ or __`first`__, etc.\n",
    "* “Programs must be written for people to read, and only incidentally for machines to execute.” –Hal Abelson\n",
    "  * \"Your code tells a story, so tell a GOOD one\" –DWS\n",
    "* Eagleson's Law: \"Any code you wrote more than six months ago might as well have been written by someone else\"\n",
    "   * be kind to your future self\n",
    "* \"Mechanical Sympathy\"\n",
    "   * in order to be an expert at something, you need to understand how it works under the hood\n",
    "* \"Efficiency doesn't matter until it matters, and it rarely matters\" -DWS\n",
    "* \"Premature optimization is the root of all evil (or at least most of it)\" –Donald Knuth"
   ]
  },
  {
   "cell_type": "code",
   "execution_count": null,
   "id": "625944d0-9dc5-4abe-87b3-eaefc4f7c320",
   "metadata": {},
   "outputs": [],
   "source": []
  },
  {
   "cell_type": "markdown",
   "id": "f3020479-b50d-4c38-adc8-ecf02e2b4c85",
   "metadata": {},
   "source": [
    "# function\n",
    "* a bit of code that's wrapped up and named\n",
    "* can have some input\n",
    "* task it performs\n",
    "* can have some output\n",
    "* think of an appliance (e.g., blender)\n",
    "  "
   ]
  },
  {
   "cell_type": "code",
   "execution_count": 9,
   "id": "f3bc3ab2-c1c7-4afc-9963-a9bb472fd276",
   "metadata": {},
   "outputs": [],
   "source": [
    "cost = 15.43"
   ]
  },
  {
   "cell_type": "code",
   "execution_count": 8,
   "id": "7a614e7a-da9e-495d-b502-e3e0cac16380",
   "metadata": {},
   "outputs": [
    {
     "data": {
      "text/plain": [
       "float"
      ]
     },
     "execution_count": 8,
     "metadata": {},
     "output_type": "execute_result"
    }
   ],
   "source": [
    "type(cost) # what's the type of cost?"
   ]
  },
  {
   "cell_type": "code",
   "execution_count": 10,
   "id": "364004f7-5be4-4cec-b4ab-7b58283176be",
   "metadata": {},
   "outputs": [],
   "source": [
    "cost = 12"
   ]
  },
  {
   "cell_type": "code",
   "execution_count": 11,
   "id": "31e0a73d-d84c-412f-a3ec-42b6633cb077",
   "metadata": {},
   "outputs": [
    {
     "data": {
      "text/plain": [
       "int"
      ]
     },
     "execution_count": 11,
     "metadata": {},
     "output_type": "execute_result"
    }
   ],
   "source": [
    "type(cost)"
   ]
  },
  {
   "cell_type": "code",
   "execution_count": 13,
   "id": "11979db2-eb38-4040-9088-6e8dc41ffe6e",
   "metadata": {},
   "outputs": [],
   "source": [
    "number = -15."
   ]
  },
  {
   "cell_type": "code",
   "execution_count": 14,
   "id": "1989a322-9dce-401b-b976-e9cb6dac0a53",
   "metadata": {},
   "outputs": [
    {
     "data": {
      "text/plain": [
       "float"
      ]
     },
     "execution_count": 14,
     "metadata": {},
     "output_type": "execute_result"
    }
   ],
   "source": [
    "type(number)"
   ]
  },
  {
   "cell_type": "code",
   "execution_count": 16,
   "id": "9d14c51e-22b4-4ce4-a881-1ba5bbbfd748",
   "metadata": {},
   "outputs": [],
   "source": [
    "text = '-14.3blah ok ?' # str variable"
   ]
  },
  {
   "cell_type": "code",
   "execution_count": 18,
   "id": "ba79b75b-35a9-426c-9e18-80aff8f882e7",
   "metadata": {},
   "outputs": [
    {
     "data": {
      "text/plain": [
       "str"
      ]
     },
     "execution_count": 18,
     "metadata": {},
     "output_type": "execute_result"
    }
   ],
   "source": [
    "type(text)"
   ]
  },
  {
   "cell_type": "code",
   "execution_count": 19,
   "id": "a2b38cca-074c-4502-8221-0da48a47d38f",
   "metadata": {},
   "outputs": [
    {
     "data": {
      "text/plain": [
       "'-14.3blah ok ?'"
      ]
     },
     "execution_count": 19,
     "metadata": {},
     "output_type": "execute_result"
    }
   ],
   "source": [
    "text"
   ]
  },
  {
   "cell_type": "code",
   "execution_count": 20,
   "id": "c0a66cb7-df00-4cc2-89a2-c52f3c30f44b",
   "metadata": {},
   "outputs": [],
   "source": [
    "cost = 'hi'"
   ]
  },
  {
   "cell_type": "code",
   "execution_count": 21,
   "id": "17026973-4fbb-4a34-8d6e-20233bfd8b27",
   "metadata": {},
   "outputs": [
    {
     "data": {
      "text/plain": [
       "'hi'"
      ]
     },
     "execution_count": 21,
     "metadata": {},
     "output_type": "execute_result"
    }
   ],
   "source": [
    "cost"
   ]
  },
  {
   "cell_type": "code",
   "execution_count": 22,
   "id": "7d1af744-5f67-4bc9-bc17-7d0b486fc9e3",
   "metadata": {},
   "outputs": [
    {
     "name": "stdout",
     "output_type": "stream",
     "text": [
      "My name is Dave\n"
     ]
    }
   ],
   "source": [
    "name = 'Dave'\n",
    "print('My name is', name)"
   ]
  },
  {
   "cell_type": "code",
   "execution_count": 23,
   "id": "d38f826c-5c13-467f-b2bd-8aa8d864d902",
   "metadata": {},
   "outputs": [
    {
     "data": {
      "text/plain": [
       "4"
      ]
     },
     "execution_count": 23,
     "metadata": {},
     "output_type": "execute_result"
    }
   ],
   "source": [
    "len(name) # len only works on containers"
   ]
  },
  {
   "cell_type": "code",
   "execution_count": 24,
   "id": "8ac17f2c-13ca-4fa7-8502-4fe8689d3b3f",
   "metadata": {},
   "outputs": [
    {
     "ename": "TypeError",
     "evalue": "object of type 'float' has no len()",
     "output_type": "error",
     "traceback": [
      "\u001b[0;31m---------------------------------------------------------------------------\u001b[0m",
      "\u001b[0;31mTypeError\u001b[0m                                 Traceback (most recent call last)",
      "Cell \u001b[0;32mIn[24], line 2\u001b[0m\n\u001b[1;32m      1\u001b[0m number \u001b[38;5;241m=\u001b[39m \u001b[38;5;241m1.234\u001b[39m\n\u001b[0;32m----> 2\u001b[0m \u001b[38;5;28;43mlen\u001b[39;49m\u001b[43m(\u001b[49m\u001b[43mnumber\u001b[49m\u001b[43m)\u001b[49m\n",
      "\u001b[0;31mTypeError\u001b[0m: object of type 'float' has no len()"
     ]
    }
   ],
   "source": [
    "number = 1.234\n",
    "len(number)"
   ]
  },
  {
   "cell_type": "code",
   "execution_count": 25,
   "id": "fac91885-f531-4bbd-bb4d-6eb16d39e303",
   "metadata": {},
   "outputs": [
    {
     "data": {
      "text/plain": [
       "'Bruce Lee'"
      ]
     },
     "execution_count": 25,
     "metadata": {},
     "output_type": "execute_result"
    }
   ],
   "source": [
    "'Bruce' + ' ' + 'Lee'"
   ]
  },
  {
   "cell_type": "code",
   "execution_count": 28,
   "id": "f774472e-b37e-43d6-98cc-32a448bda0c7",
   "metadata": {},
   "outputs": [
    {
     "data": {
      "text/plain": [
       "'Dave12345'"
      ]
     },
     "execution_count": 28,
     "metadata": {},
     "output_type": "execute_result"
    }
   ],
   "source": [
    "'Dave' + '12345'"
   ]
  },
  {
   "cell_type": "code",
   "execution_count": 30,
   "id": "7e6c561d-c3a4-42f3-9b46-9df1f1a7618a",
   "metadata": {},
   "outputs": [],
   "source": [
    "# PEP-8 vs. Pythonic\n",
    "cost = 19.95\n",
    "quantity = 4\n",
    "total_cost = cost*quantity # spaces around operators is PEP-8\n",
    "\n",
    "nums = [1, 42, 3, -12]\n",
    "nums[len(nums) - 1] = -15 # works, but not Python, because [-1] is clearer"
   ]
  },
  {
   "cell_type": "code",
   "execution_count": 31,
   "id": "551bd18f-6c19-4408-bf8f-7f7acdaa6590",
   "metadata": {},
   "outputs": [],
   "source": [
    "import math # import or bring a module into memory"
   ]
  },
  {
   "cell_type": "code",
   "execution_count": 32,
   "id": "0f60307e-5718-47a8-8998-1b48e6344d2c",
   "metadata": {},
   "outputs": [
    {
     "name": "stdout",
     "output_type": "stream",
     "text": [
      "\n"
     ]
    }
   ],
   "source": [
    "print()"
   ]
  },
  {
   "cell_type": "code",
   "execution_count": 33,
   "id": "b78627db-edbb-427f-944d-1bb7de7f7434",
   "metadata": {},
   "outputs": [
    {
     "name": "stdout",
     "output_type": "stream",
     "text": [
      "1 2 3 blah\n"
     ]
    }
   ],
   "source": [
    "print(1, 2, 3, 'blah')"
   ]
  },
  {
   "cell_type": "code",
   "execution_count": 35,
   "id": "a77a4fac-41d5-43c4-a9e7-fc656f0dec0b",
   "metadata": {},
   "outputs": [
    {
     "name": "stdout",
     "output_type": "stream",
     "text": [
      "1, 2, 3, blah\n"
     ]
    }
   ],
   "source": [
    "print(1, 2, 3, 'blah', sep=', ')"
   ]
  },
  {
   "cell_type": "code",
   "execution_count": 37,
   "id": "13208fe6-0cbf-40d3-a313-5215c008951e",
   "metadata": {},
   "outputs": [
    {
     "name": "stdout",
     "output_type": "stream",
     "text": [
      "1\n",
      "2\n",
      "3\n",
      "blah\n"
     ]
    }
   ],
   "source": [
    "print(1, 2, 3, 'blah', sep='\\n')\n",
    "# sep= is a *directive* to the print() function that says put a \\n between each pair of items you print"
   ]
  },
  {
   "cell_type": "code",
   "execution_count": 41,
   "id": "9fb6b378-8ffb-4350-81cc-43045e0b649d",
   "metadata": {},
   "outputs": [
    {
     "name": "stdout",
     "output_type": "stream",
     "text": [
      "1 2 3 four\n"
     ]
    }
   ],
   "source": [
    "print(1, 2, 3, end=' ') # emit/put a SPACE at the end of the print\n",
    "print('four')"
   ]
  },
  {
   "cell_type": "code",
   "execution_count": 43,
   "id": "9ad09bd1-9fca-47fd-b885-0d3b511164a9",
   "metadata": {},
   "outputs": [
    {
     "name": "stdout",
     "output_type": "stream",
     "text": [
      "abcdefghijkl\n"
     ]
    }
   ],
   "source": [
    "print('abcdef', end='') # put \"nothing\" at the end of the print\n",
    "print('ghijkl')"
   ]
  },
  {
   "cell_type": "code",
   "execution_count": 45,
   "id": "721d2707-585e-4734-978a-e529a168f6a3",
   "metadata": {},
   "outputs": [
    {
     "name": "stdout",
     "output_type": "stream",
     "text": [
      "something\n",
      "\n",
      "\n",
      "else\n"
     ]
    }
   ],
   "source": [
    "end_marker = '\\n\\n\\n' # two newlines/carriage returns\n",
    "print('something', end=end_marker)\n",
    "print('else')"
   ]
  },
  {
   "cell_type": "code",
   "execution_count": 46,
   "id": "0cb35c4a-063f-45d4-be15-df7cc77a0c65",
   "metadata": {},
   "outputs": [],
   "source": [
    "def silly_function():\n",
    "    return '\\n...\\n'"
   ]
  },
  {
   "cell_type": "code",
   "execution_count": 47,
   "id": "239a2b54-c345-451c-94af-971b92859d5e",
   "metadata": {},
   "outputs": [
    {
     "data": {
      "text/plain": [
       "'\\n...\\n'"
      ]
     },
     "execution_count": 47,
     "metadata": {},
     "output_type": "execute_result"
    }
   ],
   "source": [
    "silly_function()"
   ]
  },
  {
   "cell_type": "code",
   "execution_count": 51,
   "id": "e8022f9e-0299-45c9-92d2-8b6edb42ee2b",
   "metadata": {},
   "outputs": [
    {
     "name": "stdout",
     "output_type": "stream",
     "text": [
      "1 2 3\n",
      "...\n",
      "4\n"
     ]
    }
   ],
   "source": [
    "print(1, 2, 3, end=silly_function()) # directing print() to put something different at the end\n",
    "print(4)"
   ]
  },
  {
   "cell_type": "code",
   "execution_count": 49,
   "id": "cf04a190-9c1a-4b36-a8f7-0a8a7276cc76",
   "metadata": {},
   "outputs": [],
   "source": [
    "name = 'Grace Hopper' # \"assignment statement\" - put the right hand side into the varibable on the left hand side"
   ]
  },
  {
   "cell_type": "code",
   "execution_count": 52,
   "id": "61304e9a-8d27-4482-b54d-3999fc39a337",
   "metadata": {},
   "outputs": [
    {
     "name": "stdout",
     "output_type": "stream",
     "text": [
      "Hello World!\n"
     ]
    }
   ],
   "source": [
    "print(\"Hello\", end=\" \")\n",
    "print(\"World!\")"
   ]
  },
  {
   "cell_type": "code",
   "execution_count": 53,
   "id": "254a3279-d58a-4621-8141-2810c9bfd79d",
   "metadata": {},
   "outputs": [
    {
     "name": "stdout",
     "output_type": "stream",
     "text": [
      "Learn-Python!It's fun!\n"
     ]
    }
   ],
   "source": [
    "print(\"Learn\", \"Python\", sep=\"-\", end=\"!\")\n",
    "print(\"It's fun!\")"
   ]
  },
  {
   "cell_type": "code",
   "execution_count": 54,
   "id": "7238e529-da0a-4f11-a7f1-389f33e5af3d",
   "metadata": {},
   "outputs": [],
   "source": [
    "text = \"You can't try this!\""
   ]
  },
  {
   "cell_type": "code",
   "execution_count": 55,
   "id": "bc1529be-25b7-42b2-ac90-7318183e790d",
   "metadata": {},
   "outputs": [
    {
     "data": {
      "text/plain": [
       "\"You can't try this!\""
      ]
     },
     "execution_count": 55,
     "metadata": {},
     "output_type": "execute_result"
    }
   ],
   "source": [
    "text"
   ]
  },
  {
   "cell_type": "code",
   "execution_count": 56,
   "id": "178441ed-d5f4-4a83-a317-55235273d63e",
   "metadata": {},
   "outputs": [],
   "source": [
    "text2 = 'He said, \"Try harder!\"'"
   ]
  },
  {
   "cell_type": "code",
   "execution_count": 57,
   "id": "fd9f7e31-bce5-439e-9d9f-77e657187630",
   "metadata": {},
   "outputs": [
    {
     "data": {
      "text/plain": [
       "'He said, \"Try harder!\"'"
      ]
     },
     "execution_count": 57,
     "metadata": {},
     "output_type": "execute_result"
    }
   ],
   "source": [
    "text2"
   ]
  },
  {
   "cell_type": "code",
   "execution_count": 58,
   "id": "6c77415c-bc2d-4407-9bbd-13a02defa667",
   "metadata": {},
   "outputs": [],
   "source": [
    "text3 = 'He said, \"Don\\'t do that\" yesterday'"
   ]
  },
  {
   "cell_type": "code",
   "execution_count": 61,
   "id": "08abf606-cb1b-4fb7-9bbb-97052cc8fe30",
   "metadata": {},
   "outputs": [
    {
     "data": {
      "text/plain": [
       "'He said, \"Don\\'t do that\" yesterday'"
      ]
     },
     "execution_count": 61,
     "metadata": {},
     "output_type": "execute_result"
    }
   ],
   "source": [
    "text3 # tell me the value of this expression (variables are expressions)"
   ]
  },
  {
   "cell_type": "code",
   "execution_count": 62,
   "id": "ed53cadb-d83f-4b04-bc0b-d74868fff117",
   "metadata": {},
   "outputs": [],
   "source": [
    "name = 'Grace Hopper'"
   ]
  },
  {
   "cell_type": "code",
   "execution_count": 63,
   "id": "17129bcb-6162-43f4-93fa-7352b62445b5",
   "metadata": {},
   "outputs": [
    {
     "data": {
      "text/plain": [
       "'Grace Hopper'"
      ]
     },
     "execution_count": 63,
     "metadata": {},
     "output_type": "execute_result"
    }
   ],
   "source": [
    "name # hey, Python, tell me the value of this expression or variable"
   ]
  },
  {
   "cell_type": "code",
   "execution_count": 64,
   "id": "13c01d02-4575-4362-89d3-ddf0d220dd3a",
   "metadata": {},
   "outputs": [
    {
     "name": "stdout",
     "output_type": "stream",
     "text": [
      "Your name is Grace Hopper\n"
     ]
    }
   ],
   "source": [
    "print('Your name is', name)"
   ]
  },
  {
   "cell_type": "code",
   "execution_count": 65,
   "id": "2b42602c-d8d9-434b-b6d4-3da6aca927ad",
   "metadata": {},
   "outputs": [
    {
     "data": {
      "text/plain": [
       "35"
      ]
     },
     "execution_count": 65,
     "metadata": {},
     "output_type": "execute_result"
    }
   ],
   "source": [
    "5 * 7 # Python will dutifully evaluate this and give me the answer, but I didn't say print()"
   ]
  },
  {
   "cell_type": "code",
   "execution_count": 67,
   "id": "bd42feeb-f9fb-4a12-9e76-8583addc89de",
   "metadata": {},
   "outputs": [],
   "source": [
    "error = True # bold-faced green means a \"keyword\" or part of the Python language"
   ]
  },
  {
   "cell_type": "code",
   "execution_count": 68,
   "id": "85f33414-766f-454c-a9ec-c5347a585c5b",
   "metadata": {},
   "outputs": [
    {
     "data": {
      "text/plain": [
       "True"
      ]
     },
     "execution_count": 68,
     "metadata": {},
     "output_type": "execute_result"
    }
   ],
   "source": [
    "error"
   ]
  },
  {
   "cell_type": "code",
   "execution_count": 69,
   "id": "b5299fb8-e4d2-434e-a6d6-83ed2d4953a4",
   "metadata": {},
   "outputs": [],
   "source": [
    "error_string = 'True'"
   ]
  },
  {
   "cell_type": "code",
   "execution_count": 70,
   "id": "a10f6051-c6f4-45f5-a550-38e5b2d5b0c3",
   "metadata": {},
   "outputs": [
    {
     "data": {
      "text/plain": [
       "'True'"
      ]
     },
     "execution_count": 70,
     "metadata": {},
     "output_type": "execute_result"
    }
   ],
   "source": [
    "error_string"
   ]
  },
  {
   "cell_type": "code",
   "execution_count": 71,
   "id": "e58ecba4-e144-4b3e-b49b-a04e54280331",
   "metadata": {},
   "outputs": [
    {
     "data": {
      "text/plain": [
       "(bool, str)"
      ]
     },
     "execution_count": 71,
     "metadata": {},
     "output_type": "execute_result"
    }
   ],
   "source": [
    "type(error), type(error_string)"
   ]
  },
  {
   "cell_type": "code",
   "execution_count": 72,
   "id": "710ecf3f-daa6-424f-aa32-18b26fc61c88",
   "metadata": {},
   "outputs": [
    {
     "name": "stdout",
     "output_type": "stream",
     "text": [
      "The error string was: True\n"
     ]
    }
   ],
   "source": [
    "print('The error string was:', error_string)"
   ]
  },
  {
   "cell_type": "code",
   "execution_count": 73,
   "id": "2782bf30-a0af-4b75-bc49-2320a324a51c",
   "metadata": {},
   "outputs": [
    {
     "name": "stdout",
     "output_type": "stream",
     "text": [
      "My name is Dave\n"
     ]
    }
   ],
   "source": [
    "name = 'Dave'\n",
    "print('My name is', name)"
   ]
  },
  {
   "cell_type": "code",
   "execution_count": 74,
   "id": "b271c515-bf68-4743-b3b4-0b5800895038",
   "metadata": {},
   "outputs": [],
   "source": [
    "import math # bold green == keyword (part of Python language)"
   ]
  },
  {
   "cell_type": "code",
   "execution_count": 75,
   "id": "0011a6f3-de79-470a-b81e-313f1afe0eff",
   "metadata": {},
   "outputs": [
    {
     "data": {
      "text/plain": [
       "['__doc__',\n",
       " '__file__',\n",
       " '__loader__',\n",
       " '__name__',\n",
       " '__package__',\n",
       " '__spec__',\n",
       " 'acos',\n",
       " 'acosh',\n",
       " 'asin',\n",
       " 'asinh',\n",
       " 'atan',\n",
       " 'atan2',\n",
       " 'atanh',\n",
       " 'cbrt',\n",
       " 'ceil',\n",
       " 'comb',\n",
       " 'copysign',\n",
       " 'cos',\n",
       " 'cosh',\n",
       " 'degrees',\n",
       " 'dist',\n",
       " 'e',\n",
       " 'erf',\n",
       " 'erfc',\n",
       " 'exp',\n",
       " 'exp2',\n",
       " 'expm1',\n",
       " 'fabs',\n",
       " 'factorial',\n",
       " 'floor',\n",
       " 'fma',\n",
       " 'fmod',\n",
       " 'frexp',\n",
       " 'fsum',\n",
       " 'gamma',\n",
       " 'gcd',\n",
       " 'hypot',\n",
       " 'inf',\n",
       " 'isclose',\n",
       " 'isfinite',\n",
       " 'isinf',\n",
       " 'isnan',\n",
       " 'isqrt',\n",
       " 'lcm',\n",
       " 'ldexp',\n",
       " 'lgamma',\n",
       " 'log',\n",
       " 'log10',\n",
       " 'log1p',\n",
       " 'log2',\n",
       " 'modf',\n",
       " 'nan',\n",
       " 'nextafter',\n",
       " 'perm',\n",
       " 'pi',\n",
       " 'pow',\n",
       " 'prod',\n",
       " 'radians',\n",
       " 'remainder',\n",
       " 'sin',\n",
       " 'sinh',\n",
       " 'sqrt',\n",
       " 'sumprod',\n",
       " 'tan',\n",
       " 'tanh',\n",
       " 'tau',\n",
       " 'trunc',\n",
       " 'ulp']"
      ]
     },
     "execution_count": 75,
     "metadata": {},
     "output_type": "execute_result"
    }
   ],
   "source": [
    "dir(math) # light green == built-in function "
   ]
  },
  {
   "cell_type": "code",
   "execution_count": 76,
   "id": "9bc4142e-a455-4f8d-b994-dda6c548907e",
   "metadata": {},
   "outputs": [
    {
     "name": "stdout",
     "output_type": "stream",
     "text": [
      "Help on module math:\n",
      "\n",
      "NAME\n",
      "    math\n",
      "\n",
      "MODULE REFERENCE\n",
      "    https://docs.python.org/3.13/library/math.html\n",
      "\n",
      "    The following documentation is automatically generated from the Python\n",
      "    source files.  It may be incomplete, incorrect or include features that\n",
      "    are considered implementation detail and may vary between Python\n",
      "    implementations.  When in doubt, consult the module reference at the\n",
      "    location listed above.\n",
      "\n",
      "DESCRIPTION\n",
      "    This module provides access to the mathematical functions\n",
      "    defined by the C standard.\n",
      "\n",
      "FUNCTIONS\n",
      "    acos(x, /)\n",
      "        Return the arc cosine (measured in radians) of x.\n",
      "\n",
      "        The result is between 0 and pi.\n",
      "\n",
      "    acosh(x, /)\n",
      "        Return the inverse hyperbolic cosine of x.\n",
      "\n",
      "    asin(x, /)\n",
      "        Return the arc sine (measured in radians) of x.\n",
      "\n",
      "        The result is between -pi/2 and pi/2.\n",
      "\n",
      "    asinh(x, /)\n",
      "        Return the inverse hyperbolic sine of x.\n",
      "\n",
      "    atan(x, /)\n",
      "        Return the arc tangent (measured in radians) of x.\n",
      "\n",
      "        The result is between -pi/2 and pi/2.\n",
      "\n",
      "    atan2(y, x, /)\n",
      "        Return the arc tangent (measured in radians) of y/x.\n",
      "\n",
      "        Unlike atan(y/x), the signs of both x and y are considered.\n",
      "\n",
      "    atanh(x, /)\n",
      "        Return the inverse hyperbolic tangent of x.\n",
      "\n",
      "    cbrt(x, /)\n",
      "        Return the cube root of x.\n",
      "\n",
      "    ceil(x, /)\n",
      "        Return the ceiling of x as an Integral.\n",
      "\n",
      "        This is the smallest integer >= x.\n",
      "\n",
      "    comb(n, k, /)\n",
      "        Number of ways to choose k items from n items without repetition and without order.\n",
      "\n",
      "        Evaluates to n! / (k! * (n - k)!) when k <= n and evaluates\n",
      "        to zero when k > n.\n",
      "\n",
      "        Also called the binomial coefficient because it is equivalent\n",
      "        to the coefficient of k-th term in polynomial expansion of the\n",
      "        expression (1 + x)**n.\n",
      "\n",
      "        Raises TypeError if either of the arguments are not integers.\n",
      "        Raises ValueError if either of the arguments are negative.\n",
      "\n",
      "    copysign(x, y, /)\n",
      "        Return a float with the magnitude (absolute value) of x but the sign of y.\n",
      "\n",
      "        On platforms that support signed zeros, copysign(1.0, -0.0)\n",
      "        returns -1.0.\n",
      "\n",
      "    cos(x, /)\n",
      "        Return the cosine of x (measured in radians).\n",
      "\n",
      "    cosh(x, /)\n",
      "        Return the hyperbolic cosine of x.\n",
      "\n",
      "    degrees(x, /)\n",
      "        Convert angle x from radians to degrees.\n",
      "\n",
      "    dist(p, q, /)\n",
      "        Return the Euclidean distance between two points p and q.\n",
      "\n",
      "        The points should be specified as sequences (or iterables) of\n",
      "        coordinates.  Both inputs must have the same dimension.\n",
      "\n",
      "        Roughly equivalent to:\n",
      "            sqrt(sum((px - qx) ** 2.0 for px, qx in zip(p, q)))\n",
      "\n",
      "    erf(x, /)\n",
      "        Error function at x.\n",
      "\n",
      "    erfc(x, /)\n",
      "        Complementary error function at x.\n",
      "\n",
      "    exp(x, /)\n",
      "        Return e raised to the power of x.\n",
      "\n",
      "    exp2(x, /)\n",
      "        Return 2 raised to the power of x.\n",
      "\n",
      "    expm1(x, /)\n",
      "        Return exp(x)-1.\n",
      "\n",
      "        This function avoids the loss of precision involved in the direct evaluation of exp(x)-1 for small x.\n",
      "\n",
      "    fabs(x, /)\n",
      "        Return the absolute value of the float x.\n",
      "\n",
      "    factorial(n, /)\n",
      "        Find n!.\n",
      "\n",
      "        Raise a ValueError if x is negative or non-integral.\n",
      "\n",
      "    floor(x, /)\n",
      "        Return the floor of x as an Integral.\n",
      "\n",
      "        This is the largest integer <= x.\n",
      "\n",
      "    fma(x, y, z, /)\n",
      "        Fused multiply-add operation.\n",
      "\n",
      "        Compute (x * y) + z with a single round.\n",
      "\n",
      "    fmod(x, y, /)\n",
      "        Return fmod(x, y), according to platform C.\n",
      "\n",
      "        x % y may differ.\n",
      "\n",
      "    frexp(x, /)\n",
      "        Return the mantissa and exponent of x, as pair (m, e).\n",
      "\n",
      "        m is a float and e is an int, such that x = m * 2.**e.\n",
      "        If x is 0, m and e are both 0.  Else 0.5 <= abs(m) < 1.0.\n",
      "\n",
      "    fsum(seq, /)\n",
      "        Return an accurate floating-point sum of values in the iterable seq.\n",
      "\n",
      "        Assumes IEEE-754 floating-point arithmetic.\n",
      "\n",
      "    gamma(x, /)\n",
      "        Gamma function at x.\n",
      "\n",
      "    gcd(*integers)\n",
      "        Greatest Common Divisor.\n",
      "\n",
      "    hypot(...)\n",
      "        hypot(*coordinates) -> value\n",
      "\n",
      "        Multidimensional Euclidean distance from the origin to a point.\n",
      "\n",
      "        Roughly equivalent to:\n",
      "            sqrt(sum(x**2 for x in coordinates))\n",
      "\n",
      "        For a two dimensional point (x, y), gives the hypotenuse\n",
      "        using the Pythagorean theorem:  sqrt(x*x + y*y).\n",
      "\n",
      "        For example, the hypotenuse of a 3/4/5 right triangle is:\n",
      "\n",
      "            >>> hypot(3.0, 4.0)\n",
      "            5.0\n",
      "\n",
      "    isclose(a, b, *, rel_tol=1e-09, abs_tol=0.0)\n",
      "        Determine whether two floating-point numbers are close in value.\n",
      "\n",
      "          rel_tol\n",
      "            maximum difference for being considered \"close\", relative to the\n",
      "            magnitude of the input values\n",
      "          abs_tol\n",
      "            maximum difference for being considered \"close\", regardless of the\n",
      "            magnitude of the input values\n",
      "\n",
      "        Return True if a is close in value to b, and False otherwise.\n",
      "\n",
      "        For the values to be considered close, the difference between them\n",
      "        must be smaller than at least one of the tolerances.\n",
      "\n",
      "        -inf, inf and NaN behave similarly to the IEEE 754 Standard.  That\n",
      "        is, NaN is not close to anything, even itself.  inf and -inf are\n",
      "        only close to themselves.\n",
      "\n",
      "    isfinite(x, /)\n",
      "        Return True if x is neither an infinity nor a NaN, and False otherwise.\n",
      "\n",
      "    isinf(x, /)\n",
      "        Return True if x is a positive or negative infinity, and False otherwise.\n",
      "\n",
      "    isnan(x, /)\n",
      "        Return True if x is a NaN (not a number), and False otherwise.\n",
      "\n",
      "    isqrt(n, /)\n",
      "        Return the integer part of the square root of the input.\n",
      "\n",
      "    lcm(*integers)\n",
      "        Least Common Multiple.\n",
      "\n",
      "    ldexp(x, i, /)\n",
      "        Return x * (2**i).\n",
      "\n",
      "        This is essentially the inverse of frexp().\n",
      "\n",
      "    lgamma(x, /)\n",
      "        Natural logarithm of absolute value of Gamma function at x.\n",
      "\n",
      "    log(...)\n",
      "        log(x, [base=math.e])\n",
      "        Return the logarithm of x to the given base.\n",
      "\n",
      "        If the base is not specified, returns the natural logarithm (base e) of x.\n",
      "\n",
      "    log10(x, /)\n",
      "        Return the base 10 logarithm of x.\n",
      "\n",
      "    log1p(x, /)\n",
      "        Return the natural logarithm of 1+x (base e).\n",
      "\n",
      "        The result is computed in a way which is accurate for x near zero.\n",
      "\n",
      "    log2(x, /)\n",
      "        Return the base 2 logarithm of x.\n",
      "\n",
      "    modf(x, /)\n",
      "        Return the fractional and integer parts of x.\n",
      "\n",
      "        Both results carry the sign of x and are floats.\n",
      "\n",
      "    nextafter(x, y, /, *, steps=None)\n",
      "        Return the floating-point value the given number of steps after x towards y.\n",
      "\n",
      "        If steps is not specified or is None, it defaults to 1.\n",
      "\n",
      "        Raises a TypeError, if x or y is not a double, or if steps is not an integer.\n",
      "        Raises ValueError if steps is negative.\n",
      "\n",
      "    perm(n, k=None, /)\n",
      "        Number of ways to choose k items from n items without repetition and with order.\n",
      "\n",
      "        Evaluates to n! / (n - k)! when k <= n and evaluates\n",
      "        to zero when k > n.\n",
      "\n",
      "        If k is not specified or is None, then k defaults to n\n",
      "        and the function returns n!.\n",
      "\n",
      "        Raises TypeError if either of the arguments are not integers.\n",
      "        Raises ValueError if either of the arguments are negative.\n",
      "\n",
      "    pow(x, y, /)\n",
      "        Return x**y (x to the power of y).\n",
      "\n",
      "    prod(iterable, /, *, start=1)\n",
      "        Calculate the product of all the elements in the input iterable.\n",
      "\n",
      "        The default start value for the product is 1.\n",
      "\n",
      "        When the iterable is empty, return the start value.  This function is\n",
      "        intended specifically for use with numeric values and may reject\n",
      "        non-numeric types.\n",
      "\n",
      "    radians(x, /)\n",
      "        Convert angle x from degrees to radians.\n",
      "\n",
      "    remainder(x, y, /)\n",
      "        Difference between x and the closest integer multiple of y.\n",
      "\n",
      "        Return x - n*y where n*y is the closest integer multiple of y.\n",
      "        In the case where x is exactly halfway between two multiples of\n",
      "        y, the nearest even value of n is used. The result is always exact.\n",
      "\n",
      "    sin(x, /)\n",
      "        Return the sine of x (measured in radians).\n",
      "\n",
      "    sinh(x, /)\n",
      "        Return the hyperbolic sine of x.\n",
      "\n",
      "    sqrt(x, /)\n",
      "        Return the square root of x.\n",
      "\n",
      "    sumprod(p, q, /)\n",
      "        Return the sum of products of values from two iterables p and q.\n",
      "\n",
      "        Roughly equivalent to:\n",
      "\n",
      "            sum(itertools.starmap(operator.mul, zip(p, q, strict=True)))\n",
      "\n",
      "        For float and mixed int/float inputs, the intermediate products\n",
      "        and sums are computed with extended precision.\n",
      "\n",
      "    tan(x, /)\n",
      "        Return the tangent of x (measured in radians).\n",
      "\n",
      "    tanh(x, /)\n",
      "        Return the hyperbolic tangent of x.\n",
      "\n",
      "    trunc(x, /)\n",
      "        Truncates the Real x to the nearest Integral toward 0.\n",
      "\n",
      "        Uses the __trunc__ magic method.\n",
      "\n",
      "    ulp(x, /)\n",
      "        Return the value of the least significant bit of the float x.\n",
      "\n",
      "DATA\n",
      "    e = 2.718281828459045\n",
      "    inf = inf\n",
      "    nan = nan\n",
      "    pi = 3.141592653589793\n",
      "    tau = 6.283185307179586\n",
      "\n",
      "FILE\n",
      "    /Library/Frameworks/Python.framework/Versions/3.13/lib/python3.13/lib-dynload/math.cpython-313-darwin.so\n",
      "\n",
      "\n"
     ]
    }
   ],
   "source": [
    "help(math)"
   ]
  },
  {
   "cell_type": "code",
   "execution_count": null,
   "id": "5f917ad5-6bbb-4896-81a2-e9e4e92c51c3",
   "metadata": {},
   "outputs": [],
   "source": []
  },
  {
   "cell_type": "code",
   "execution_count": 77,
   "id": "771c66c6-fa8e-45f8-beae-dbc129646bd5",
   "metadata": {},
   "outputs": [
    {
     "data": {
      "text/plain": [
       "4311390528"
      ]
     },
     "execution_count": 77,
     "metadata": {},
     "output_type": "execute_result"
    }
   ],
   "source": [
    "id(math)"
   ]
  },
  {
   "cell_type": "code",
   "execution_count": 79,
   "id": "efe42e92-2657-4916-8a42-998f19e67b02",
   "metadata": {},
   "outputs": [
    {
     "data": {
      "text/plain": [
       "4311764560"
      ]
     },
     "execution_count": 79,
     "metadata": {},
     "output_type": "execute_result"
    }
   ],
   "source": [
    "import random\n",
    "id(random)"
   ]
  },
  {
   "cell_type": "code",
   "execution_count": 80,
   "id": "31b7af4f-560d-4af3-ae22-1bd769942afe",
   "metadata": {},
   "outputs": [],
   "source": [
    "new_variable = 35"
   ]
  },
  {
   "cell_type": "code",
   "execution_count": 81,
   "id": "83a3efca-7ca7-4fca-96a0-69f4eaa434f0",
   "metadata": {},
   "outputs": [
    {
     "data": {
      "text/plain": [
       "4329172640"
      ]
     },
     "execution_count": 81,
     "metadata": {},
     "output_type": "execute_result"
    }
   ],
   "source": [
    "id(new_variable)"
   ]
  },
  {
   "cell_type": "code",
   "execution_count": 84,
   "id": "4155d06d-2a61-4902-85ca-bbb075517c57",
   "metadata": {},
   "outputs": [],
   "source": [
    "mem_id = id(new_variable) # no point to this, because you can't do anything with this number"
   ]
  },
  {
   "cell_type": "code",
   "execution_count": 83,
   "id": "60bed6bb-aa99-46dd-b493-7bab96e6b5de",
   "metadata": {},
   "outputs": [
    {
     "data": {
      "text/plain": [
       "4329172640"
      ]
     },
     "execution_count": 83,
     "metadata": {},
     "output_type": "execute_result"
    }
   ],
   "source": [
    "mem_id"
   ]
  },
  {
   "cell_type": "code",
   "execution_count": 85,
   "id": "5c147491-aa39-4177-b7c0-53486718b534",
   "metadata": {},
   "outputs": [
    {
     "data": {
      "text/plain": [
       "4306543664"
      ]
     },
     "execution_count": 85,
     "metadata": {},
     "output_type": "execute_result"
    }
   ],
   "source": [
    "id(print)"
   ]
  },
  {
   "cell_type": "code",
   "execution_count": 86,
   "id": "2f9bfae5-1106-467a-89b6-ad5b293012f4",
   "metadata": {},
   "outputs": [
    {
     "data": {
      "text/plain": [
       "9"
      ]
     },
     "execution_count": 86,
     "metadata": {},
     "output_type": "execute_result"
    }
   ],
   "source": [
    "# examples of \"duck typing\"\n",
    "max(3, 1, 4, 2, 9, -1)"
   ]
  },
  {
   "cell_type": "code",
   "execution_count": 89,
   "id": "a387d538-efc5-4109-b850-7635dc48028d",
   "metadata": {},
   "outputs": [
    {
     "data": {
      "text/plain": [
       "9.22"
      ]
     },
     "execution_count": 89,
     "metadata": {},
     "output_type": "execute_result"
    }
   ],
   "source": [
    "max(3.0, 1.1, 4.2, 2.4, 9.22, -1)"
   ]
  },
  {
   "cell_type": "code",
   "execution_count": 91,
   "id": "8f2eba46-21ce-4eb3-ac64-f8ff1e05d05c",
   "metadata": {},
   "outputs": [
    {
     "data": {
      "text/plain": [
       "'pear'"
      ]
     },
     "execution_count": 91,
     "metadata": {},
     "output_type": "execute_result"
    }
   ],
   "source": [
    "max('fig', 'apple', 'pear', 'banana')"
   ]
  },
  {
   "cell_type": "code",
   "execution_count": 94,
   "id": "c4296b6f-2743-42a2-9f92-35528e1e27be",
   "metadata": {},
   "outputs": [
    {
     "data": {
      "text/plain": [
       "[2, 3]"
      ]
     },
     "execution_count": 94,
     "metadata": {},
     "output_type": "execute_result"
    }
   ],
   "source": [
    "max([1, 2], [-1, 1], [2, 3], [1, 1])"
   ]
  },
  {
   "cell_type": "code",
   "execution_count": 95,
   "id": "76eaba24-739e-4414-8f11-091f4651cfaa",
   "metadata": {},
   "outputs": [
    {
     "data": {
      "text/plain": [
       "6"
      ]
     },
     "execution_count": 95,
     "metadata": {},
     "output_type": "execute_result"
    }
   ],
   "source": [
    "len('string')"
   ]
  },
  {
   "cell_type": "code",
   "execution_count": 96,
   "id": "cf304c40-8511-4c96-9f0c-673476409478",
   "metadata": {},
   "outputs": [
    {
     "data": {
      "text/plain": [
       "4"
      ]
     },
     "execution_count": 96,
     "metadata": {},
     "output_type": "execute_result"
    }
   ],
   "source": [
    "len([1, 2, 3, 4])"
   ]
  },
  {
   "cell_type": "code",
   "execution_count": 97,
   "id": "4f191c1e-365c-49c9-8eb1-cb47381c094a",
   "metadata": {
    "scrolled": true
   },
   "outputs": [
    {
     "data": {
      "text/plain": [
       "3"
      ]
     },
     "execution_count": 97,
     "metadata": {},
     "output_type": "execute_result"
    }
   ],
   "source": [
    "len((2, 3, 4))"
   ]
  },
  {
   "cell_type": "code",
   "execution_count": 98,
   "id": "69e02dc8-8c0f-43ab-aa9b-56a47fdd2374",
   "metadata": {
    "scrolled": true
   },
   "outputs": [
    {
     "ename": "TypeError",
     "evalue": "object of type 'int' has no len()",
     "output_type": "error",
     "traceback": [
      "\u001b[0;31m---------------------------------------------------------------------------\u001b[0m",
      "\u001b[0;31mTypeError\u001b[0m                                 Traceback (most recent call last)",
      "Cell \u001b[0;32mIn[98], line 1\u001b[0m\n\u001b[0;32m----> 1\u001b[0m \u001b[38;5;28;43mlen\u001b[39;49m\u001b[43m(\u001b[49m\u001b[38;5;241;43m2\u001b[39;49m\u001b[43m)\u001b[49m\n",
      "\u001b[0;31mTypeError\u001b[0m: object of type 'int' has no len()"
     ]
    }
   ],
   "source": [
    "len(2)"
   ]
  },
  {
   "cell_type": "code",
   "execution_count": 99,
   "id": "480c83f0-dae5-48df-8afa-c7a2227f9bd7",
   "metadata": {},
   "outputs": [
    {
     "ename": "TypeError",
     "evalue": "object of type 'float' has no len()",
     "output_type": "error",
     "traceback": [
      "\u001b[0;31m---------------------------------------------------------------------------\u001b[0m",
      "\u001b[0;31mTypeError\u001b[0m                                 Traceback (most recent call last)",
      "Cell \u001b[0;32mIn[99], line 1\u001b[0m\n\u001b[0;32m----> 1\u001b[0m \u001b[38;5;28;43mlen\u001b[39;49m\u001b[43m(\u001b[49m\u001b[38;5;241;43m1.23\u001b[39;49m\u001b[43m)\u001b[49m\n",
      "\u001b[0;31mTypeError\u001b[0m: object of type 'float' has no len()"
     ]
    }
   ],
   "source": [
    "len(1.23)"
   ]
  },
  {
   "cell_type": "code",
   "execution_count": 101,
   "id": "9c5a9ad8-1271-4822-b3e2-fc4e7793959b",
   "metadata": {},
   "outputs": [],
   "source": [
    "string = 'Guido van Rossum' # a string is a container, also called an \"iterable\""
   ]
  },
  {
   "cell_type": "code",
   "execution_count": 104,
   "id": "321e98a4-fdec-4b16-8be5-e38312c897ec",
   "metadata": {},
   "outputs": [
    {
     "name": "stdout",
     "output_type": "stream",
     "text": [
      "G\n",
      "u\n",
      "i\n",
      "d\n",
      "o\n",
      " \n",
      "v\n",
      "a\n",
      "n\n",
      " \n",
      "R\n",
      "o\n",
      "s\n",
      "s\n",
      "u\n",
      "m\n"
     ]
    }
   ],
   "source": [
    "for character in string: # iteration... \"for thing in container\"\n",
    "    print(character) # every call to print(), by default, ends with a \\n"
   ]
  },
  {
   "cell_type": "code",
   "execution_count": 123,
   "id": "891160c5-2104-4ed9-bdf7-3252e1045c2c",
   "metadata": {},
   "outputs": [],
   "source": [
    "# let's build our own duck-typed function\n",
    "\n",
    "def iterate(iterable):\n",
    "    \"\"\"Iterate over the items in the iterable passed\"\"\"\n",
    "    for thing in iterable:\n",
    "        print(thing)"
   ]
  },
  {
   "cell_type": "code",
   "execution_count": 131,
   "id": "8b8f95e5-563b-46b2-9a87-328b5affd1b3",
   "metadata": {},
   "outputs": [
    {
     "data": {
      "text/plain": [
       "{'name': 'Dave', 'occupation': 'instructor', 'year_hired': 2015, 5: 'five'}"
      ]
     },
     "execution_count": 131,
     "metadata": {},
     "output_type": "execute_result"
    }
   ],
   "source": [
    "person = { 'name': 'Dave', 'occupation': 'instructor', 'year_hired': 2015, 5: 'five' }\n",
    "person"
   ]
  },
  {
   "cell_type": "code",
   "execution_count": 124,
   "id": "830baeb1-4fe1-4c09-bfb2-a33f57b85e43",
   "metadata": {},
   "outputs": [
    {
     "ename": "TypeError",
     "evalue": "iterate() takes 1 positional argument but 3 were given",
     "output_type": "error",
     "traceback": [
      "\u001b[0;31m---------------------------------------------------------------------------\u001b[0m",
      "\u001b[0;31mTypeError\u001b[0m                                 Traceback (most recent call last)",
      "Cell \u001b[0;32mIn[124], line 1\u001b[0m\n\u001b[0;32m----> 1\u001b[0m \u001b[43miterate\u001b[49m\u001b[43m(\u001b[49m\u001b[38;5;241;43m1\u001b[39;49m\u001b[43m,\u001b[49m\u001b[43m \u001b[49m\u001b[38;5;241;43m2\u001b[39;49m\u001b[43m,\u001b[49m\u001b[43m \u001b[49m\u001b[38;5;124;43m'\u001b[39;49m\u001b[38;5;124;43mthree\u001b[39;49m\u001b[38;5;124;43m'\u001b[39;49m\u001b[43m)\u001b[49m\n",
      "\u001b[0;31mTypeError\u001b[0m: iterate() takes 1 positional argument but 3 were given"
     ]
    }
   ],
   "source": [
    "iterate(1, 2, 'three')"
   ]
  },
  {
   "cell_type": "code",
   "execution_count": 125,
   "id": "e457ae83-61f0-442f-90cf-f90ef89ef953",
   "metadata": {},
   "outputs": [
    {
     "ename": "TypeError",
     "evalue": "'int' object is not iterable",
     "output_type": "error",
     "traceback": [
      "\u001b[0;31m---------------------------------------------------------------------------\u001b[0m",
      "\u001b[0;31mTypeError\u001b[0m                                 Traceback (most recent call last)",
      "Cell \u001b[0;32mIn[125], line 1\u001b[0m\n\u001b[0;32m----> 1\u001b[0m \u001b[43miterate\u001b[49m\u001b[43m(\u001b[49m\u001b[38;5;241;43m1\u001b[39;49m\u001b[43m)\u001b[49m\n",
      "Cell \u001b[0;32mIn[123], line 5\u001b[0m, in \u001b[0;36miterate\u001b[0;34m(iterable)\u001b[0m\n\u001b[1;32m      3\u001b[0m \u001b[38;5;28;01mdef\u001b[39;00m\u001b[38;5;250m \u001b[39m\u001b[38;5;21miterate\u001b[39m(iterable):\n\u001b[1;32m      4\u001b[0m \u001b[38;5;250m    \u001b[39m\u001b[38;5;124;03m\"\"\"Iterate over the items in the argument\"\"\"\u001b[39;00m\n\u001b[0;32m----> 5\u001b[0m \u001b[43m    \u001b[49m\u001b[38;5;28;43;01mfor\u001b[39;49;00m\u001b[43m \u001b[49m\u001b[43mthing\u001b[49m\u001b[43m \u001b[49m\u001b[38;5;129;43;01min\u001b[39;49;00m\u001b[43m \u001b[49m\u001b[43miterable\u001b[49m\u001b[43m:\u001b[49m\n\u001b[1;32m      6\u001b[0m \u001b[43m        \u001b[49m\u001b[38;5;28;43mprint\u001b[39;49m\u001b[43m(\u001b[49m\u001b[43mthing\u001b[49m\u001b[43m)\u001b[49m\n",
      "\u001b[0;31mTypeError\u001b[0m: 'int' object is not iterable"
     ]
    }
   ],
   "source": [
    "iterate(1)"
   ]
  },
  {
   "cell_type": "code",
   "execution_count": 126,
   "id": "40aee702-72ee-4cf8-90a7-46e23a45ca90",
   "metadata": {},
   "outputs": [
    {
     "name": "stdout",
     "output_type": "stream",
     "text": [
      "1\n",
      "2\n",
      "three\n"
     ]
    }
   ],
   "source": [
    "iterate([1, 2, 'three'])"
   ]
  },
  {
   "cell_type": "code",
   "execution_count": 127,
   "id": "7ccc8e53-55de-4c58-a68f-152c6d7d8400",
   "metadata": {},
   "outputs": [
    {
     "name": "stdout",
     "output_type": "stream",
     "text": [
      "s\n",
      "t\n",
      "r\n",
      "i\n",
      "n\n",
      "g\n"
     ]
    }
   ],
   "source": [
    "iterate('string')"
   ]
  },
  {
   "cell_type": "code",
   "execution_count": 128,
   "id": "d3646a89-f24e-470c-a155-e98fd6ac11a6",
   "metadata": {},
   "outputs": [
    {
     "name": "stdout",
     "output_type": "stream",
     "text": [
      "1\n",
      "2\n",
      "3\n"
     ]
    }
   ],
   "source": [
    "iterate({1, 2, 3})"
   ]
  },
  {
   "cell_type": "code",
   "execution_count": 110,
   "id": "fad658cf-5823-4f54-b836-f5c984b26832",
   "metadata": {},
   "outputs": [],
   "source": [
    "string = 'thing'"
   ]
  },
  {
   "cell_type": "code",
   "execution_count": 111,
   "id": "12567441-e34c-4967-8a9c-5ac5ea94555f",
   "metadata": {},
   "outputs": [],
   "source": [
    "string = \"thing\""
   ]
  },
  {
   "cell_type": "code",
   "execution_count": 112,
   "id": "801c14fe-d2cf-4557-adab-2f3ef0260fd7",
   "metadata": {},
   "outputs": [],
   "source": [
    "string = \"\"\"This string\n",
    "spans multiple lines\n",
    "because Guido so graciously\n",
    "gave us the triple quote construct.\"\"\" # also ''' ... '''"
   ]
  },
  {
   "cell_type": "code",
   "execution_count": 114,
   "id": "7bc40259-b4ad-43d4-8cc1-635a5538de4d",
   "metadata": {},
   "outputs": [
    {
     "name": "stdout",
     "output_type": "stream",
     "text": [
      "This string\n",
      "spans multiple lines\n",
      "because Guido so graciously\n",
      "gave us the triple quote construct.\n"
     ]
    }
   ],
   "source": [
    "print(string)"
   ]
  },
  {
   "cell_type": "code",
   "execution_count": 132,
   "id": "4ffc7e2c-684e-477d-93c8-74964ca05c2a",
   "metadata": {},
   "outputs": [],
   "source": [
    "name = 'dave'"
   ]
  },
  {
   "cell_type": "code",
   "execution_count": 134,
   "id": "20850287-cb85-41ff-ac19-e60f52fecf2c",
   "metadata": {
    "scrolled": true
   },
   "outputs": [
    {
     "ename": "TypeError",
     "evalue": "'str' object does not support item assignment",
     "output_type": "error",
     "traceback": [
      "\u001b[0;31m---------------------------------------------------------------------------\u001b[0m",
      "\u001b[0;31mTypeError\u001b[0m                                 Traceback (most recent call last)",
      "Cell \u001b[0;32mIn[134], line 1\u001b[0m\n\u001b[0;32m----> 1\u001b[0m \u001b[43mname\u001b[49m\u001b[43m[\u001b[49m\u001b[38;5;241;43m0\u001b[39;49m\u001b[43m]\u001b[49m \u001b[38;5;241m=\u001b[39m \u001b[38;5;124m'\u001b[39m\u001b[38;5;124mD\u001b[39m\u001b[38;5;124m'\u001b[39m\n",
      "\u001b[0;31mTypeError\u001b[0m: 'str' object does not support item assignment"
     ]
    }
   ],
   "source": [
    "name[0] = 'D'"
   ]
  },
  {
   "cell_type": "code",
   "execution_count": 135,
   "id": "65a8cd19-69ed-4241-b595-7ed2d39d670c",
   "metadata": {},
   "outputs": [],
   "source": [
    "name = 'Dave'"
   ]
  },
  {
   "cell_type": "code",
   "execution_count": 136,
   "id": "146c1e44-a350-411a-af9e-3b1bd6a4fef0",
   "metadata": {},
   "outputs": [],
   "source": [
    "number = 4"
   ]
  },
  {
   "cell_type": "code",
   "execution_count": 137,
   "id": "6fbeaa2b-be13-441e-b80b-264ba8410b1d",
   "metadata": {},
   "outputs": [],
   "source": [
    "number = 3"
   ]
  },
  {
   "cell_type": "code",
   "execution_count": 140,
   "id": "eb8bd7fc-9c57-4d0b-bdcf-5a895f0f2135",
   "metadata": {},
   "outputs": [],
   "source": [
    "number = 1234"
   ]
  },
  {
   "cell_type": "code",
   "execution_count": 141,
   "id": "7dc3b3a6-f058-4f84-a628-ce51a3b35872",
   "metadata": {},
   "outputs": [],
   "source": [
    "string = '01234'"
   ]
  },
  {
   "cell_type": "code",
   "execution_count": 142,
   "id": "7cbbdc45-74a0-49a1-bdd4-4aa2957d65f9",
   "metadata": {},
   "outputs": [
    {
     "data": {
      "text/plain": [
       "'0'"
      ]
     },
     "execution_count": 142,
     "metadata": {},
     "output_type": "execute_result"
    }
   ],
   "source": [
    "string[0]"
   ]
  },
  {
   "cell_type": "code",
   "execution_count": 144,
   "id": "13db51e6-e147-4dd1-9c79-5a46cc761f6d",
   "metadata": {},
   "outputs": [
    {
     "data": {
      "text/plain": [
       "'4'"
      ]
     },
     "execution_count": 144,
     "metadata": {},
     "output_type": "execute_result"
    }
   ],
   "source": [
    "string[-1] # negative indexing counts in from the end, backwards"
   ]
  },
  {
   "cell_type": "code",
   "execution_count": 145,
   "id": "8b4fe3d4-2328-4a48-b171-c2a068ca678f",
   "metadata": {},
   "outputs": [],
   "source": [
    "numbers = [23, 45, 17, -1, 12]"
   ]
  },
  {
   "cell_type": "code",
   "execution_count": 146,
   "id": "e24c649e-5475-4a73-92ec-df4dae9805f2",
   "metadata": {},
   "outputs": [
    {
     "data": {
      "text/plain": [
       "5"
      ]
     },
     "execution_count": 146,
     "metadata": {},
     "output_type": "execute_result"
    }
   ],
   "source": [
    "len(numbers)"
   ]
  },
  {
   "cell_type": "code",
   "execution_count": 151,
   "id": "23dbd493-58c9-4b27-90d4-9cc7a2dfa9ce",
   "metadata": {},
   "outputs": [
    {
     "data": {
      "text/plain": [
       "12"
      ]
     },
     "execution_count": 151,
     "metadata": {},
     "output_type": "execute_result"
    }
   ],
   "source": [
    "numbers[len(numbers) - 1]"
   ]
  },
  {
   "cell_type": "code",
   "execution_count": 148,
   "id": "8228a6e8-4c5d-4e53-9927-6a82705d2b95",
   "metadata": {},
   "outputs": [
    {
     "data": {
      "text/plain": [
       "12"
      ]
     },
     "execution_count": 148,
     "metadata": {},
     "output_type": "execute_result"
    }
   ],
   "source": [
    "numbers[-1] # advantages? 1. No len() required 2. less typing"
   ]
  },
  {
   "cell_type": "code",
   "execution_count": 153,
   "id": "4d74cd61-2f8d-4162-8a3b-e3d40854bfff",
   "metadata": {},
   "outputs": [],
   "source": [
    "fruits = 'apple fig orange banana pear'.split()\n",
    "# fruits = ['apple', 'fig', 'orange', 'banana', 'pear']"
   ]
  },
  {
   "cell_type": "code",
   "execution_count": 154,
   "id": "d024c722-44ba-4a05-b6ad-8e6f1113a1dc",
   "metadata": {},
   "outputs": [
    {
     "data": {
      "text/plain": [
       "['apple', 'fig', 'orange', 'banana', 'pear']"
      ]
     },
     "execution_count": 154,
     "metadata": {},
     "output_type": "execute_result"
    }
   ],
   "source": [
    "fruits"
   ]
  },
  {
   "cell_type": "code",
   "execution_count": 156,
   "id": "9a87a65a-a7a3-4901-8666-82a68025dc98",
   "metadata": {},
   "outputs": [
    {
     "data": {
      "text/plain": [
       "'fig'"
      ]
     },
     "execution_count": 156,
     "metadata": {},
     "output_type": "execute_result"
    }
   ],
   "source": [
    "fruits[1]"
   ]
  },
  {
   "cell_type": "code",
   "execution_count": 157,
   "id": "fd194ea6-1d5d-4678-a0b2-65201dd84554",
   "metadata": {},
   "outputs": [],
   "source": [
    "# arrays are homogeneous–all items are the same type"
   ]
  },
  {
   "cell_type": "code",
   "execution_count": 158,
   "id": "75bf086e-4161-4094-aa5c-613a5d758e4c",
   "metadata": {},
   "outputs": [],
   "source": [
    "weird_list = [1, 'one', { 1: 'won' }]"
   ]
  },
  {
   "cell_type": "code",
   "execution_count": 159,
   "id": "3aef2654-f7a9-417c-97ae-d0205c851a0f",
   "metadata": {},
   "outputs": [
    {
     "data": {
      "text/plain": [
       "[1, 'one', {1: 'won'}]"
      ]
     },
     "execution_count": 159,
     "metadata": {},
     "output_type": "execute_result"
    }
   ],
   "source": [
    "weird_list"
   ]
  },
  {
   "cell_type": "code",
   "execution_count": 160,
   "id": "dc0c732d-b8ab-466f-81f3-65ffccea8df9",
   "metadata": {},
   "outputs": [],
   "source": [
    "# any comma-separated sequence of objects is a tuple\n",
    "employee = 'Cordani', 'David', 1, '212-555-1212', 'Connecticut', 2013"
   ]
  },
  {
   "cell_type": "code",
   "execution_count": 161,
   "id": "319fe5fe-1221-4ee0-a60d-ff2f132511e5",
   "metadata": {},
   "outputs": [
    {
     "data": {
      "text/plain": [
       "('Cordani', 'David', 1, '212-555-1212', 'Connecticut', 2013)"
      ]
     },
     "execution_count": 161,
     "metadata": {},
     "output_type": "execute_result"
    }
   ],
   "source": [
    "employee"
   ]
  },
  {
   "cell_type": "code",
   "execution_count": 162,
   "id": "6965539b-c122-4284-a0e9-48b7906dc8ee",
   "metadata": {},
   "outputs": [
    {
     "data": {
      "text/plain": [
       "tuple"
      ]
     },
     "execution_count": 162,
     "metadata": {},
     "output_type": "execute_result"
    }
   ],
   "source": [
    "type(employee)"
   ]
  },
  {
   "cell_type": "code",
   "execution_count": 164,
   "id": "b0f7ebcd-2ed1-4e6a-90de-39950d50b8fd",
   "metadata": {},
   "outputs": [
    {
     "data": {
      "text/plain": [
       "'Cordani'"
      ]
     },
     "execution_count": 164,
     "metadata": {},
     "output_type": "execute_result"
    }
   ],
   "source": [
    "employee[0]"
   ]
  },
  {
   "cell_type": "code",
   "execution_count": 165,
   "id": "292a88e2-223d-4a41-a12d-dd53c5fffbcc",
   "metadata": {},
   "outputs": [
    {
     "data": {
      "text/plain": [
       "2013"
      ]
     },
     "execution_count": 165,
     "metadata": {},
     "output_type": "execute_result"
    }
   ],
   "source": [
    "employee[-1]"
   ]
  },
  {
   "cell_type": "code",
   "execution_count": 166,
   "id": "9ca7152b-c20c-4484-92f8-294f98312717",
   "metadata": {},
   "outputs": [
    {
     "ename": "TypeError",
     "evalue": "'tuple' object does not support item assignment",
     "output_type": "error",
     "traceback": [
      "\u001b[0;31m---------------------------------------------------------------------------\u001b[0m",
      "\u001b[0;31mTypeError\u001b[0m                                 Traceback (most recent call last)",
      "Cell \u001b[0;32mIn[166], line 1\u001b[0m\n\u001b[0;32m----> 1\u001b[0m \u001b[43memployee\u001b[49m\u001b[43m[\u001b[49m\u001b[38;5;241;43m-\u001b[39;49m\u001b[38;5;241;43m1\u001b[39;49m\u001b[43m]\u001b[49m \u001b[38;5;241m=\u001b[39m \u001b[38;5;241m2014\u001b[39m\n",
      "\u001b[0;31mTypeError\u001b[0m: 'tuple' object does not support item assignment"
     ]
    }
   ],
   "source": [
    "employee[-1] = 2014"
   ]
  },
  {
   "cell_type": "code",
   "execution_count": 167,
   "id": "08551b80-d497-48ec-a989-21c8b8a35fa0",
   "metadata": {},
   "outputs": [
    {
     "ename": "TypeError",
     "evalue": "'str' object does not support item assignment",
     "output_type": "error",
     "traceback": [
      "\u001b[0;31m---------------------------------------------------------------------------\u001b[0m",
      "\u001b[0;31mTypeError\u001b[0m                                 Traceback (most recent call last)",
      "Cell \u001b[0;32mIn[167], line 2\u001b[0m\n\u001b[1;32m      1\u001b[0m name \u001b[38;5;241m=\u001b[39m \u001b[38;5;124m'\u001b[39m\u001b[38;5;124mdave\u001b[39m\u001b[38;5;124m'\u001b[39m\n\u001b[0;32m----> 2\u001b[0m \u001b[43mname\u001b[49m\u001b[43m[\u001b[49m\u001b[38;5;241;43m0\u001b[39;49m\u001b[43m]\u001b[49m \u001b[38;5;241m=\u001b[39m \u001b[38;5;124m'\u001b[39m\u001b[38;5;124mD\u001b[39m\u001b[38;5;124m'\u001b[39m\n",
      "\u001b[0;31mTypeError\u001b[0m: 'str' object does not support item assignment"
     ]
    }
   ],
   "source": [
    "name = 'dave'\n",
    "name[0] = 'D'"
   ]
  },
  {
   "cell_type": "code",
   "execution_count": 168,
   "id": "a796b6a1-d561-4d59-ac63-a9350b5e5f7d",
   "metadata": {},
   "outputs": [],
   "source": [
    "first_name = 'David'\n",
    "last_name = 'Cordani'\n",
    "tuple_of_vars = first_name, last_name"
   ]
  },
  {
   "cell_type": "code",
   "execution_count": 169,
   "id": "f5d48bcc-3fcd-4762-8776-9947e0aa731c",
   "metadata": {},
   "outputs": [
    {
     "data": {
      "text/plain": [
       "('David', 'Cordani')"
      ]
     },
     "execution_count": 169,
     "metadata": {},
     "output_type": "execute_result"
    }
   ],
   "source": [
    "tuple_of_vars"
   ]
  },
  {
   "cell_type": "code",
   "execution_count": 170,
   "id": "a692d628-e697-46fc-a576-bcbd9823b899",
   "metadata": {},
   "outputs": [],
   "source": [
    "first_name = 'Dave'"
   ]
  },
  {
   "cell_type": "code",
   "execution_count": 171,
   "id": "41b0066c-9bba-4cec-817a-b09b8f619c72",
   "metadata": {},
   "outputs": [
    {
     "data": {
      "text/plain": [
       "('David', 'Cordani')"
      ]
     },
     "execution_count": 171,
     "metadata": {},
     "output_type": "execute_result"
    }
   ],
   "source": [
    "tuple_of_vars"
   ]
  },
  {
   "cell_type": "code",
   "execution_count": 172,
   "id": "8e04232c-f8a8-4317-b9f9-f72d988b0266",
   "metadata": {},
   "outputs": [
    {
     "data": {
      "text/plain": [
       "(4329171552, 4329171552)"
      ]
     },
     "execution_count": 172,
     "metadata": {},
     "output_type": "execute_result"
    }
   ],
   "source": [
    "x = 1\n",
    "y = 1\n",
    "id(x), id(y)"
   ]
  },
  {
   "cell_type": "code",
   "execution_count": 173,
   "id": "7b2ea177-5c82-4756-b064-ec6f7160b787",
   "metadata": {},
   "outputs": [
    {
     "data": {
      "text/plain": [
       "4329171584"
      ]
     },
     "execution_count": 173,
     "metadata": {},
     "output_type": "execute_result"
    }
   ],
   "source": [
    "x = 2\n",
    "id(x)"
   ]
  },
  {
   "cell_type": "code",
   "execution_count": 174,
   "id": "cd85dbb6-bb8c-4aae-b26e-43fcc5a4efe1",
   "metadata": {},
   "outputs": [
    {
     "data": {
      "text/plain": [
       "4329171552"
      ]
     },
     "execution_count": 174,
     "metadata": {},
     "output_type": "execute_result"
    }
   ],
   "source": [
    "id(1)"
   ]
  },
  {
   "cell_type": "code",
   "execution_count": 175,
   "id": "ecb63552-dd17-493f-8a28-8bfb6257f9df",
   "metadata": {},
   "outputs": [
    {
     "data": {
      "text/plain": [
       "4435665152"
      ]
     },
     "execution_count": 175,
     "metadata": {},
     "output_type": "execute_result"
    }
   ],
   "source": [
    "mylist = [1, 2]\n",
    "id(mylist)"
   ]
  },
  {
   "cell_type": "code",
   "execution_count": 176,
   "id": "e97fdb65-d88b-4309-a84d-5d47ec8e4a75",
   "metadata": {},
   "outputs": [
    {
     "data": {
      "text/plain": [
       "4436352704"
      ]
     },
     "execution_count": 176,
     "metadata": {},
     "output_type": "execute_result"
    }
   ],
   "source": [
    "mylist = [1, 2]\n",
    "id(mylist)"
   ]
  },
  {
   "cell_type": "code",
   "execution_count": 177,
   "id": "567dac92-67ba-4bde-9bc2-a33b9956d028",
   "metadata": {},
   "outputs": [
    {
     "data": {
      "text/plain": [
       "(4329171552, 4329171584)"
      ]
     },
     "execution_count": 177,
     "metadata": {},
     "output_type": "execute_result"
    }
   ],
   "source": [
    "id(1), id(2)"
   ]
  },
  {
   "cell_type": "code",
   "execution_count": 178,
   "id": "2a713f6b-b812-4221-9623-488163b9531f",
   "metadata": {},
   "outputs": [
    {
     "data": {
      "text/plain": [
       "(4329171552, 4329171552)"
      ]
     },
     "execution_count": 178,
     "metadata": {},
     "output_type": "execute_result"
    }
   ],
   "source": [
    "x = 1\n",
    "id(x), id(1)"
   ]
  },
  {
   "cell_type": "code",
   "execution_count": 180,
   "id": "6aa5d09f-02a3-4a9b-844d-c17a21d92bcb",
   "metadata": {},
   "outputs": [],
   "source": [
    "y = 1"
   ]
  },
  {
   "cell_type": "code",
   "execution_count": 181,
   "id": "a1b86149-d56c-49e9-9fee-3ebeef7bdf72",
   "metadata": {},
   "outputs": [],
   "source": [
    "x += 1 # x is now 2"
   ]
  },
  {
   "cell_type": "code",
   "execution_count": 182,
   "id": "60fb0afd-e547-4f58-9761-d790a073aadb",
   "metadata": {},
   "outputs": [
    {
     "data": {
      "text/plain": [
       "(4329171584, 4329171584)"
      ]
     },
     "execution_count": 182,
     "metadata": {},
     "output_type": "execute_result"
    }
   ],
   "source": [
    "id(x), id(2)"
   ]
  },
  {
   "cell_type": "code",
   "execution_count": 183,
   "id": "421dcd6a-2e19-442a-b9a0-4e179591edf8",
   "metadata": {},
   "outputs": [],
   "source": [
    "new_thing = 'new thing!'"
   ]
  },
  {
   "cell_type": "code",
   "execution_count": 187,
   "id": "3b24b2f6-58e9-4e0f-80aa-9b07d655e4b6",
   "metadata": {},
   "outputs": [],
   "source": [
    "list_of_ones = [1] * 1_000_000 # list with 100 1's"
   ]
  },
  {
   "cell_type": "code",
   "execution_count": 188,
   "id": "892f3bf6-868b-4158-9595-dfb3c61e52ad",
   "metadata": {},
   "outputs": [
    {
     "data": {
      "text/plain": [
       "1000000"
      ]
     },
     "execution_count": 188,
     "metadata": {},
     "output_type": "execute_result"
    }
   ],
   "source": [
    "len(list_of_ones)"
   ]
  },
  {
   "cell_type": "code",
   "execution_count": 189,
   "id": "b28f5c2e-e20c-473d-a67d-531606cb9fa4",
   "metadata": {},
   "outputs": [],
   "source": [
    "employee = 'Cardoni', 'David', 'CEO', 1, '212-555-1212'"
   ]
  },
  {
   "cell_type": "code",
   "execution_count": 191,
   "id": "5830a842-5c24-4390-b28d-fed6a7266581",
   "metadata": {},
   "outputs": [
    {
     "data": {
      "text/plain": [
       "'CEO'"
      ]
     },
     "execution_count": 191,
     "metadata": {},
     "output_type": "execute_result"
    }
   ],
   "source": [
    "# good old indexing\n",
    "job_title = employee[2]\n",
    "job_title"
   ]
  },
  {
   "cell_type": "code",
   "execution_count": 195,
   "id": "8f1eac45-36a2-4f42-ab8c-0461eb04587e",
   "metadata": {},
   "outputs": [],
   "source": [
    "# tuple unpacking\n",
    "last_name, first_name, title, employee_id, phone = employee"
   ]
  },
  {
   "cell_type": "code",
   "execution_count": 196,
   "id": "3ccf7ed1-3687-4559-9255-87fdde45b2c9",
   "metadata": {},
   "outputs": [
    {
     "data": {
      "text/plain": [
       "'Cardoni'"
      ]
     },
     "execution_count": 196,
     "metadata": {},
     "output_type": "execute_result"
    }
   ],
   "source": [
    "last_name"
   ]
  },
  {
   "cell_type": "code",
   "execution_count": 197,
   "id": "2f9a86a9-d838-4366-9365-ea1f7bca236f",
   "metadata": {},
   "outputs": [],
   "source": [
    "_, _, title, _, phone = employee"
   ]
  },
  {
   "cell_type": "code",
   "execution_count": 198,
   "id": "149d5d66-16b2-4573-a24f-7b31246f383d",
   "metadata": {},
   "outputs": [],
   "source": [
    "last_name, *rest = employee"
   ]
  },
  {
   "cell_type": "code",
   "execution_count": 199,
   "id": "1799baac-a1cc-422b-8f72-01f56989d18f",
   "metadata": {},
   "outputs": [
    {
     "data": {
      "text/plain": [
       "'Cardoni'"
      ]
     },
     "execution_count": 199,
     "metadata": {},
     "output_type": "execute_result"
    }
   ],
   "source": [
    "last_name"
   ]
  },
  {
   "cell_type": "code",
   "execution_count": 200,
   "id": "7ef44c7e-f202-4cbe-9e15-807ccaf9c063",
   "metadata": {},
   "outputs": [
    {
     "data": {
      "text/plain": [
       "['David', 'CEO', 1, '212-555-1212']"
      ]
     },
     "execution_count": 200,
     "metadata": {},
     "output_type": "execute_result"
    }
   ],
   "source": [
    "rest"
   ]
  },
  {
   "cell_type": "code",
   "execution_count": 201,
   "id": "40cc88c5-0204-4d0d-b9ae-16f557051d80",
   "metadata": {},
   "outputs": [],
   "source": [
    "last_name, *rest, phone = employee"
   ]
  },
  {
   "cell_type": "code",
   "execution_count": 203,
   "id": "aaf1a129-eecb-47f0-ad46-19c408b91b12",
   "metadata": {},
   "outputs": [
    {
     "data": {
      "text/plain": [
       "('Cardoni', '212-555-1212')"
      ]
     },
     "execution_count": 203,
     "metadata": {},
     "output_type": "execute_result"
    }
   ],
   "source": [
    "last_name, phone"
   ]
  },
  {
   "cell_type": "code",
   "execution_count": 204,
   "id": "7aa75fcd-f62a-4147-af0f-e1739047fc21",
   "metadata": {},
   "outputs": [
    {
     "data": {
      "text/plain": [
       "['David', 'CEO', 1]"
      ]
     },
     "execution_count": 204,
     "metadata": {},
     "output_type": "execute_result"
    }
   ],
   "source": [
    "rest"
   ]
  },
  {
   "cell_type": "code",
   "execution_count": 205,
   "id": "7ba13d82-ec24-421b-af74-b3464c193ec8",
   "metadata": {},
   "outputs": [],
   "source": [
    "last_name, *_, phone = employee # * = \"unpack operator\""
   ]
  },
  {
   "cell_type": "code",
   "execution_count": 211,
   "id": "296f0168-e615-4723-9f77-a8f67e760ab5",
   "metadata": {},
   "outputs": [
    {
     "name": "stdout",
     "output_type": "stream",
     "text": [
      "[1, 2, 3, 4, 5, 6, 7, 8, 9, 10]\n"
     ]
    }
   ],
   "source": [
    "nums = list(range(1, 11))\n",
    "print(nums)"
   ]
  },
  {
   "cell_type": "code",
   "execution_count": 212,
   "id": "1eac5b89-5e7f-43d9-a7c9-c8d1f7a27b6d",
   "metadata": {},
   "outputs": [],
   "source": [
    "first, *rest, last = nums"
   ]
  },
  {
   "cell_type": "code",
   "execution_count": 213,
   "id": "dfe8a791-d2d9-4c57-89d4-e0433fceac1a",
   "metadata": {},
   "outputs": [
    {
     "data": {
      "text/plain": [
       "1"
      ]
     },
     "execution_count": 213,
     "metadata": {},
     "output_type": "execute_result"
    }
   ],
   "source": [
    "first"
   ]
  },
  {
   "cell_type": "code",
   "execution_count": 220,
   "id": "3ea480d9-ec7f-4485-a68d-31732c45b70a",
   "metadata": {},
   "outputs": [
    {
     "data": {
      "text/plain": [
       "[1, 2, 3, 4, 5, 6, 7, 8]"
      ]
     },
     "execution_count": 220,
     "metadata": {},
     "output_type": "execute_result"
    }
   ],
   "source": [
    "rest"
   ]
  },
  {
   "cell_type": "code",
   "execution_count": 216,
   "id": "5701eb07-3815-4edd-9e85-74c7d6f9ef17",
   "metadata": {},
   "outputs": [],
   "source": [
    "*rest, penultimate, last = nums"
   ]
  },
  {
   "cell_type": "code",
   "execution_count": 217,
   "id": "c833d729-96d8-4df3-977e-8be24dd26e4e",
   "metadata": {},
   "outputs": [
    {
     "data": {
      "text/plain": [
       "9"
      ]
     },
     "execution_count": 217,
     "metadata": {},
     "output_type": "execute_result"
    }
   ],
   "source": [
    "penultimate"
   ]
  },
  {
   "cell_type": "code",
   "execution_count": 218,
   "id": "9785a656-56ec-46bf-813f-9ee0dc9cceed",
   "metadata": {},
   "outputs": [
    {
     "data": {
      "text/plain": [
       "10"
      ]
     },
     "execution_count": 218,
     "metadata": {},
     "output_type": "execute_result"
    }
   ],
   "source": [
    "last"
   ]
  },
  {
   "cell_type": "code",
   "execution_count": 219,
   "id": "342e96ee-6ab0-4ec6-b40c-f01878ca2d81",
   "metadata": {},
   "outputs": [
    {
     "data": {
      "text/plain": [
       "[1, 2, 3, 4, 5, 6, 7, 8]"
      ]
     },
     "execution_count": 219,
     "metadata": {},
     "output_type": "execute_result"
    }
   ],
   "source": [
    "rest"
   ]
  },
  {
   "cell_type": "code",
   "execution_count": 223,
   "id": "a1028776-970b-438b-891b-6f2708a4274a",
   "metadata": {},
   "outputs": [],
   "source": [
    "def func(x, y, z):\n",
    "    # this function takes 3 arguments\n",
    "    print(x, y, z)"
   ]
  },
  {
   "cell_type": "code",
   "execution_count": 226,
   "id": "e0870ab0-29fb-4c18-ae42-df3d31175561",
   "metadata": {},
   "outputs": [
    {
     "name": "stdout",
     "output_type": "stream",
     "text": [
      "1 2 3\n",
      "1 2 3\n"
     ]
    }
   ],
   "source": [
    "nums = [1, 2, 3]\n",
    "func(*nums) # * means unpack the list into its constituent parts\n",
    "func(nums[0], nums[1], nums[2])"
   ]
  },
  {
   "cell_type": "code",
   "execution_count": 221,
   "id": "ecd7ba3b-75f7-43bb-bc32-9adcdea97288",
   "metadata": {},
   "outputs": [
    {
     "name": "stdout",
     "output_type": "stream",
     "text": [
      "1 blah\n",
      "2 blah\n",
      "3 blah\n",
      "4 blah\n",
      "5 blah\n"
     ]
    }
   ],
   "source": [
    "for count in range(1, 6):\n",
    "    print(count, 'blah') # loop variable is being used in body of loop"
   ]
  },
  {
   "cell_type": "code",
   "execution_count": 222,
   "id": "3969bfb8-16ca-4ac8-b013-49dc4b62bd61",
   "metadata": {},
   "outputs": [
    {
     "name": "stdout",
     "output_type": "stream",
     "text": [
      "blah\n",
      "blah\n",
      "blah\n",
      "blah\n",
      "blah\n"
     ]
    }
   ],
   "source": [
    "for count in range(1, 6): # we're not using count, so let's get rid of it\n",
    "    print('blah')         # reader can't tell which kind of loop this is:\n",
    "                          # count from 1 to 6 (not inclusive)\n",
    "                          # do something 5 times"
   ]
  },
  {
   "cell_type": "code",
   "execution_count": null,
   "id": "73043f36-51bd-44bf-837b-a578abf151ee",
   "metadata": {},
   "outputs": [],
   "source": [
    "for _ in range(5): # \"do this 5 times\"\n",
    "    print('blah')"
   ]
  },
  {
   "cell_type": "code",
   "execution_count": 228,
   "id": "bd0148a9-021c-424d-8e28-2a0b3f0d5a0e",
   "metadata": {},
   "outputs": [],
   "source": [
    "def func(x, y, z, color='pink', debug='on', count=5):\n",
    "    print(x, y, z)\n",
    "    print(color, debug, count)"
   ]
  },
  {
   "cell_type": "code",
   "execution_count": 229,
   "id": "825242f3-7ed3-4e7b-871c-e4e69e11a7fc",
   "metadata": {},
   "outputs": [
    {
     "name": "stdout",
     "output_type": "stream",
     "text": [
      "1 2 3\n",
      "pink on 5\n"
     ]
    }
   ],
   "source": [
    "func(1, 2, 3)"
   ]
  },
  {
   "cell_type": "code",
   "execution_count": 230,
   "id": "a4b1de44-7796-433d-85a6-15ee750b6207",
   "metadata": {},
   "outputs": [
    {
     "name": "stdout",
     "output_type": "stream",
     "text": [
      "1 2 3\n",
      "pink on -1\n"
     ]
    }
   ],
   "source": [
    "func(1, 2, 3, count=-1)"
   ]
  },
  {
   "cell_type": "code",
   "execution_count": 232,
   "id": "db4dd843-203c-4762-9def-169f3b49530d",
   "metadata": {},
   "outputs": [],
   "source": [
    "mysettings = {\n",
    "    'color': 'green',\n",
    "    'count': 1234,\n",
    "    'debug': 'off',\n",
    "}"
   ]
  },
  {
   "cell_type": "code",
   "execution_count": 236,
   "id": "7caaa4a9-c74e-4539-9189-699df38f150f",
   "metadata": {},
   "outputs": [
    {
     "name": "stdout",
     "output_type": "stream",
     "text": [
      "3 4 5\n",
      "green off 1234\n"
     ]
    }
   ],
   "source": [
    "func(3, 4, 5, **mysettings) # ** unpacking a dict"
   ]
  },
  {
   "cell_type": "code",
   "execution_count": 239,
   "id": "8107c78c-4254-442d-a3f9-5e784a5d449b",
   "metadata": {
    "scrolled": true
   },
   "outputs": [
    {
     "ename": "TypeError",
     "evalue": "func() got an unexpected keyword argument 'blah'",
     "output_type": "error",
     "traceback": [
      "\u001b[0;31m---------------------------------------------------------------------------\u001b[0m",
      "\u001b[0;31mTypeError\u001b[0m                                 Traceback (most recent call last)",
      "Cell \u001b[0;32mIn[239], line 1\u001b[0m\n\u001b[0;32m----> 1\u001b[0m \u001b[43mfunc\u001b[49m\u001b[43m(\u001b[49m\u001b[38;5;241;43m3\u001b[39;49m\u001b[43m,\u001b[49m\u001b[43m \u001b[49m\u001b[38;5;241;43m4\u001b[39;49m\u001b[43m,\u001b[49m\u001b[43m \u001b[49m\u001b[38;5;241;43m5\u001b[39;49m\u001b[43m,\u001b[49m\u001b[43m \u001b[49m\u001b[43mcolor\u001b[49m\u001b[38;5;241;43m=\u001b[39;49m\u001b[38;5;124;43m'\u001b[39;49m\u001b[38;5;124;43mgreen\u001b[39;49m\u001b[38;5;124;43m'\u001b[39;49m\u001b[43m,\u001b[49m\u001b[43m \u001b[49m\u001b[43mcount\u001b[49m\u001b[38;5;241;43m=\u001b[39;49m\u001b[38;5;124;43m'\u001b[39;49m\u001b[38;5;124;43m1234\u001b[39;49m\u001b[38;5;124;43m'\u001b[39;49m\u001b[43m,\u001b[49m\u001b[43m \u001b[49m\u001b[43mblah\u001b[49m\u001b[38;5;241;43m=\u001b[39;49m\u001b[38;5;124;43m'\u001b[39;49m\u001b[38;5;124;43moff\u001b[39;49m\u001b[38;5;124;43m'\u001b[39;49m\u001b[43m)\u001b[49m\n",
      "\u001b[0;31mTypeError\u001b[0m: func() got an unexpected keyword argument 'blah'"
     ]
    }
   ],
   "source": [
    "func(3, 4, 5, color='green', count='1234', debug='off')"
   ]
  },
  {
   "cell_type": "code",
   "execution_count": 240,
   "id": "903c092a-3a86-4fee-9055-430398144a74",
   "metadata": {},
   "outputs": [],
   "source": [
    "def func(x, y, z, *args):\n",
    "    print(x, y, z) # required\n",
    "    print(args) # optional 0+ args"
   ]
  },
  {
   "cell_type": "code",
   "execution_count": 243,
   "id": "88ca5988-e155-418e-8c42-0aa5000fa063",
   "metadata": {},
   "outputs": [
    {
     "name": "stdout",
     "output_type": "stream",
     "text": [
      "1 2 3\n",
      "(4, 5, 6)\n"
     ]
    }
   ],
   "source": [
    "func(1, 2, 3, 4, 5, 6)"
   ]
  },
  {
   "cell_type": "code",
   "execution_count": 244,
   "id": "7a7e392a-9f9e-45ba-b02a-31cdd9855f37",
   "metadata": {},
   "outputs": [
    {
     "name": "stdout",
     "output_type": "stream",
     "text": [
      "1 2 3\n",
      "('buckle', 'my', 'shoe')\n"
     ]
    }
   ],
   "source": [
    "func(1, 2, 3, 'buckle', 'my', 'shoe')"
   ]
  },
  {
   "cell_type": "code",
   "execution_count": 245,
   "id": "13141a82-c9cb-41f3-936e-713a3bfe1064",
   "metadata": {},
   "outputs": [
    {
     "name": "stdout",
     "output_type": "stream",
     "text": [
      "1 2 3\n",
      "()\n"
     ]
    }
   ],
   "source": [
    "func(1, 2, 3)"
   ]
  },
  {
   "cell_type": "code",
   "execution_count": 246,
   "id": "63af272c-c9b0-4349-81fc-ed78da3d61ab",
   "metadata": {},
   "outputs": [],
   "source": [
    "def func(x, y, z, *args):\n",
    "    print(x, y, z) # required\n",
    "    for thing in args:\n",
    "        print('optional arg:', thing)"
   ]
  },
  {
   "cell_type": "code",
   "execution_count": 247,
   "id": "b1696cc4-6c1e-484c-b12e-4861d1a86c2b",
   "metadata": {},
   "outputs": [
    {
     "name": "stdout",
     "output_type": "stream",
     "text": [
      "1 2 3\n",
      "optional arg: buckle\n",
      "optional arg: my\n",
      "optional arg: shoe\n"
     ]
    }
   ],
   "source": [
    "func(1, 2, 3, 'buckle', 'my', 'shoe')"
   ]
  },
  {
   "cell_type": "code",
   "execution_count": 248,
   "id": "97a20052-2ecb-409d-b84b-8272dfc1a909",
   "metadata": {},
   "outputs": [
    {
     "name": "stdout",
     "output_type": "stream",
     "text": [
      "1 2 3\n"
     ]
    }
   ],
   "source": [
    "func(1, 2, 3)"
   ]
  },
  {
   "cell_type": "code",
   "execution_count": 266,
   "id": "d344172c-3130-4311-b031-bd78dc8c9a3e",
   "metadata": {},
   "outputs": [],
   "source": [
    "def product(*args):\n",
    "    \"\"\"Return the product of all args passed in.\"\"\"\n",
    "    result = 1\n",
    "    for term in args:\n",
    "        result *= term\n",
    "\n",
    "    return result"
   ]
  },
  {
   "cell_type": "code",
   "execution_count": 268,
   "id": "b0b4f9f9-f155-426a-bc21-4e1c559707b7",
   "metadata": {},
   "outputs": [
    {
     "data": {
      "text/plain": [
       "['__annotations__',\n",
       " '__builtins__',\n",
       " '__call__',\n",
       " '__class__',\n",
       " '__closure__',\n",
       " '__code__',\n",
       " '__defaults__',\n",
       " '__delattr__',\n",
       " '__dict__',\n",
       " '__dir__',\n",
       " '__doc__',\n",
       " '__eq__',\n",
       " '__format__',\n",
       " '__ge__',\n",
       " '__get__',\n",
       " '__getattribute__',\n",
       " '__getstate__',\n",
       " '__globals__',\n",
       " '__gt__',\n",
       " '__hash__',\n",
       " '__init__',\n",
       " '__init_subclass__',\n",
       " '__kwdefaults__',\n",
       " '__le__',\n",
       " '__lt__',\n",
       " '__module__',\n",
       " '__name__',\n",
       " '__ne__',\n",
       " '__new__',\n",
       " '__qualname__',\n",
       " '__reduce__',\n",
       " '__reduce_ex__',\n",
       " '__repr__',\n",
       " '__setattr__',\n",
       " '__sizeof__',\n",
       " '__str__',\n",
       " '__subclasshook__',\n",
       " '__type_params__']"
      ]
     },
     "execution_count": 268,
     "metadata": {},
     "output_type": "execute_result"
    }
   ],
   "source": [
    "dir(product)"
   ]
  },
  {
   "cell_type": "code",
   "execution_count": 269,
   "id": "993760c1-882a-4bf4-b317-175947ed7dc1",
   "metadata": {},
   "outputs": [
    {
     "data": {
      "text/plain": [
       "'Compute the product of all args passed in.'"
      ]
     },
     "execution_count": 269,
     "metadata": {},
     "output_type": "execute_result"
    }
   ],
   "source": [
    "product.__doc__"
   ]
  },
  {
   "cell_type": "code",
   "execution_count": 267,
   "id": "8e4d877a-aaf3-4dc9-b1bf-c8c9515be55f",
   "metadata": {},
   "outputs": [
    {
     "name": "stdout",
     "output_type": "stream",
     "text": [
      "Help on function product in module __main__:\n",
      "\n",
      "product(*args)\n",
      "    Compute the product of all args passed in.\n",
      "\n"
     ]
    }
   ],
   "source": [
    "help(product)"
   ]
  },
  {
   "cell_type": "code",
   "execution_count": 250,
   "id": "352209c4-1167-429a-8da5-7343e3a4a5bc",
   "metadata": {},
   "outputs": [
    {
     "data": {
      "text/plain": [
       "6"
      ]
     },
     "execution_count": 250,
     "metadata": {},
     "output_type": "execute_result"
    }
   ],
   "source": [
    "product(1, 2, 3)"
   ]
  },
  {
   "cell_type": "code",
   "execution_count": 253,
   "id": "34233350-3350-4d18-bf75-4725f7a082ff",
   "metadata": {},
   "outputs": [
    {
     "data": {
      "text/plain": [
       "20"
      ]
     },
     "execution_count": 253,
     "metadata": {},
     "output_type": "execute_result"
    }
   ],
   "source": [
    "product(4, 5)"
   ]
  },
  {
   "cell_type": "code",
   "execution_count": 252,
   "id": "cdccba09-c455-488a-9779-fb33a48b6117",
   "metadata": {},
   "outputs": [
    {
     "data": {
      "text/plain": [
       "1"
      ]
     },
     "execution_count": 252,
     "metadata": {},
     "output_type": "execute_result"
    }
   ],
   "source": [
    "product()"
   ]
  },
  {
   "cell_type": "code",
   "execution_count": 254,
   "id": "7fda62c9-2fc5-43ca-aeb1-d9a23e2a6d7f",
   "metadata": {},
   "outputs": [],
   "source": [
    "# args is not a reserved word–it's a convention"
   ]
  },
  {
   "cell_type": "code",
   "execution_count": 255,
   "id": "19ddb62a-7460-466f-8b6c-b18d4ee0db4a",
   "metadata": {},
   "outputs": [],
   "source": [
    "def product(*terms):\n",
    "    \"\"\"Return the product of all args passed in.\"\"\"\n",
    "    result = 1\n",
    "    for term in terms:\n",
    "        result *= term\n",
    "\n",
    "    return result"
   ]
  },
  {
   "cell_type": "code",
   "execution_count": 256,
   "id": "6d946f87-b9d9-43ee-8000-392f736c7258",
   "metadata": {},
   "outputs": [],
   "source": [
    "# Shawn's Q-arguments to a function, do they change? Can they change?"
   ]
  },
  {
   "cell_type": "code",
   "execution_count": 257,
   "id": "faac26c8-aba3-4693-a6d6-aed17672abe7",
   "metadata": {},
   "outputs": [],
   "source": [
    "import math"
   ]
  },
  {
   "cell_type": "code",
   "execution_count": 258,
   "id": "f9962125-e069-4864-a61d-d7fef9b38c1b",
   "metadata": {},
   "outputs": [
    {
     "name": "stdout",
     "output_type": "stream",
     "text": [
      "<module 'math' from '/Library/Frameworks/Python.framework/Versions/3.13/lib/python3.13/lib-dynload/math.cpython-313-darwin.so'>\n"
     ]
    }
   ],
   "source": [
    "print(math)"
   ]
  },
  {
   "cell_type": "code",
   "execution_count": 259,
   "id": "8fa6201c-5230-4b08-914d-3506029babd5",
   "metadata": {},
   "outputs": [],
   "source": [
    "import random"
   ]
  },
  {
   "cell_type": "code",
   "execution_count": 260,
   "id": "7d77e82f-238d-4697-a9ce-215efa622226",
   "metadata": {},
   "outputs": [
    {
     "name": "stdout",
     "output_type": "stream",
     "text": [
      "<module 'random' from '/Library/Frameworks/Python.framework/Versions/3.13/lib/python3.13/random.py'>\n"
     ]
    }
   ],
   "source": [
    "print(random)"
   ]
  },
  {
   "cell_type": "code",
   "execution_count": 270,
   "id": "fb04f85c-f9c1-48df-b5be-cd95dc8b7402",
   "metadata": {},
   "outputs": [
    {
     "name": "stdout",
     "output_type": "stream",
     "text": [
      "Help on method randint in module random:\n",
      "\n",
      "randint(a, b) method of random.Random instance\n",
      "    Return random integer in range [a, b], including both end points.\n",
      "\n"
     ]
    }
   ],
   "source": [
    "help(random.randint)"
   ]
  },
  {
   "cell_type": "code",
   "execution_count": 271,
   "id": "fcdece25-f45c-47c4-ab2d-e0fb0f007d3e",
   "metadata": {},
   "outputs": [
    {
     "name": "stdout",
     "output_type": "stream",
     "text": [
      "Help on built-in function sin in module math:\n",
      "\n",
      "sin(x, /)\n",
      "    Return the sine of x (measured in radians).\n",
      "\n"
     ]
    }
   ],
   "source": [
    "help(math.sin)"
   ]
  },
  {
   "cell_type": "code",
   "execution_count": 275,
   "id": "dcadc453-fd1f-4ddd-a70d-59e821b14e8d",
   "metadata": {},
   "outputs": [],
   "source": [
    "def test(x):\n",
    "    x = 1 # \"change x\"\n",
    "    return \"done\""
   ]
  },
  {
   "cell_type": "code",
   "execution_count": 276,
   "id": "48b5d927-3c1a-4b44-95c9-dd694b61685c",
   "metadata": {},
   "outputs": [
    {
     "data": {
      "text/plain": [
       "'done'"
      ]
     },
     "execution_count": 276,
     "metadata": {},
     "output_type": "execute_result"
    }
   ],
   "source": [
    "number = 5\n",
    "test(number)"
   ]
  },
  {
   "cell_type": "code",
   "execution_count": 277,
   "id": "020e1fba-fc43-4444-916e-a7b5e9b1d900",
   "metadata": {},
   "outputs": [
    {
     "data": {
      "text/plain": [
       "5"
      ]
     },
     "execution_count": 277,
     "metadata": {},
     "output_type": "execute_result"
    }
   ],
   "source": [
    "number"
   ]
  },
  {
   "cell_type": "code",
   "execution_count": 278,
   "id": "d148bc2f-31d1-43c5-8f83-569aa98bb3f1",
   "metadata": {},
   "outputs": [],
   "source": [
    "mylist = [1]"
   ]
  },
  {
   "cell_type": "code",
   "execution_count": 280,
   "id": "a64f71bc-2dd2-403a-a362-5a30ff991155",
   "metadata": {},
   "outputs": [],
   "source": [
    "mylist.append(2) # method is called by writig OBJECT.method(args)\""
   ]
  },
  {
   "cell_type": "code",
   "execution_count": 281,
   "id": "26917f6e-67ef-4230-a469-138ca33ffe6c",
   "metadata": {},
   "outputs": [
    {
     "data": {
      "text/plain": [
       "[1, 2]"
      ]
     },
     "execution_count": 281,
     "metadata": {},
     "output_type": "execute_result"
    }
   ],
   "source": [
    "mylist"
   ]
  },
  {
   "cell_type": "code",
   "execution_count": 279,
   "id": "1c7632a8-eaf6-47f6-b4a0-d47a92c784fe",
   "metadata": {},
   "outputs": [
    {
     "name": "stdout",
     "output_type": "stream",
     "text": [
      "1 2 3\n"
     ]
    }
   ],
   "source": [
    "print(1, 2, 3) # calling a built-in function ... name it and add args if any in parens"
   ]
  },
  {
   "cell_type": "code",
   "execution_count": 282,
   "id": "f6bf16b4-f757-4a8e-864f-2fa96dddd098",
   "metadata": {},
   "outputs": [
    {
     "name": "stdout",
     "output_type": "stream",
     "text": [
      "[1, 2]\n"
     ]
    }
   ],
   "source": [
    "print(mylist) # print is not going to change mylist or anything else we print"
   ]
  },
  {
   "cell_type": "code",
   "execution_count": 283,
   "id": "02b46e66-5124-4b8e-8341-b778680fa2da",
   "metadata": {},
   "outputs": [
    {
     "data": {
      "text/plain": [
       "2"
      ]
     },
     "execution_count": 283,
     "metadata": {},
     "output_type": "execute_result"
    }
   ],
   "source": [
    "len(mylist)"
   ]
  },
  {
   "cell_type": "code",
   "execution_count": 284,
   "id": "8241d272-b269-443b-974e-c42adcee8730",
   "metadata": {},
   "outputs": [
    {
     "name": "stdout",
     "output_type": "stream",
     "text": [
      "Help on built-in function count:\n",
      "\n",
      "count(value, /) method of builtins.list instance\n",
      "    Return number of occurrences of value.\n",
      "\n"
     ]
    }
   ],
   "source": [
    "help(mylist.count)"
   ]
  },
  {
   "cell_type": "code",
   "execution_count": 288,
   "id": "b7231de5-1bfc-45b4-a26b-d5013317667e",
   "metadata": {},
   "outputs": [
    {
     "data": {
      "text/plain": [
       "1"
      ]
     },
     "execution_count": 288,
     "metadata": {},
     "output_type": "execute_result"
    }
   ],
   "source": [
    "mylist.count(2) # this method INSPECTS but does not CHANGE the mylist object"
   ]
  },
  {
   "cell_type": "code",
   "execution_count": 289,
   "id": "8a5d92e4-d39b-4c5c-afb1-5616e7319ee2",
   "metadata": {},
   "outputs": [],
   "source": [
    "mylist.insert(0, 'HEY')"
   ]
  },
  {
   "cell_type": "code",
   "execution_count": 290,
   "id": "6029a417-94a3-4eec-b1ab-084dc41d3a2e",
   "metadata": {},
   "outputs": [
    {
     "data": {
      "text/plain": [
       "['HEY', 1, 2]"
      ]
     },
     "execution_count": 290,
     "metadata": {},
     "output_type": "execute_result"
    }
   ],
   "source": [
    "mylist"
   ]
  },
  {
   "cell_type": "code",
   "execution_count": 291,
   "id": "2e02c423-7f5b-4083-abec-095cfc87b2fa",
   "metadata": {},
   "outputs": [
    {
     "name": "stdout",
     "output_type": "stream",
     "text": [
      "Help on built-in function insert:\n",
      "\n",
      "insert(index, object, /) method of builtins.list instance\n",
      "    Insert object before index.\n",
      "\n"
     ]
    }
   ],
   "source": [
    "help(mylist.insert)"
   ]
  },
  {
   "cell_type": "code",
   "execution_count": 292,
   "id": "b7c7ae62-3245-413c-9508-e65ffe12be5c",
   "metadata": {},
   "outputs": [],
   "source": [
    "mylist = [1, 2]"
   ]
  },
  {
   "cell_type": "code",
   "execution_count": 293,
   "id": "d7e8a42a-7517-49d2-9117-d346a0831918",
   "metadata": {},
   "outputs": [],
   "source": [
    "mylist.append([3, 4])"
   ]
  },
  {
   "cell_type": "code",
   "execution_count": 294,
   "id": "4af16599-d960-4e4b-86bf-c535ff4ce697",
   "metadata": {},
   "outputs": [
    {
     "data": {
      "text/plain": [
       "[1, 2, [3, 4]]"
      ]
     },
     "execution_count": 294,
     "metadata": {},
     "output_type": "execute_result"
    }
   ],
   "source": [
    "mylist"
   ]
  },
  {
   "cell_type": "code",
   "execution_count": 295,
   "id": "e14272f9-bf3f-481f-93f8-7858ece28b3b",
   "metadata": {},
   "outputs": [
    {
     "ename": "TypeError",
     "evalue": "list.append() takes exactly one argument (2 given)",
     "output_type": "error",
     "traceback": [
      "\u001b[0;31m---------------------------------------------------------------------------\u001b[0m",
      "\u001b[0;31mTypeError\u001b[0m                                 Traceback (most recent call last)",
      "Cell \u001b[0;32mIn[295], line 1\u001b[0m\n\u001b[0;32m----> 1\u001b[0m \u001b[43mmylist\u001b[49m\u001b[38;5;241;43m.\u001b[39;49m\u001b[43mappend\u001b[49m\u001b[43m(\u001b[49m\u001b[38;5;241;43m3\u001b[39;49m\u001b[43m,\u001b[49m\u001b[43m \u001b[49m\u001b[38;5;241;43m4\u001b[39;49m\u001b[43m)\u001b[49m\n",
      "\u001b[0;31mTypeError\u001b[0m: list.append() takes exactly one argument (2 given)"
     ]
    }
   ],
   "source": [
    "mylist.append(3, 4) # clearly this does not work"
   ]
  },
  {
   "cell_type": "code",
   "execution_count": 296,
   "id": "896163da-8675-4b8d-931a-d3ee1c853b9d",
   "metadata": {},
   "outputs": [
    {
     "data": {
      "text/plain": [
       "[3, 4]"
      ]
     },
     "execution_count": 296,
     "metadata": {},
     "output_type": "execute_result"
    }
   ],
   "source": [
    "mylist.pop()"
   ]
  },
  {
   "cell_type": "code",
   "execution_count": 297,
   "id": "bc1b23fe-c981-47e6-9034-c50e65d4ac56",
   "metadata": {},
   "outputs": [
    {
     "data": {
      "text/plain": [
       "[1, 2]"
      ]
     },
     "execution_count": 297,
     "metadata": {},
     "output_type": "execute_result"
    }
   ],
   "source": [
    "mylist"
   ]
  },
  {
   "cell_type": "code",
   "execution_count": 298,
   "id": "ea00762f-0b6b-4754-8213-ec6df395e462",
   "metadata": {},
   "outputs": [],
   "source": [
    "mylist.append([3, 4])"
   ]
  },
  {
   "cell_type": "code",
   "execution_count": 299,
   "id": "e49f2a09-051d-4fdc-962d-0c3191ad0791",
   "metadata": {},
   "outputs": [
    {
     "data": {
      "text/plain": [
       "[1, 2, [3, 4]]"
      ]
     },
     "execution_count": 299,
     "metadata": {},
     "output_type": "execute_result"
    }
   ],
   "source": [
    "mylist"
   ]
  },
  {
   "cell_type": "code",
   "execution_count": 300,
   "id": "e0edc887-02ae-427b-a29d-fa121f0d132e",
   "metadata": {},
   "outputs": [],
   "source": [
    "del mylist[-1] # del means delete, and it's a built-in keyword"
   ]
  },
  {
   "cell_type": "code",
   "execution_count": 301,
   "id": "52cfa1cb-b784-4e70-8c06-a8683472238a",
   "metadata": {},
   "outputs": [
    {
     "data": {
      "text/plain": [
       "[1, 2]"
      ]
     },
     "execution_count": 301,
     "metadata": {},
     "output_type": "execute_result"
    }
   ],
   "source": [
    "mylist"
   ]
  },
  {
   "cell_type": "code",
   "execution_count": 302,
   "id": "97d38df1-f050-474e-b96f-b1342b90c6e0",
   "metadata": {},
   "outputs": [],
   "source": [
    "mydict = { 1: 'one', 2: 'two', 3: 'three' }"
   ]
  },
  {
   "cell_type": "code",
   "execution_count": 303,
   "id": "12f2fb1c-fb40-4f2d-9274-bee048208d9a",
   "metadata": {},
   "outputs": [
    {
     "data": {
      "text/plain": [
       "'two'"
      ]
     },
     "execution_count": 303,
     "metadata": {},
     "output_type": "execute_result"
    }
   ],
   "source": [
    "mydict[2]"
   ]
  },
  {
   "cell_type": "code",
   "execution_count": 304,
   "id": "ce0e29b8-37ed-4c59-b39a-bf83ec502117",
   "metadata": {},
   "outputs": [],
   "source": [
    "del mydict[2]"
   ]
  },
  {
   "cell_type": "code",
   "execution_count": 305,
   "id": "6e480832-ed42-42a2-8e46-d8ffe5995ed6",
   "metadata": {},
   "outputs": [
    {
     "data": {
      "text/plain": [
       "{1: 'one', 3: 'three'}"
      ]
     },
     "execution_count": 305,
     "metadata": {},
     "output_type": "execute_result"
    }
   ],
   "source": [
    "mydict"
   ]
  },
  {
   "cell_type": "code",
   "execution_count": 306,
   "id": "b54778fd-e0ae-4f8d-bbbf-6ad5d9340385",
   "metadata": {},
   "outputs": [],
   "source": [
    "nums = list(range(10))"
   ]
  },
  {
   "cell_type": "code",
   "execution_count": 307,
   "id": "61352868-67ad-4caa-9bcf-acaa9bb9dd8f",
   "metadata": {},
   "outputs": [
    {
     "data": {
      "text/plain": [
       "[0, 1, 2, 3, 4, 5, 6, 7, 8, 9]"
      ]
     },
     "execution_count": 307,
     "metadata": {},
     "output_type": "execute_result"
    }
   ],
   "source": [
    "nums"
   ]
  },
  {
   "cell_type": "code",
   "execution_count": 308,
   "id": "d421868a-3933-4643-97d0-48248e4fe796",
   "metadata": {},
   "outputs": [],
   "source": [
    "mylist = [1, 2, [3, 4]]"
   ]
  },
  {
   "cell_type": "code",
   "execution_count": 309,
   "id": "3014f5a3-2d8c-469a-9c89-48e55caee722",
   "metadata": {},
   "outputs": [
    {
     "data": {
      "text/plain": [
       "2"
      ]
     },
     "execution_count": 309,
     "metadata": {},
     "output_type": "execute_result"
    }
   ],
   "source": [
    "del mylist[1]"
   ]
  },
  {
   "cell_type": "code",
   "execution_count": 318,
   "id": "ec1efeac-c027-4599-8082-f6a5089d51be",
   "metadata": {},
   "outputs": [],
   "source": [
    "chandra_list = [1, 2, 3, 4, 5, 6]\n",
    "del chandra_list[1:4]"
   ]
  },
  {
   "cell_type": "code",
   "execution_count": 319,
   "id": "7ec054d0-36c4-4a64-8019-51f560f7d712",
   "metadata": {},
   "outputs": [
    {
     "data": {
      "text/plain": [
       "[1, 5, 6]"
      ]
     },
     "execution_count": 319,
     "metadata": {},
     "output_type": "execute_result"
    }
   ],
   "source": [
    "chandra_list"
   ]
  },
  {
   "cell_type": "code",
   "execution_count": 340,
   "id": "df24837c-af3c-452b-85b4-aadf08601cdc",
   "metadata": {},
   "outputs": [],
   "source": [
    "# slicing\n",
    "alphabet = 'abcdefghijklmnopqrstuvwxyz'\n",
    "#           01234567890123456789012345\n",
    "#                                  321-"
   ]
  },
  {
   "cell_type": "code",
   "execution_count": 363,
   "id": "71794704-c6a7-41f8-a6b9-baf46c27b5ec",
   "metadata": {
    "scrolled": true
   },
   "outputs": [
    {
     "data": {
      "text/plain": [
       "'klmno'"
      ]
     },
     "execution_count": 363,
     "metadata": {},
     "output_type": "execute_result"
    }
   ],
   "source": [
    "alphabet[10:15] # start at 10, thru 15 not inclusive, i.e., stop at 14"
   ]
  },
  {
   "cell_type": "code",
   "execution_count": 362,
   "id": "a3457303-ad22-4554-9939-758e4774500d",
   "metadata": {},
   "outputs": [
    {
     "data": {
      "text/plain": [
       "'pqrst'"
      ]
     },
     "execution_count": 362,
     "metadata": {},
     "output_type": "execute_result"
    }
   ],
   "source": [
    "alphabet[15:20]"
   ]
  },
  {
   "cell_type": "code",
   "execution_count": 343,
   "id": "65e72696-670c-448d-9626-44d6df01a52a",
   "metadata": {},
   "outputs": [
    {
     "data": {
      "text/plain": [
       "'abcde'"
      ]
     },
     "execution_count": 343,
     "metadata": {},
     "output_type": "execute_result"
    }
   ],
   "source": [
    "alphabet[:5] # start at 0, length 5, so it ends at 4"
   ]
  },
  {
   "cell_type": "code",
   "execution_count": 347,
   "id": "9ffa3b70-9026-4783-b391-1a75e185d032",
   "metadata": {},
   "outputs": [
    {
     "data": {
      "text/plain": [
       "'fghijklmnopqrstuvwxyz'"
      ]
     },
     "execution_count": 347,
     "metadata": {},
     "output_type": "execute_result"
    }
   ],
   "source": [
    "alphabet[5:] # from 5 onwards..."
   ]
  },
  {
   "cell_type": "code",
   "execution_count": 344,
   "id": "c3e682e2-63a5-4437-acd5-59ae25b9f8f3",
   "metadata": {},
   "outputs": [
    {
     "data": {
      "text/plain": [
       "'xyz'"
      ]
     },
     "execution_count": 344,
     "metadata": {},
     "output_type": "execute_result"
    }
   ],
   "source": [
    "alphabet[23:] # start at 23 ('x'), and go to the end"
   ]
  },
  {
   "cell_type": "code",
   "execution_count": 345,
   "id": "6318ec0f-cf36-46c6-afca-60769b131619",
   "metadata": {},
   "outputs": [
    {
     "data": {
      "text/plain": [
       "'xyz'"
      ]
     },
     "execution_count": 345,
     "metadata": {},
     "output_type": "execute_result"
    }
   ],
   "source": [
    "alphabet[-3:] # start at 23 (3 from the end), and go the end"
   ]
  },
  {
   "cell_type": "code",
   "execution_count": 350,
   "id": "82de602f-9a18-4078-9726-b0d3e8441a20",
   "metadata": {},
   "outputs": [
    {
     "data": {
      "text/plain": [
       "'dgjmpsvy'"
      ]
     },
     "execution_count": 350,
     "metadata": {},
     "output_type": "execute_result"
    }
   ],
   "source": [
    "alphabet[3:23:3] # start at 3, don't include 23, move up by 3 each time (not 1)"
   ]
  },
  {
   "cell_type": "code",
   "execution_count": 353,
   "id": "d152fc04-dccb-44c5-b6a3-39520c256cc2",
   "metadata": {},
   "outputs": [
    {
     "data": {
      "text/plain": [
       "'kjihgfed'"
      ]
     },
     "execution_count": 353,
     "metadata": {},
     "output_type": "execute_result"
    }
   ],
   "source": [
    "alphabet[10:2:-1] # start at 10, to down/back by 1, don't include 2 "
   ]
  },
  {
   "cell_type": "code",
   "execution_count": 354,
   "id": "5c05bcb4-6199-43a7-a912-cde6684ba796",
   "metadata": {},
   "outputs": [
    {
     "data": {
      "text/plain": [
       "'abcdefghijklmnopqrstuvwxyz'"
      ]
     },
     "execution_count": 354,
     "metadata": {},
     "output_type": "execute_result"
    }
   ],
   "source": [
    "alphabet[:] # start at 0, go to end inclusive (this is a way to make a copy in Python)"
   ]
  },
  {
   "cell_type": "code",
   "execution_count": 373,
   "id": "4fb6fa38-378f-41e7-b99a-b81e01a7c19d",
   "metadata": {},
   "outputs": [
    {
     "data": {
      "text/plain": [
       "'zyxwvutsrqponmlkjihgfedcba'"
      ]
     },
     "execution_count": 373,
     "metadata": {},
     "output_type": "execute_result"
    }
   ],
   "source": [
    "alphabet[::-1] # start at the end, stop at beginning (inclusive)"
   ]
  },
  {
   "cell_type": "code",
   "execution_count": 310,
   "id": "fd6a1507-1a34-45e2-bc5e-c05a84c7f8f5",
   "metadata": {},
   "outputs": [
    {
     "name": "stdout",
     "output_type": "stream",
     "text": [
      "Help on built-in function remove:\n",
      "\n",
      "remove(value, /) method of builtins.list instance\n",
      "    Remove first occurrence of value.\n",
      "\n",
      "    Raises ValueError if the value is not present.\n",
      "\n"
     ]
    }
   ],
   "source": [
    "mylist.remove(2)"
   ]
  },
  {
   "cell_type": "code",
   "execution_count": 311,
   "id": "e1708757-e80d-41ae-99a0-97558c1b9150",
   "metadata": {},
   "outputs": [],
   "source": [
    "mydict = { 1: 'one', 2: 'two', 3: 'three' }"
   ]
  },
  {
   "cell_type": "code",
   "execution_count": 312,
   "id": "42c60401-9a68-47d9-bc22-13f477cb2ac3",
   "metadata": {},
   "outputs": [
    {
     "data": {
      "text/plain": [
       "'two'"
      ]
     },
     "execution_count": 312,
     "metadata": {},
     "output_type": "execute_result"
    }
   ],
   "source": [
    "mydict.pop(2)"
   ]
  },
  {
   "cell_type": "code",
   "execution_count": 313,
   "id": "0ff9d7b0-8b7f-4a66-9268-13b61fe55859",
   "metadata": {},
   "outputs": [
    {
     "data": {
      "text/plain": [
       "{1: 'one', 3: 'three'}"
      ]
     },
     "execution_count": 313,
     "metadata": {},
     "output_type": "execute_result"
    }
   ],
   "source": [
    "mydict"
   ]
  },
  {
   "cell_type": "code",
   "execution_count": 314,
   "id": "dd5a4146-304e-4aff-9360-6275af1ed453",
   "metadata": {},
   "outputs": [
    {
     "data": {
      "text/plain": [
       "2"
      ]
     },
     "execution_count": 314,
     "metadata": {},
     "output_type": "execute_result"
    }
   ],
   "source": [
    "len(mydict)"
   ]
  },
  {
   "cell_type": "code",
   "execution_count": 315,
   "id": "bf4fddb5-a8c0-4b9c-9a64-c7953fdae3e0",
   "metadata": {},
   "outputs": [],
   "source": [
    "mynums = set(nums)"
   ]
  },
  {
   "cell_type": "code",
   "execution_count": 316,
   "id": "472ed794-dcb2-485d-b58a-42640ab8967f",
   "metadata": {},
   "outputs": [
    {
     "data": {
      "text/plain": [
       "{0, 1, 2, 3, 4, 5, 6, 7, 8, 9}"
      ]
     },
     "execution_count": 316,
     "metadata": {},
     "output_type": "execute_result"
    }
   ],
   "source": [
    "mynums"
   ]
  },
  {
   "cell_type": "code",
   "execution_count": 317,
   "id": "739ea660-b2cc-4bf3-ba8a-77984b9d5726",
   "metadata": {},
   "outputs": [
    {
     "data": {
      "text/plain": [
       "10"
      ]
     },
     "execution_count": 317,
     "metadata": {},
     "output_type": "execute_result"
    }
   ],
   "source": [
    "len(mynums)"
   ]
  },
  {
   "cell_type": "code",
   "execution_count": 320,
   "id": "8f3e2931-b870-47dd-93e5-1e2acfc7228a",
   "metadata": {},
   "outputs": [
    {
     "data": {
      "text/plain": [
       "'three'"
      ]
     },
     "execution_count": 320,
     "metadata": {},
     "output_type": "execute_result"
    }
   ],
   "source": [
    "# removing from a list\n",
    "stuff = ['zero', 'one', 'two', 'three']\n",
    "stuff.pop() # remove last item"
   ]
  },
  {
   "cell_type": "code",
   "execution_count": 321,
   "id": "56e923d0-62d1-4a03-9535-c7a94cac2b35",
   "metadata": {},
   "outputs": [
    {
     "data": {
      "text/plain": [
       "['zero', 'one', 'two']"
      ]
     },
     "execution_count": 321,
     "metadata": {},
     "output_type": "execute_result"
    }
   ],
   "source": [
    "stuff"
   ]
  },
  {
   "cell_type": "code",
   "execution_count": 322,
   "id": "6a5a6af1-82cd-4b0b-8889-48af798c3425",
   "metadata": {
    "scrolled": true
   },
   "outputs": [
    {
     "data": {
      "text/plain": [
       "'zero'"
      ]
     },
     "execution_count": 322,
     "metadata": {},
     "output_type": "execute_result"
    }
   ],
   "source": [
    "stuff.pop(0) # pop the 0th item"
   ]
  },
  {
   "cell_type": "code",
   "execution_count": 328,
   "id": "a97f621a-f50c-4996-9aaf-a2a1f590873c",
   "metadata": {},
   "outputs": [
    {
     "ename": "ValueError",
     "evalue": "list.remove(x): x not in list",
     "output_type": "error",
     "traceback": [
      "\u001b[0;31m---------------------------------------------------------------------------\u001b[0m",
      "\u001b[0;31mValueError\u001b[0m                                Traceback (most recent call last)",
      "Cell \u001b[0;32mIn[328], line 1\u001b[0m\n\u001b[0;32m----> 1\u001b[0m \u001b[43mstuff\u001b[49m\u001b[38;5;241;43m.\u001b[39;49m\u001b[43mremove\u001b[49m\u001b[43m(\u001b[49m\u001b[38;5;124;43m'\u001b[39;49m\u001b[38;5;124;43mtwo\u001b[39;49m\u001b[38;5;124;43m'\u001b[39;49m\u001b[43m)\u001b[49m\n",
      "\u001b[0;31mValueError\u001b[0m: list.remove(x): x not in list"
     ]
    }
   ],
   "source": [
    "stuff.remove('two')"
   ]
  },
  {
   "cell_type": "code",
   "execution_count": 326,
   "id": "c11f7c4f-1d83-40b2-af92-62dd488998cb",
   "metadata": {},
   "outputs": [],
   "source": [
    "del stuff[0]"
   ]
  },
  {
   "cell_type": "code",
   "execution_count": 327,
   "id": "678e8e7d-058a-4b55-b954-c25a4fe6b112",
   "metadata": {},
   "outputs": [
    {
     "data": {
      "text/plain": [
       "[]"
      ]
     },
     "execution_count": 327,
     "metadata": {},
     "output_type": "execute_result"
    }
   ],
   "source": [
    "stuff"
   ]
  },
  {
   "cell_type": "code",
   "execution_count": 331,
   "id": "a10a24bf-b197-40c5-996c-b5d980179519",
   "metadata": {},
   "outputs": [
    {
     "data": {
      "text/plain": [
       "[1, 3, 2, 3, 2, 4, 2]"
      ]
     },
     "execution_count": 331,
     "metadata": {},
     "output_type": "execute_result"
    }
   ],
   "source": [
    "dupes = [1, 2, 3, 2, 3, 2, 4, 2]\n",
    "dupes.remove(2)\n",
    "dupes"
   ]
  },
  {
   "cell_type": "code",
   "execution_count": 330,
   "id": "59dc7468-64ac-432d-b712-e8ad6f019393",
   "metadata": {},
   "outputs": [
    {
     "data": {
      "text/plain": [
       "[1, 3, 3, 4]"
      ]
     },
     "execution_count": 330,
     "metadata": {},
     "output_type": "execute_result"
    }
   ],
   "source": [
    "# no removeall() method, so we can do this\n",
    "while 2 in dupes: # yes or no?\n",
    "    dupes.remove(2) # goes over the entire list to remove the item\n",
    "dupes"
   ]
  },
  {
   "cell_type": "code",
   "execution_count": 333,
   "id": "14044574-2849-42b5-a7e8-7fef8378a717",
   "metadata": {},
   "outputs": [
    {
     "data": {
      "text/plain": [
       "[1, 3, 3, 4]"
      ]
     },
     "execution_count": 333,
     "metadata": {},
     "output_type": "execute_result"
    }
   ],
   "source": [
    "# ...or this\n",
    "for _ in range(dupes.count(2)):\n",
    "    dupes.remove(2)\n",
    "dupes"
   ]
  },
  {
   "cell_type": "code",
   "execution_count": 335,
   "id": "a2f7473e-1fa5-497f-89e3-db598508d43a",
   "metadata": {},
   "outputs": [
    {
     "data": {
      "text/plain": [
       "False"
      ]
     },
     "execution_count": 335,
     "metadata": {},
     "output_type": "execute_result"
    }
   ],
   "source": [
    "5 in dupes"
   ]
  },
  {
   "cell_type": "code",
   "execution_count": 338,
   "id": "800a417f-1685-4ab9-859c-e1114604acaa",
   "metadata": {},
   "outputs": [
    {
     "data": {
      "text/plain": [
       "3000"
      ]
     },
     "execution_count": 338,
     "metadata": {},
     "output_type": "execute_result"
    }
   ],
   "source": [
    "# What if we're concerned about efficiency?\n",
    "big_list = [1, 2, 3] * 1000\n",
    "len(big_list)"
   ]
  },
  {
   "cell_type": "code",
   "execution_count": 337,
   "id": "33fb3f3c-b074-4316-97e4-91f37567a198",
   "metadata": {},
   "outputs": [
    {
     "name": "stdout",
     "output_type": "stream",
     "text": [
      "19.4 ns ± 0.136 ns per loop (mean ± std. dev. of 7 runs, 100,000,000 loops each)\n"
     ]
    }
   ],
   "source": [
    "%%timeit\n",
    "# the above is a Jupyter notebook construct to time a cell\n",
    "while 2 in dupes: # yes or no?\n",
    "    dupes.remove(2) # goes over the entire list to remove the item"
   ]
  },
  {
   "cell_type": "code",
   "execution_count": 339,
   "id": "099fd042-4ea0-402c-aedc-96422ac4b389",
   "metadata": {},
   "outputs": [
    {
     "name": "stdout",
     "output_type": "stream",
     "text": [
      "57.2 ns ± 0.246 ns per loop (mean ± std. dev. of 7 runs, 10,000,000 loops each)\n"
     ]
    }
   ],
   "source": [
    "%%timeit\n",
    "for _ in range(dupes.count(2)):\n",
    "    dupes.remove(2)"
   ]
  },
  {
   "cell_type": "code",
   "execution_count": 374,
   "id": "566c9906-0948-4c7e-a4e5-bb776e68e0e2",
   "metadata": {},
   "outputs": [],
   "source": [
    "# when to use a set vs. list\n",
    "# set is unordered, but no duplicates"
   ]
  },
  {
   "cell_type": "code",
   "execution_count": 375,
   "id": "e3c174a9-531d-4019-a636-17d22e2930eb",
   "metadata": {},
   "outputs": [],
   "source": [
    "mylist = 'apple fig pear apple banana fig banana'.split()"
   ]
  },
  {
   "cell_type": "code",
   "execution_count": 376,
   "id": "bd8e7d57-10de-481f-8484-39be0f464b26",
   "metadata": {},
   "outputs": [
    {
     "data": {
      "text/plain": [
       "['apple', 'fig', 'pear', 'apple', 'banana', 'fig', 'banana']"
      ]
     },
     "execution_count": 376,
     "metadata": {},
     "output_type": "execute_result"
    }
   ],
   "source": [
    "mylist"
   ]
  },
  {
   "cell_type": "code",
   "execution_count": 377,
   "id": "c3f6428c-6135-4055-adaa-e213170b114b",
   "metadata": {},
   "outputs": [
    {
     "name": "stdout",
     "output_type": "stream",
     "text": [
      "{'apple', 'fig', 'banana', 'pear'}\n"
     ]
    }
   ],
   "source": [
    "myset = set(mylist)\n",
    "print(myset)"
   ]
  },
  {
   "cell_type": "code",
   "execution_count": 378,
   "id": "32441119-ae6d-49d9-a89d-0320843269be",
   "metadata": {},
   "outputs": [
    {
     "data": {
      "text/plain": [
       "{'apple', 'banana', 'fig', 'pear'}"
      ]
     },
     "execution_count": 378,
     "metadata": {},
     "output_type": "execute_result"
    }
   ],
   "source": [
    "myset # Jupyter \"helps us out here\" by ordering the set "
   ]
  },
  {
   "cell_type": "code",
   "execution_count": 384,
   "id": "7cad7e01-849a-4279-ad55-456950448c29",
   "metadata": {},
   "outputs": [],
   "source": [
    "mylist_sorted = sorted(set(mylist), reverse=True) # returns a list"
   ]
  },
  {
   "cell_type": "code",
   "execution_count": 385,
   "id": "771d075b-ac2e-4420-8be1-97061025566b",
   "metadata": {},
   "outputs": [
    {
     "data": {
      "text/plain": [
       "['pear', 'fig', 'banana', 'apple']"
      ]
     },
     "execution_count": 385,
     "metadata": {},
     "output_type": "execute_result"
    }
   ],
   "source": [
    "mylist_sorted"
   ]
  },
  {
   "cell_type": "code",
   "execution_count": 386,
   "id": "dd8350ad-ae69-4241-9127-61b7ef4ec37b",
   "metadata": {
    "scrolled": true
   },
   "outputs": [
    {
     "name": "stdout",
     "output_type": "stream",
     "text": [
      "Help on built-in function sort:\n",
      "\n",
      "sort(*, key=None, reverse=False) method of builtins.list instance\n",
      "    Sort the list in ascending order and return None.\n",
      "\n",
      "    The sort is in-place (i.e. the list itself is modified) and stable (i.e. the\n",
      "    order of two equal elements is maintained).\n",
      "\n",
      "    If a key function is given, apply it once to each list item and sort them,\n",
      "    ascending or descending, according to their function values.\n",
      "\n",
      "    The reverse flag can be set to sort in descending order.\n",
      "\n"
     ]
    }
   ],
   "source": [
    "help(mylist_sorted.sort)"
   ]
  },
  {
   "cell_type": "code",
   "execution_count": 387,
   "id": "51b55744-cc5e-4609-91a5-447e0ae536fc",
   "metadata": {},
   "outputs": [],
   "source": [
    "mylist_sorted.sort() # call .sort to sort \"in place\", so this is a \"doer\" method"
   ]
  },
  {
   "cell_type": "code",
   "execution_count": 388,
   "id": "d19af098-1ec9-43cd-b702-99eba141132c",
   "metadata": {},
   "outputs": [
    {
     "data": {
      "text/plain": [
       "['apple', 'banana', 'fig', 'pear']"
      ]
     },
     "execution_count": 388,
     "metadata": {},
     "output_type": "execute_result"
    }
   ],
   "source": [
    "mylist_sorted"
   ]
  },
  {
   "cell_type": "code",
   "execution_count": 391,
   "id": "eb660b0e-c46e-45be-807e-c46deaa9ffb8",
   "metadata": {},
   "outputs": [
    {
     "data": {
      "text/plain": [
       "\u001b[0;31mSignature:\u001b[0m \u001b[0msorted\u001b[0m\u001b[0;34m(\u001b[0m\u001b[0miterable\u001b[0m\u001b[0;34m,\u001b[0m \u001b[0;34m/\u001b[0m\u001b[0;34m,\u001b[0m \u001b[0;34m*\u001b[0m\u001b[0;34m,\u001b[0m \u001b[0mkey\u001b[0m\u001b[0;34m=\u001b[0m\u001b[0;32mNone\u001b[0m\u001b[0;34m,\u001b[0m \u001b[0mreverse\u001b[0m\u001b[0;34m=\u001b[0m\u001b[0;32mFalse\u001b[0m\u001b[0;34m)\u001b[0m\u001b[0;34m\u001b[0m\u001b[0;34m\u001b[0m\u001b[0m\n",
       "\u001b[0;31mDocstring:\u001b[0m\n",
       "Return a new list containing all items from the iterable in ascending order.\n",
       "\n",
       "A custom key function can be supplied to customize the sort order, and the\n",
       "reverse flag can be set to request the result in descending order.\n",
       "\u001b[0;31mType:\u001b[0m      builtin_function_or_method"
      ]
     },
     "metadata": {},
     "output_type": "display_data"
    }
   ],
   "source": [
    "sorted?"
   ]
  },
  {
   "cell_type": "markdown",
   "id": "1c50ea22-6f5e-43b4-aef3-3cd9fe70e75d",
   "metadata": {},
   "source": [
    "## __`sorted()`__ vs __`.sort()`__ use case?\n",
    "* when should we used __`sorted()`__ vs __`.sort()`__\n",
    "* __`sorted()`__ - when we want to leave the list alone and get a sorted version of that\n",
    "* __`.sort()`__ - when we want to change the list in place"
   ]
  },
  {
   "cell_type": "markdown",
   "id": "5d75842d-05a3-465c-98aa-b1b5d645285b",
   "metadata": {},
   "source": [
    "## When to use a set vs. a list?\n",
    "* use a set if you don't want duplicates (and you don't care about ordering)\n",
    "* use a list when you want to retain duplicates"
   ]
  },
  {
   "cell_type": "code",
   "execution_count": 440,
   "id": "c1468093-bbc5-4f71-82b7-51a4215f4033",
   "metadata": {},
   "outputs": [],
   "source": [
    "# sets are not indexed\n",
    "s = { 'this', 'that', 'other' }"
   ]
  },
  {
   "cell_type": "code",
   "execution_count": 397,
   "id": "856633b1-95a3-4740-8617-246347b07dfa",
   "metadata": {},
   "outputs": [
    {
     "ename": "TypeError",
     "evalue": "'set' object is not subscriptable",
     "output_type": "error",
     "traceback": [
      "\u001b[0;31m---------------------------------------------------------------------------\u001b[0m",
      "\u001b[0;31mTypeError\u001b[0m                                 Traceback (most recent call last)",
      "Cell \u001b[0;32mIn[397], line 1\u001b[0m\n\u001b[0;32m----> 1\u001b[0m \u001b[43ms\u001b[49m\u001b[43m[\u001b[49m\u001b[38;5;241;43m0\u001b[39;49m\u001b[43m]\u001b[49m\n",
      "\u001b[0;31mTypeError\u001b[0m: 'set' object is not subscriptable"
     ]
    }
   ],
   "source": [
    "s[0]"
   ]
  },
  {
   "cell_type": "code",
   "execution_count": 402,
   "id": "0dec57f6-ac5f-4aa2-8722-417ec3e34bb4",
   "metadata": {},
   "outputs": [
    {
     "name": "stdout",
     "output_type": "stream",
     "text": [
      "this\n"
     ]
    }
   ],
   "source": [
    "for item in s:\n",
    "    if 'is' in item:\n",
    "        print(item)"
   ]
  },
  {
   "cell_type": "code",
   "execution_count": 403,
   "id": "4523591a-9e0c-442d-a887-a662feeb2368",
   "metadata": {},
   "outputs": [
    {
     "data": {
      "text/plain": [
       "False"
      ]
     },
     "execution_count": 403,
     "metadata": {},
     "output_type": "execute_result"
    }
   ],
   "source": [
    "'is' in s"
   ]
  },
  {
   "cell_type": "code",
   "execution_count": 401,
   "id": "9047a24a-ae3c-49eb-81a5-980ea0480c11",
   "metadata": {},
   "outputs": [
    {
     "data": {
      "text/plain": [
       "3"
      ]
     },
     "execution_count": 401,
     "metadata": {},
     "output_type": "execute_result"
    }
   ],
   "source": [
    "len(s)"
   ]
  },
  {
   "cell_type": "code",
   "execution_count": 398,
   "id": "c263fc6e-fd7e-464c-a89b-75e7679a6221",
   "metadata": {},
   "outputs": [
    {
     "data": {
      "text/plain": [
       "['that', 'this', 'other']"
      ]
     },
     "execution_count": 398,
     "metadata": {},
     "output_type": "execute_result"
    }
   ],
   "source": [
    "list(s)"
   ]
  },
  {
   "cell_type": "code",
   "execution_count": 404,
   "id": "afba8f2d-109d-4800-85b4-cc87d027676e",
   "metadata": {},
   "outputs": [
    {
     "data": {
      "text/plain": [
       "{'other', 'that', 'this'}"
      ]
     },
     "execution_count": 404,
     "metadata": {},
     "output_type": "execute_result"
    }
   ],
   "source": [
    "s"
   ]
  },
  {
   "cell_type": "code",
   "execution_count": 406,
   "id": "8acdb9c1-10f9-4396-9919-9e00a889fe61",
   "metadata": {},
   "outputs": [
    {
     "ename": "KeyError",
     "evalue": "'other'",
     "output_type": "error",
     "traceback": [
      "\u001b[0;31m---------------------------------------------------------------------------\u001b[0m",
      "\u001b[0;31mKeyError\u001b[0m                                  Traceback (most recent call last)",
      "Cell \u001b[0;32mIn[406], line 1\u001b[0m\n\u001b[0;32m----> 1\u001b[0m \u001b[43ms\u001b[49m\u001b[38;5;241;43m.\u001b[39;49m\u001b[43mremove\u001b[49m\u001b[43m(\u001b[49m\u001b[38;5;124;43m'\u001b[39;49m\u001b[38;5;124;43mother\u001b[39;49m\u001b[38;5;124;43m'\u001b[39;49m\u001b[43m)\u001b[49m\n",
      "\u001b[0;31mKeyError\u001b[0m: 'other'"
     ]
    }
   ],
   "source": [
    "s.remove('other')"
   ]
  },
  {
   "cell_type": "code",
   "execution_count": 408,
   "id": "e17de876-3585-4f1f-9643-22cc9d46b848",
   "metadata": {},
   "outputs": [],
   "source": [
    "s.discard('other') # discard(item) is like remove(item), but no issue w/item not being in the set"
   ]
  },
  {
   "cell_type": "code",
   "execution_count": 409,
   "id": "ccbc05c2-d025-4bc4-b816-3609adaeb5cc",
   "metadata": {},
   "outputs": [
    {
     "data": {
      "text/plain": [
       "\u001b[0;31mSignature:\u001b[0m \u001b[0ms\u001b[0m\u001b[0;34m.\u001b[0m\u001b[0mpop\u001b[0m\u001b[0;34m(\u001b[0m\u001b[0;34m)\u001b[0m\u001b[0;34m\u001b[0m\u001b[0;34m\u001b[0m\u001b[0m\n",
       "\u001b[0;31mDocstring:\u001b[0m\n",
       "Remove and return an arbitrary set element.\n",
       "\n",
       "Raises KeyError if the set is empty.\n",
       "\u001b[0;31mType:\u001b[0m      builtin_function_or_method"
      ]
     },
     "metadata": {},
     "output_type": "display_data"
    }
   ],
   "source": [
    "s.pop?"
   ]
  },
  {
   "cell_type": "code",
   "execution_count": 411,
   "id": "c8fade18-2688-4b6a-b075-f7d122198aeb",
   "metadata": {},
   "outputs": [
    {
     "name": "stdout",
     "output_type": "stream",
     "text": [
      "Help on method_descriptor:\n",
      "\n",
      "pop(self, index=-1, /) unbound builtins.list method\n",
      "    Remove and return item at index (default last).\n",
      "\n",
      "    Raises IndexError if list is empty or index is out of range.\n",
      "\n"
     ]
    }
   ],
   "source": [
    "help(list.pop)"
   ]
  },
  {
   "cell_type": "code",
   "execution_count": 412,
   "id": "b6a2c225-a996-47f4-a246-2422e06c2aed",
   "metadata": {},
   "outputs": [
    {
     "name": "stdout",
     "output_type": "stream",
     "text": [
      "Help on method_descriptor:\n",
      "\n",
      "pop(self, key, default=<unrepresentable>, /) unbound builtins.dict method\n",
      "    D.pop(k[,d]) -> v, remove specified key and return the corresponding value.\n",
      "\n",
      "    If the key is not found, return the default if given; otherwise,\n",
      "    raise a KeyError.\n",
      "\n"
     ]
    }
   ],
   "source": [
    "help(dict.pop)"
   ]
  },
  {
   "cell_type": "code",
   "execution_count": 414,
   "id": "93f1a8bf-d679-40f0-be3c-763a0e4760a0",
   "metadata": {},
   "outputs": [],
   "source": [
    "s.add('other')"
   ]
  },
  {
   "cell_type": "code",
   "execution_count": 438,
   "id": "e3b659b8-b429-4663-ad57-ee36c26f67b9",
   "metadata": {},
   "outputs": [
    {
     "name": "stdout",
     "output_type": "stream",
     "text": [
      "{'that', 'this', 'other'}\n"
     ]
    }
   ],
   "source": [
    "s = {'other', 'that', 'this'}\n",
    "print(s)"
   ]
  },
  {
   "cell_type": "code",
   "execution_count": 437,
   "id": "799d8493-d72a-4fb5-aea7-412bdf971e5e",
   "metadata": {},
   "outputs": [
    {
     "name": "stdout",
     "output_type": "stream",
     "text": [
      "that\n",
      "this\n",
      "other\n"
     ]
    }
   ],
   "source": [
    "while len(s) > 0: # while the set is not empty\n",
    "    print(s.pop())"
   ]
  },
  {
   "cell_type": "code",
   "execution_count": 439,
   "id": "05a06020-8f4e-4acb-a7dd-eb1fceb7f0ef",
   "metadata": {},
   "outputs": [
    {
     "name": "stdout",
     "output_type": "stream",
     "text": [
      "that\n",
      "this\n",
      "other\n"
     ]
    }
   ],
   "source": [
    "while s: # while s is a non-empty container\n",
    "    print(s.pop())"
   ]
  },
  {
   "cell_type": "markdown",
   "id": "57d0e3c8-84be-4c3f-b76d-5be52b44f2f8",
   "metadata": {},
   "source": [
    "## Truthiness"
   ]
  },
  {
   "cell_type": "code",
   "execution_count": 419,
   "id": "0ba87243-e410-453d-b38a-6525932cc9a5",
   "metadata": {
    "scrolled": true
   },
   "outputs": [
    {
     "name": "stdout",
     "output_type": "stream",
     "text": [
      "yep\n"
     ]
    }
   ],
   "source": [
    "number = 5\n",
    "\n",
    "if number != 0:\n",
    "    print('yep')"
   ]
  },
  {
   "cell_type": "code",
   "execution_count": 425,
   "id": "926d473b-11b3-4212-9cd9-88d2fa4c37a0",
   "metadata": {},
   "outputs": [
    {
     "name": "stdout",
     "output_type": "stream",
     "text": [
      "yep\n"
     ]
    }
   ],
   "source": [
    "number = 0.01\n",
    "\n",
    "if number: # if number != 0\n",
    "    print('yep')"
   ]
  },
  {
   "cell_type": "code",
   "execution_count": 432,
   "id": "905e89ea-a7f5-47d1-8cfa-c9ee716125ba",
   "metadata": {},
   "outputs": [
    {
     "name": "stdout",
     "output_type": "stream",
     "text": [
      "nope\n"
     ]
    }
   ],
   "source": [
    "stuff = []\n",
    "\n",
    "if stuff: # if len(stuff) > 0\n",
    "    print('yep')\n",
    "\n",
    "if not stuff: # if len(stuff) == 0\n",
    "    print('nope')"
   ]
  },
  {
   "cell_type": "code",
   "execution_count": 433,
   "id": "d8c0362a-4eef-402f-874c-a5887be3a5eb",
   "metadata": {},
   "outputs": [
    {
     "name": "stdout",
     "output_type": "stream",
     "text": [
      "yep\n"
     ]
    }
   ],
   "source": [
    "stuff = [1]\n",
    "\n",
    "if stuff: # if len(stuff) > 0\n",
    "    print('yep')\n",
    "\n",
    "if not stuff: # if len(stuff) == 0\n",
    "    print('nope')"
   ]
  },
  {
   "cell_type": "code",
   "execution_count": null,
   "id": "5ba3f4dd-9764-4709-a901-d289d5c94747",
   "metadata": {},
   "outputs": [],
   "source": [
    "# built-in datatypes in Python\n",
    "# int, bool, float, dict, list, set, ..."
   ]
  },
  {
   "cell_type": "code",
   "execution_count": 441,
   "id": "d9a009bf-30ac-4cb5-b748-573609acdd23",
   "metadata": {},
   "outputs": [
    {
     "data": {
      "text/plain": [
       "0.4"
      ]
     },
     "execution_count": 441,
     "metadata": {},
     "output_type": "execute_result"
    }
   ],
   "source": [
    "number = 2\n",
    "number / 5"
   ]
  },
  {
   "cell_type": "code",
   "execution_count": 442,
   "id": "4fedd814-0350-4579-bcdb-d983c48efb1f",
   "metadata": {},
   "outputs": [],
   "source": [
    "number = 12345"
   ]
  },
  {
   "cell_type": "code",
   "execution_count": 443,
   "id": "70e0b035-e99d-4106-8ff7-5330e28d08e4",
   "metadata": {},
   "outputs": [],
   "source": [
    "# does that number end with a 5?"
   ]
  },
  {
   "cell_type": "code",
   "execution_count": 445,
   "id": "03956ded-e98e-4e74-95bf-758d031f042d",
   "metadata": {},
   "outputs": [
    {
     "data": {
      "text/plain": [
       "True"
      ]
     },
     "execution_count": 445,
     "metadata": {},
     "output_type": "execute_result"
    }
   ],
   "source": [
    "str(number)[-1] == '5' # convert to str and then use str functions/indexing"
   ]
  },
  {
   "cell_type": "code",
   "execution_count": 446,
   "id": "e21f6753-7483-4039-8d08-bc7682e85e87",
   "metadata": {},
   "outputs": [
    {
     "data": {
      "text/plain": [
       "5"
      ]
     },
     "execution_count": 446,
     "metadata": {},
     "output_type": "execute_result"
    }
   ],
   "source": [
    "number % 10 # mod(ulus) operator (remainder)"
   ]
  },
  {
   "cell_type": "code",
   "execution_count": 447,
   "id": "114762fc-d304-4260-9dc6-369c5282ef23",
   "metadata": {},
   "outputs": [
    {
     "data": {
      "text/plain": [
       "'2'"
      ]
     },
     "execution_count": 447,
     "metadata": {},
     "output_type": "execute_result"
    }
   ],
   "source": [
    "str(number)[1]"
   ]
  },
  {
   "cell_type": "code",
   "execution_count": 449,
   "id": "fe1d8d99-e729-415a-a5e2-6ddbab9c53b6",
   "metadata": {},
   "outputs": [
    {
     "data": {
      "text/plain": [
       "15"
      ]
     },
     "execution_count": 449,
     "metadata": {},
     "output_type": "execute_result"
    }
   ],
   "source": [
    "# What if I want to total up the digits\n",
    "total = 0\n",
    "\n",
    "for digit in str(number):\n",
    "    total += int(digit) # convert the digit back to int for summation\n",
    "\n",
    "total"
   ]
  },
  {
   "cell_type": "code",
   "execution_count": 450,
   "id": "97e55ed8-81fc-472a-a8ec-525ea35655e7",
   "metadata": {},
   "outputs": [
    {
     "data": {
      "text/plain": [
       "5"
      ]
     },
     "execution_count": 450,
     "metadata": {},
     "output_type": "execute_result"
    }
   ],
   "source": [
    "number % 10"
   ]
  },
  {
   "cell_type": "code",
   "execution_count": 451,
   "id": "d56b18d8-8989-4d46-a8d7-be12877fb87f",
   "metadata": {},
   "outputs": [],
   "source": [
    "number //= 10"
   ]
  },
  {
   "cell_type": "code",
   "execution_count": 452,
   "id": "b7d174d8-fb1d-410b-bc1e-0fe68f301cc8",
   "metadata": {},
   "outputs": [
    {
     "data": {
      "text/plain": [
       "1234"
      ]
     },
     "execution_count": 452,
     "metadata": {},
     "output_type": "execute_result"
    }
   ],
   "source": [
    "number"
   ]
  },
  {
   "cell_type": "code",
   "execution_count": 453,
   "id": "fbddbe37-e791-415b-9eee-1a8feea16285",
   "metadata": {},
   "outputs": [
    {
     "data": {
      "text/plain": [
       "4"
      ]
     },
     "execution_count": 453,
     "metadata": {},
     "output_type": "execute_result"
    }
   ],
   "source": [
    "number % 10"
   ]
  },
  {
   "cell_type": "code",
   "execution_count": 455,
   "id": "5db78116-b0e8-4dbc-afd1-3fe2bebbe4e5",
   "metadata": {},
   "outputs": [
    {
     "data": {
      "text/plain": [
       "'12345'"
      ]
     },
     "execution_count": 455,
     "metadata": {},
     "output_type": "execute_result"
    }
   ],
   "source": [
    "number = 12345\n",
    "digits = str(number) # '12345'\n",
    "# scramble the digits\n",
    "digits"
   ]
  },
  {
   "cell_type": "code",
   "execution_count": 456,
   "id": "e0f5d7ab-a6a7-47ed-af6e-af2d17bc9bb9",
   "metadata": {},
   "outputs": [
    {
     "data": {
      "text/plain": [
       "['1', '2', '3', '4', '5']"
      ]
     },
     "execution_count": 456,
     "metadata": {},
     "output_type": "execute_result"
    }
   ],
   "source": [
    "list_of_digits = list(digits)\n",
    "# reconstitute an integer w/those scrambled digits\n",
    "list_of_digits"
   ]
  },
  {
   "cell_type": "code",
   "execution_count": 458,
   "id": "699e78b1-2188-4a70-9e5c-9992ef6b2f36",
   "metadata": {},
   "outputs": [
    {
     "data": {
      "text/plain": [
       "['5', '2', '1', '3', '4']"
      ]
     },
     "execution_count": 458,
     "metadata": {},
     "output_type": "execute_result"
    }
   ],
   "source": [
    "import random\n",
    "\n",
    "random.shuffle(list_of_digits)\n",
    "list_of_digits"
   ]
  },
  {
   "cell_type": "code",
   "execution_count": 461,
   "id": "ba2b3bf1-7af5-403f-9c4f-ad386bceb14f",
   "metadata": {},
   "outputs": [
    {
     "data": {
      "text/plain": [
       "52134"
      ]
     },
     "execution_count": 461,
     "metadata": {},
     "output_type": "execute_result"
    }
   ],
   "source": [
    "digits = ''.join(list_of_digits) # join all strings together into a single string\n",
    "int(digits) # convert to int"
   ]
  },
  {
   "cell_type": "code",
   "execution_count": 469,
   "id": "03b796d1-0ae9-4ed1-a4e2-195ffaa8f142",
   "metadata": {},
   "outputs": [],
   "source": [
    "random.seed(8)"
   ]
  },
  {
   "cell_type": "code",
   "execution_count": 470,
   "id": "f4e1ea48-9c4c-4267-9ccf-6799ede04f9f",
   "metadata": {},
   "outputs": [
    {
     "name": "stdout",
     "output_type": "stream",
     "text": [
      "4\n",
      "6\n",
      "7\n",
      "3\n",
      "4\n",
      "1\n",
      "2\n",
      "3\n",
      "4\n",
      "9\n"
     ]
    }
   ],
   "source": [
    "for _ in range(10): # do this 10 times\n",
    "    print(random.randint(1, 10)) # 1..10"
   ]
  },
  {
   "cell_type": "code",
   "execution_count": 483,
   "id": "8b4578f9-8aed-4d08-8450-664c681f2753",
   "metadata": {},
   "outputs": [
    {
     "name": "stdout",
     "output_type": "stream",
     "text": [
      "10\n",
      "3\n",
      "7\n",
      "10\n",
      "6\n",
      "4\n",
      "5\n",
      "1\n",
      "9\n",
      "6\n"
     ]
    }
   ],
   "source": [
    "import time\n",
    "random.seed(int(time.time()))\n",
    "\n",
    "for _ in range(10): # do this 10 times\n",
    "    print(random.randint(1, 10)) # 1..10"
   ]
  },
  {
   "cell_type": "code",
   "execution_count": 476,
   "id": "9c36ce8a-9bab-4c5e-a1bf-0c2a9b996342",
   "metadata": {},
   "outputs": [
    {
     "name": "stdout",
     "output_type": "stream",
     "text": [
      "Help on built-in function time in module time:\n",
      "\n",
      "time()\n",
      "    time() -> floating-point number\n",
      "\n",
      "    Return the current time in seconds since the Epoch.\n",
      "    Fractions of a second may be present if the system clock provides them.\n",
      "\n"
     ]
    }
   ],
   "source": [
    "help(time.time)"
   ]
  },
  {
   "cell_type": "code",
   "execution_count": 484,
   "id": "c3ebb3c1-0b9b-4282-8414-8176dbe9ad31",
   "metadata": {},
   "outputs": [
    {
     "data": {
      "text/plain": [
       "['__doc__',\n",
       " '__file__',\n",
       " '__loader__',\n",
       " '__name__',\n",
       " '__package__',\n",
       " '__spec__',\n",
       " 'acos',\n",
       " 'acosh',\n",
       " 'asin',\n",
       " 'asinh',\n",
       " 'atan',\n",
       " 'atan2',\n",
       " 'atanh',\n",
       " 'cbrt',\n",
       " 'ceil',\n",
       " 'comb',\n",
       " 'copysign',\n",
       " 'cos',\n",
       " 'cosh',\n",
       " 'degrees',\n",
       " 'dist',\n",
       " 'e',\n",
       " 'erf',\n",
       " 'erfc',\n",
       " 'exp',\n",
       " 'exp2',\n",
       " 'expm1',\n",
       " 'fabs',\n",
       " 'factorial',\n",
       " 'floor',\n",
       " 'fma',\n",
       " 'fmod',\n",
       " 'frexp',\n",
       " 'fsum',\n",
       " 'gamma',\n",
       " 'gcd',\n",
       " 'hypot',\n",
       " 'inf',\n",
       " 'isclose',\n",
       " 'isfinite',\n",
       " 'isinf',\n",
       " 'isnan',\n",
       " 'isqrt',\n",
       " 'lcm',\n",
       " 'ldexp',\n",
       " 'lgamma',\n",
       " 'log',\n",
       " 'log10',\n",
       " 'log1p',\n",
       " 'log2',\n",
       " 'modf',\n",
       " 'nan',\n",
       " 'nextafter',\n",
       " 'perm',\n",
       " 'pi',\n",
       " 'pow',\n",
       " 'prod',\n",
       " 'radians',\n",
       " 'remainder',\n",
       " 'sin',\n",
       " 'sinh',\n",
       " 'sqrt',\n",
       " 'sumprod',\n",
       " 'tan',\n",
       " 'tanh',\n",
       " 'tau',\n",
       " 'trunc',\n",
       " 'ulp']"
      ]
     },
     "execution_count": 484,
     "metadata": {},
     "output_type": "execute_result"
    }
   ],
   "source": [
    "import math\n",
    "dir(math)"
   ]
  },
  {
   "cell_type": "code",
   "execution_count": null,
   "id": "a7623e43-1fbe-49c3-9c9e-4e2ff281498e",
   "metadata": {},
   "outputs": [],
   "source": []
  },
  {
   "cell_type": "code",
   "execution_count": 486,
   "id": "a5fff5e7-dd46-4280-b8e9-9b368d6b40c2",
   "metadata": {},
   "outputs": [],
   "source": [
    "mylist = [1, 2, 2, 2, 3]"
   ]
  },
  {
   "cell_type": "code",
   "execution_count": 487,
   "id": "5e68913f-2fdd-4cd7-b054-55d7157a117d",
   "metadata": {},
   "outputs": [
    {
     "data": {
      "text/plain": [
       "3"
      ]
     },
     "execution_count": 487,
     "metadata": {},
     "output_type": "execute_result"
    }
   ],
   "source": [
    "mylist.count(2) # this list method/function accesses the data inside the list"
   ]
  },
  {
   "cell_type": "code",
   "execution_count": 492,
   "id": "3450c266-05ac-4c63-a3d0-0022114b2113",
   "metadata": {},
   "outputs": [],
   "source": [
    "mylist.reverse() # this list method modifies the data inside the list"
   ]
  },
  {
   "cell_type": "code",
   "execution_count": 493,
   "id": "f7f650de-c995-4601-b1c4-ffaf696f7d43",
   "metadata": {},
   "outputs": [
    {
     "data": {
      "text/plain": [
       "[3, 2, 2, 2, 1]"
      ]
     },
     "execution_count": 493,
     "metadata": {},
     "output_type": "execute_result"
    }
   ],
   "source": [
    "mylist"
   ]
  },
  {
   "cell_type": "code",
   "execution_count": 494,
   "id": "16e3b9c5-952f-4c9f-a321-7a933b4f608a",
   "metadata": {},
   "outputs": [],
   "source": [
    "number = 1.5"
   ]
  },
  {
   "cell_type": "code",
   "execution_count": 495,
   "id": "65b25037-4fa4-497f-bdb0-7972ba0b75c6",
   "metadata": {},
   "outputs": [
    {
     "data": {
      "text/plain": [
       "float"
      ]
     },
     "execution_count": 495,
     "metadata": {},
     "output_type": "execute_result"
    }
   ],
   "source": [
    "type(number)"
   ]
  },
  {
   "cell_type": "code",
   "execution_count": 496,
   "id": "eb2570fd-a275-4b28-ac4c-d73522fca6e3",
   "metadata": {},
   "outputs": [
    {
     "name": "stdout",
     "output_type": "stream",
     "text": [
      "<class 'float'>\n"
     ]
    }
   ],
   "source": [
    "print(type(number))"
   ]
  },
  {
   "cell_type": "code",
   "execution_count": 497,
   "id": "c3b79a40-4f6d-419e-bdbf-88aee9393d6a",
   "metadata": {},
   "outputs": [],
   "source": [
    "multi_word_variable = 'snake case'"
   ]
  },
  {
   "cell_type": "code",
   "execution_count": 498,
   "id": "fbb82cdd-0961-4d3b-bd78-a950fcb241af",
   "metadata": {},
   "outputs": [],
   "source": [
    "bank_account = {\n",
    "       'name': 'Katherine Johnson',\n",
    "    'balance': 12_345.67,\n",
    "}"
   ]
  },
  {
   "cell_type": "code",
   "execution_count": 499,
   "id": "ac61fd91-2b93-4fa2-9237-a5771c55d706",
   "metadata": {},
   "outputs": [
    {
     "data": {
      "text/plain": [
       "{'name': 'Katherine Johnson', 'balance': 12345.67}"
      ]
     },
     "execution_count": 499,
     "metadata": {},
     "output_type": "execute_result"
    }
   ],
   "source": [
    "bank_account"
   ]
  },
  {
   "cell_type": "code",
   "execution_count": 500,
   "id": "8b1c35cc-d38f-469b-a572-1a4165ad2b9f",
   "metadata": {},
   "outputs": [
    {
     "data": {
      "text/plain": [
       "'Katherine Johnson'"
      ]
     },
     "execution_count": 500,
     "metadata": {},
     "output_type": "execute_result"
    }
   ],
   "source": [
    "bank_account['name']"
   ]
  },
  {
   "cell_type": "code",
   "execution_count": 501,
   "id": "45d47bf1-f09f-4864-b922-b0350f229370",
   "metadata": {},
   "outputs": [
    {
     "data": {
      "text/plain": [
       "12345.67"
      ]
     },
     "execution_count": 501,
     "metadata": {},
     "output_type": "execute_result"
    }
   ],
   "source": [
    "bank_account['balance']"
   ]
  },
  {
   "cell_type": "code",
   "execution_count": 502,
   "id": "8f5bcf75-9cfb-416e-a5da-f95494c87ed1",
   "metadata": {},
   "outputs": [],
   "source": [
    "num = 1"
   ]
  },
  {
   "cell_type": "code",
   "execution_count": 503,
   "id": "3f425f77-7b43-486c-8060-6aec02919bca",
   "metadata": {},
   "outputs": [
    {
     "data": {
      "text/plain": [
       "int"
      ]
     },
     "execution_count": 503,
     "metadata": {},
     "output_type": "execute_result"
    }
   ],
   "source": [
    "type(num)"
   ]
  },
  {
   "cell_type": "code",
   "execution_count": 504,
   "id": "89a4e6e1-61ee-4fae-8b8a-8eb877a5d700",
   "metadata": {},
   "outputs": [
    {
     "data": {
      "text/plain": [
       "type"
      ]
     },
     "execution_count": 504,
     "metadata": {},
     "output_type": "execute_result"
    }
   ],
   "source": [
    "type(int)"
   ]
  },
  {
   "cell_type": "code",
   "execution_count": 505,
   "id": "9cbf7a07-c36f-4c4e-8a5e-c15461111e6c",
   "metadata": {},
   "outputs": [
    {
     "data": {
      "text/plain": [
       "type"
      ]
     },
     "execution_count": 505,
     "metadata": {},
     "output_type": "execute_result"
    }
   ],
   "source": [
    "type(str)"
   ]
  },
  {
   "cell_type": "code",
   "execution_count": 507,
   "id": "cba7168d-f7bc-422c-9e72-3a286d08a46a",
   "metadata": {},
   "outputs": [
    {
     "data": {
      "text/plain": [
       "[1, 2, 3]"
      ]
     },
     "execution_count": 507,
     "metadata": {},
     "output_type": "execute_result"
    }
   ],
   "source": [
    "mylist = [1, 2]\n",
    "mylist.append(3)\n",
    "mylist"
   ]
  },
  {
   "cell_type": "code",
   "execution_count": 508,
   "id": "59eb354a-d35a-4edf-b83c-2e9c6a35842f",
   "metadata": {},
   "outputs": [],
   "source": [
    "list1 = [1, 2]\n",
    "list2 = [2, 5]\n",
    "list3 = [4]"
   ]
  },
  {
   "cell_type": "code",
   "execution_count": 509,
   "id": "eb5ae453-fbb3-4b5c-81a5-5c2c62ea5b30",
   "metadata": {},
   "outputs": [],
   "source": [
    "list1.append(3)\n",
    "list2.append(3)\n",
    "list3.append(3)"
   ]
  },
  {
   "cell_type": "code",
   "execution_count": 510,
   "id": "df38a58e-90b4-43ff-9aaf-204db888d1ff",
   "metadata": {},
   "outputs": [],
   "source": [
    "lists = [\n",
    "    [1, 2],\n",
    "    [2, 5],\n",
    "    [4]\n",
    "]"
   ]
  },
  {
   "cell_type": "code",
   "execution_count": 511,
   "id": "63c33d29-18f9-4182-9c92-15407b79d0e6",
   "metadata": {},
   "outputs": [],
   "source": [
    "for each in lists:\n",
    "    each.append('tax refund!')"
   ]
  },
  {
   "cell_type": "code",
   "execution_count": 512,
   "id": "4dd0c422-c7e9-485a-b044-12f39f199ffb",
   "metadata": {},
   "outputs": [
    {
     "data": {
      "text/plain": [
       "[[1, 2, 'tax refund!'], [2, 5, 'tax refund!'], [4, 'tax refund!']]"
      ]
     },
     "execution_count": 512,
     "metadata": {},
     "output_type": "execute_result"
    }
   ],
   "source": [
    "lists"
   ]
  },
  {
   "cell_type": "code",
   "execution_count": 513,
   "id": "d2c63455-d7ab-4c48-bdae-bc888646e82c",
   "metadata": {},
   "outputs": [
    {
     "data": {
      "text/plain": [
       "6"
      ]
     },
     "execution_count": 513,
     "metadata": {},
     "output_type": "execute_result"
    }
   ],
   "source": [
    "2 + 4"
   ]
  },
  {
   "cell_type": "code",
   "execution_count": 514,
   "id": "a968053a-038e-4384-a98c-e675cb515760",
   "metadata": {},
   "outputs": [
    {
     "data": {
      "text/plain": [
       "'24'"
      ]
     },
     "execution_count": 514,
     "metadata": {},
     "output_type": "execute_result"
    }
   ],
   "source": [
    "'2' + '4'"
   ]
  },
  {
   "cell_type": "code",
   "execution_count": 515,
   "id": "c4d8ac87-03dc-40c6-85ea-7e5f2e2a6fe0",
   "metadata": {},
   "outputs": [
    {
     "data": {
      "text/plain": [
       "[2, 4]"
      ]
     },
     "execution_count": 515,
     "metadata": {},
     "output_type": "execute_result"
    }
   ],
   "source": [
    "[2] + [4]"
   ]
  },
  {
   "cell_type": "code",
   "execution_count": 516,
   "id": "f0943de3-5ccb-4ceb-87ed-44f8420f0036",
   "metadata": {},
   "outputs": [
    {
     "data": {
      "text/plain": [
       "'3'"
      ]
     },
     "execution_count": 516,
     "metadata": {},
     "output_type": "execute_result"
    }
   ],
   "source": [
    "str(3)"
   ]
  },
  {
   "cell_type": "code",
   "execution_count": 517,
   "id": "540fe67e-0545-4117-87fb-e8201fe01e8f",
   "metadata": {},
   "outputs": [
    {
     "data": {
      "text/plain": [
       "'1.1'"
      ]
     },
     "execution_count": 517,
     "metadata": {},
     "output_type": "execute_result"
    }
   ],
   "source": [
    "str(1.1)"
   ]
  },
  {
   "cell_type": "code",
   "execution_count": 518,
   "id": "6b200f01-991c-4b52-9a9b-3c3ec6796208",
   "metadata": {},
   "outputs": [
    {
     "data": {
      "text/plain": [
       "'[1, 2, 3]'"
      ]
     },
     "execution_count": 518,
     "metadata": {},
     "output_type": "execute_result"
    }
   ],
   "source": [
    "str([1, 2, 3])"
   ]
  },
  {
   "cell_type": "code",
   "execution_count": 519,
   "id": "29020c05-c8e6-4a5c-88d3-625dc2438ca7",
   "metadata": {},
   "outputs": [
    {
     "data": {
      "text/plain": [
       "'[1, 2, 3]'"
      ]
     },
     "execution_count": 519,
     "metadata": {},
     "output_type": "execute_result"
    }
   ],
   "source": [
    "[1, 2, 3].__str__() # hey list datatype, how do you like to be represented as a string?"
   ]
  },
  {
   "cell_type": "code",
   "execution_count": 521,
   "id": "4c8ef36a-fe98-4d1e-b5ef-135b55382b44",
   "metadata": {},
   "outputs": [
    {
     "data": {
      "text/plain": [
       "'[1, 2, 3]'"
      ]
     },
     "execution_count": 521,
     "metadata": {},
     "output_type": "execute_result"
    }
   ],
   "source": [
    "list.__str__([1, 2, 3]) # BankAccount.deposit(grace, 45)"
   ]
  },
  {
   "cell_type": "code",
   "execution_count": 520,
   "id": "e1e70189-809a-481f-be25-b614d75bd4e0",
   "metadata": {},
   "outputs": [
    {
     "data": {
      "text/plain": [
       "['__add__',\n",
       " '__class__',\n",
       " '__class_getitem__',\n",
       " '__contains__',\n",
       " '__delattr__',\n",
       " '__delitem__',\n",
       " '__dir__',\n",
       " '__doc__',\n",
       " '__eq__',\n",
       " '__format__',\n",
       " '__ge__',\n",
       " '__getattribute__',\n",
       " '__getitem__',\n",
       " '__getstate__',\n",
       " '__gt__',\n",
       " '__hash__',\n",
       " '__iadd__',\n",
       " '__imul__',\n",
       " '__init__',\n",
       " '__init_subclass__',\n",
       " '__iter__',\n",
       " '__le__',\n",
       " '__len__',\n",
       " '__lt__',\n",
       " '__mul__',\n",
       " '__ne__',\n",
       " '__new__',\n",
       " '__reduce__',\n",
       " '__reduce_ex__',\n",
       " '__repr__',\n",
       " '__reversed__',\n",
       " '__rmul__',\n",
       " '__setattr__',\n",
       " '__setitem__',\n",
       " '__sizeof__',\n",
       " '__str__',\n",
       " '__subclasshook__',\n",
       " 'append',\n",
       " 'clear',\n",
       " 'copy',\n",
       " 'count',\n",
       " 'extend',\n",
       " 'index',\n",
       " 'insert',\n",
       " 'pop',\n",
       " 'remove',\n",
       " 'reverse',\n",
       " 'sort']"
      ]
     },
     "execution_count": 520,
     "metadata": {},
     "output_type": "execute_result"
    }
   ],
   "source": [
    "dir(list)"
   ]
  },
  {
   "cell_type": "code",
   "execution_count": 523,
   "id": "ad30bc91-7768-4991-8252-59e549535895",
   "metadata": {},
   "outputs": [],
   "source": [
    "string = 'yep'"
   ]
  },
  {
   "cell_type": "code",
   "execution_count": 524,
   "id": "1c36ca79-7900-451a-a823-4cb545b0b144",
   "metadata": {},
   "outputs": [
    {
     "data": {
      "text/plain": [
       "'yep'"
      ]
     },
     "execution_count": 524,
     "metadata": {},
     "output_type": "execute_result"
    }
   ],
   "source": [
    "string # repr"
   ]
  },
  {
   "cell_type": "code",
   "execution_count": 525,
   "id": "a859c8bb-0721-4086-8e0d-be860c8af483",
   "metadata": {},
   "outputs": [
    {
     "name": "stdout",
     "output_type": "stream",
     "text": [
      "yep\n"
     ]
    }
   ],
   "source": [
    "print(string) # str"
   ]
  },
  {
   "cell_type": "code",
   "execution_count": 526,
   "id": "b752ed1b-b09c-4c1d-819c-317b157e9b69",
   "metadata": {},
   "outputs": [],
   "source": [
    "number = 1"
   ]
  },
  {
   "cell_type": "code",
   "execution_count": 529,
   "id": "258621ec-2312-4a76-b9de-5e08804c5b4b",
   "metadata": {},
   "outputs": [
    {
     "data": {
      "text/plain": [
       "1"
      ]
     },
     "execution_count": 529,
     "metadata": {},
     "output_type": "execute_result"
    }
   ],
   "source": [
    "number # repr"
   ]
  },
  {
   "cell_type": "code",
   "execution_count": 530,
   "id": "f63cad6b-64c2-4323-999a-df057101b537",
   "metadata": {},
   "outputs": [
    {
     "name": "stdout",
     "output_type": "stream",
     "text": [
      "1\n"
     ]
    }
   ],
   "source": [
    "print(number) # str"
   ]
  },
  {
   "cell_type": "code",
   "execution_count": 531,
   "id": "c9ebcb8c-84c5-4c95-85da-475ae8eb39a3",
   "metadata": {},
   "outputs": [],
   "source": [
    "nums = list(range(100))"
   ]
  },
  {
   "cell_type": "code",
   "execution_count": 532,
   "id": "d3ef134f-520d-423a-8c15-358592db2954",
   "metadata": {},
   "outputs": [
    {
     "name": "stdout",
     "output_type": "stream",
     "text": [
      "[0, 1, 2, 3, 4, 5, 6, 7, 8, 9, 10, 11, 12, 13, 14, 15, 16, 17, 18, 19, 20, 21, 22, 23, 24, 25, 26, 27, 28, 29, 30, 31, 32, 33, 34, 35, 36, 37, 38, 39, 40, 41, 42, 43, 44, 45, 46, 47, 48, 49, 50, 51, 52, 53, 54, 55, 56, 57, 58, 59, 60, 61, 62, 63, 64, 65, 66, 67, 68, 69, 70, 71, 72, 73, 74, 75, 76, 77, 78, 79, 80, 81, 82, 83, 84, 85, 86, 87, 88, 89, 90, 91, 92, 93, 94, 95, 96, 97, 98, 99]\n"
     ]
    }
   ],
   "source": [
    "print(nums) # str"
   ]
  },
  {
   "cell_type": "code",
   "execution_count": 533,
   "id": "166d11e1-98ed-4933-b9b7-e06e812b55bf",
   "metadata": {},
   "outputs": [
    {
     "data": {
      "text/plain": [
       "[0,\n",
       " 1,\n",
       " 2,\n",
       " 3,\n",
       " 4,\n",
       " 5,\n",
       " 6,\n",
       " 7,\n",
       " 8,\n",
       " 9,\n",
       " 10,\n",
       " 11,\n",
       " 12,\n",
       " 13,\n",
       " 14,\n",
       " 15,\n",
       " 16,\n",
       " 17,\n",
       " 18,\n",
       " 19,\n",
       " 20,\n",
       " 21,\n",
       " 22,\n",
       " 23,\n",
       " 24,\n",
       " 25,\n",
       " 26,\n",
       " 27,\n",
       " 28,\n",
       " 29,\n",
       " 30,\n",
       " 31,\n",
       " 32,\n",
       " 33,\n",
       " 34,\n",
       " 35,\n",
       " 36,\n",
       " 37,\n",
       " 38,\n",
       " 39,\n",
       " 40,\n",
       " 41,\n",
       " 42,\n",
       " 43,\n",
       " 44,\n",
       " 45,\n",
       " 46,\n",
       " 47,\n",
       " 48,\n",
       " 49,\n",
       " 50,\n",
       " 51,\n",
       " 52,\n",
       " 53,\n",
       " 54,\n",
       " 55,\n",
       " 56,\n",
       " 57,\n",
       " 58,\n",
       " 59,\n",
       " 60,\n",
       " 61,\n",
       " 62,\n",
       " 63,\n",
       " 64,\n",
       " 65,\n",
       " 66,\n",
       " 67,\n",
       " 68,\n",
       " 69,\n",
       " 70,\n",
       " 71,\n",
       " 72,\n",
       " 73,\n",
       " 74,\n",
       " 75,\n",
       " 76,\n",
       " 77,\n",
       " 78,\n",
       " 79,\n",
       " 80,\n",
       " 81,\n",
       " 82,\n",
       " 83,\n",
       " 84,\n",
       " 85,\n",
       " 86,\n",
       " 87,\n",
       " 88,\n",
       " 89,\n",
       " 90,\n",
       " 91,\n",
       " 92,\n",
       " 93,\n",
       " 94,\n",
       " 95,\n",
       " 96,\n",
       " 97,\n",
       " 98,\n",
       " 99]"
      ]
     },
     "execution_count": 533,
     "metadata": {},
     "output_type": "execute_result"
    }
   ],
   "source": [
    "nums # repr"
   ]
  },
  {
   "cell_type": "code",
   "execution_count": 534,
   "id": "931aa3b8-5932-41fd-884f-6416a6df3331",
   "metadata": {},
   "outputs": [],
   "source": [
    "import bank"
   ]
  },
  {
   "cell_type": "code",
   "execution_count": 535,
   "id": "963874eb-1e27-419d-8914-c3e7ed93d22e",
   "metadata": {},
   "outputs": [
    {
     "data": {
      "text/plain": [
       "['BankAccount',\n",
       " '__builtins__',\n",
       " '__cached__',\n",
       " '__doc__',\n",
       " '__file__',\n",
       " '__loader__',\n",
       " '__name__',\n",
       " '__package__',\n",
       " '__spec__']"
      ]
     },
     "execution_count": 535,
     "metadata": {},
     "output_type": "execute_result"
    }
   ],
   "source": [
    "dir(bank)"
   ]
  },
  {
   "cell_type": "code",
   "execution_count": 536,
   "id": "264bfca2-2bd2-49aa-aa05-8c24643927cb",
   "metadata": {},
   "outputs": [],
   "source": [
    "bank_account = bank.BankAccount('name', 100)"
   ]
  },
  {
   "cell_type": "code",
   "execution_count": 537,
   "id": "6d589ff2-0fa8-482e-bc04-881ddb273236",
   "metadata": {},
   "outputs": [
    {
     "data": {
      "text/plain": [
       "'name'"
      ]
     },
     "execution_count": 537,
     "metadata": {},
     "output_type": "execute_result"
    }
   ],
   "source": [
    "bank_account.name"
   ]
  },
  {
   "cell_type": "code",
   "execution_count": 538,
   "id": "6e53c12b-0831-4ccb-8728-e104498da039",
   "metadata": {},
   "outputs": [],
   "source": [
    "import datetime"
   ]
  },
  {
   "cell_type": "code",
   "execution_count": 539,
   "id": "bf60cdf0-61e6-4da1-a1f3-a94195c62148",
   "metadata": {},
   "outputs": [
    {
     "data": {
      "text/plain": [
       "'/Library/Frameworks/Python.framework/Versions/3.13/lib/python3.13/datetime.py'"
      ]
     },
     "execution_count": 539,
     "metadata": {},
     "output_type": "execute_result"
    }
   ],
   "source": [
    "datetime.__file__"
   ]
  },
  {
   "cell_type": "code",
   "execution_count": 541,
   "id": "5d77577a-2fe7-4215-9aef-e94df9ae3a93",
   "metadata": {},
   "outputs": [
    {
     "data": {
      "text/plain": [
       "['__doc__',\n",
       " '__file__',\n",
       " '__loader__',\n",
       " '__name__',\n",
       " '__package__',\n",
       " '__spec__',\n",
       " 'acos',\n",
       " 'acosh',\n",
       " 'asin',\n",
       " 'asinh',\n",
       " 'atan',\n",
       " 'atan2',\n",
       " 'atanh',\n",
       " 'cbrt',\n",
       " 'ceil',\n",
       " 'comb',\n",
       " 'copysign',\n",
       " 'cos',\n",
       " 'cosh',\n",
       " 'degrees',\n",
       " 'dist',\n",
       " 'e',\n",
       " 'erf',\n",
       " 'erfc',\n",
       " 'exp',\n",
       " 'exp2',\n",
       " 'expm1',\n",
       " 'fabs',\n",
       " 'factorial',\n",
       " 'floor',\n",
       " 'fma',\n",
       " 'fmod',\n",
       " 'frexp',\n",
       " 'fsum',\n",
       " 'gamma',\n",
       " 'gcd',\n",
       " 'hypot',\n",
       " 'inf',\n",
       " 'isclose',\n",
       " 'isfinite',\n",
       " 'isinf',\n",
       " 'isnan',\n",
       " 'isqrt',\n",
       " 'lcm',\n",
       " 'ldexp',\n",
       " 'lgamma',\n",
       " 'log',\n",
       " 'log10',\n",
       " 'log1p',\n",
       " 'log2',\n",
       " 'modf',\n",
       " 'nan',\n",
       " 'nextafter',\n",
       " 'perm',\n",
       " 'pi',\n",
       " 'pow',\n",
       " 'prod',\n",
       " 'radians',\n",
       " 'remainder',\n",
       " 'sin',\n",
       " 'sinh',\n",
       " 'sqrt',\n",
       " 'sumprod',\n",
       " 'tan',\n",
       " 'tanh',\n",
       " 'tau',\n",
       " 'trunc',\n",
       " 'ulp']"
      ]
     },
     "execution_count": 541,
     "metadata": {},
     "output_type": "execute_result"
    }
   ],
   "source": [
    "import math\n",
    "dir(math)"
   ]
  },
  {
   "cell_type": "code",
   "execution_count": 542,
   "id": "0a1dab40-28e7-4b65-8cfd-5a0b89314767",
   "metadata": {},
   "outputs": [
    {
     "data": {
      "text/plain": [
       "5.0"
      ]
     },
     "execution_count": 542,
     "metadata": {},
     "output_type": "execute_result"
    }
   ],
   "source": [
    "math.sqrt(25)"
   ]
  },
  {
   "cell_type": "code",
   "execution_count": 1,
   "id": "50a043a5-339b-4fe9-93b7-064abf08ebc8",
   "metadata": {},
   "outputs": [
    {
     "ename": "TypeError",
     "evalue": "object of type 'int' has no len()",
     "output_type": "error",
     "traceback": [
      "\u001b[0;31m---------------------------------------------------------------------------\u001b[0m",
      "\u001b[0;31mTypeError\u001b[0m                                 Traceback (most recent call last)",
      "Cell \u001b[0;32mIn[1], line 1\u001b[0m\n\u001b[0;32m----> 1\u001b[0m \u001b[38;5;28;43mlen\u001b[39;49m\u001b[43m(\u001b[49m\u001b[38;5;241;43m4\u001b[39;49m\u001b[43m)\u001b[49m\n",
      "\u001b[0;31mTypeError\u001b[0m: object of type 'int' has no len()"
     ]
    }
   ],
   "source": [
    "len(4)"
   ]
  },
  {
   "cell_type": "code",
   "execution_count": 7,
   "id": "9b3c85ba-77b8-4feb-8479-67fe5b4ea0eb",
   "metadata": {},
   "outputs": [],
   "source": [
    "d = { 'foot': 'bar' }"
   ]
  },
  {
   "cell_type": "code",
   "execution_count": 8,
   "id": "c09cfc24-89d0-4145-a65c-71ec39776a8c",
   "metadata": {},
   "outputs": [
    {
     "data": {
      "text/plain": [
       "'bar'"
      ]
     },
     "execution_count": 8,
     "metadata": {},
     "output_type": "execute_result"
    }
   ],
   "source": [
    "d['foot']"
   ]
  },
  {
   "cell_type": "code",
   "execution_count": 9,
   "id": "dc5e23eb-8317-4f83-ae5d-abc90392f96e",
   "metadata": {},
   "outputs": [
    {
     "name": "stdout",
     "output_type": "stream",
     "text": [
      "bar\n"
     ]
    }
   ],
   "source": [
    "if 'foot' in d:\n",
    "    print(d['foot'])"
   ]
  },
  {
   "cell_type": "code",
   "execution_count": 10,
   "id": "90f4d5dc-2257-4856-9516-ec6a430eae6c",
   "metadata": {},
   "outputs": [],
   "source": [
    "from collections import defaultdict\n",
    "d = defaultdict(int)"
   ]
  },
  {
   "cell_type": "code",
   "execution_count": 11,
   "id": "07e9d6e6-1712-4602-9cd1-553601048047",
   "metadata": {},
   "outputs": [
    {
     "data": {
      "text/plain": [
       "defaultdict(int, {})"
      ]
     },
     "execution_count": 11,
     "metadata": {},
     "output_type": "execute_result"
    }
   ],
   "source": [
    "d"
   ]
  },
  {
   "cell_type": "code",
   "execution_count": 12,
   "id": "1391ac48-d50d-4f1f-ba4b-c2de4d75103e",
   "metadata": {},
   "outputs": [],
   "source": [
    "d['a'] = 0"
   ]
  },
  {
   "cell_type": "code",
   "execution_count": 13,
   "id": "d71a093a-8388-4e61-9b0c-595c2ad4b079",
   "metadata": {},
   "outputs": [
    {
     "data": {
      "text/plain": [
       "defaultdict(int, {'a': 0})"
      ]
     },
     "execution_count": 13,
     "metadata": {},
     "output_type": "execute_result"
    }
   ],
   "source": [
    "d"
   ]
  },
  {
   "cell_type": "code",
   "execution_count": 14,
   "id": "5c7bc683-ecf2-4216-8e3e-79ebe2b5afbf",
   "metadata": {},
   "outputs": [
    {
     "data": {
      "text/plain": [
       "0"
      ]
     },
     "execution_count": 14,
     "metadata": {},
     "output_type": "execute_result"
    }
   ],
   "source": [
    "d['a']"
   ]
  },
  {
   "cell_type": "code",
   "execution_count": 15,
   "id": "54dbd08e-cd9b-483f-991c-53aed13f3c31",
   "metadata": {},
   "outputs": [
    {
     "data": {
      "text/plain": [
       "0"
      ]
     },
     "execution_count": 15,
     "metadata": {},
     "output_type": "execute_result"
    }
   ],
   "source": [
    "d['b']"
   ]
  },
  {
   "cell_type": "code",
   "execution_count": 16,
   "id": "3cc2a2b5-c7c1-4ecb-95fb-c7df155e2e98",
   "metadata": {},
   "outputs": [
    {
     "data": {
      "text/plain": [
       "defaultdict(int, {'a': 0, 'b': 0})"
      ]
     },
     "execution_count": 16,
     "metadata": {},
     "output_type": "execute_result"
    }
   ],
   "source": [
    "d"
   ]
  },
  {
   "cell_type": "code",
   "execution_count": 17,
   "id": "f023ecde-fe32-41f9-ab84-a37d10ae3539",
   "metadata": {},
   "outputs": [],
   "source": [
    "d['a'] += 1"
   ]
  },
  {
   "cell_type": "code",
   "execution_count": 18,
   "id": "5220a6fa-892c-4bfd-a5ad-1ebbe89a9fd1",
   "metadata": {},
   "outputs": [
    {
     "data": {
      "text/plain": [
       "1"
      ]
     },
     "execution_count": 18,
     "metadata": {},
     "output_type": "execute_result"
    }
   ],
   "source": [
    "d['a']"
   ]
  },
  {
   "cell_type": "code",
   "execution_count": 19,
   "id": "c554d4c8-96db-4697-b587-ee11a0a7e645",
   "metadata": {},
   "outputs": [],
   "source": [
    "d['c'] += 1"
   ]
  },
  {
   "cell_type": "code",
   "execution_count": 20,
   "id": "468ce2ba-c634-4158-896b-14f188f81c52",
   "metadata": {},
   "outputs": [
    {
     "data": {
      "text/plain": [
       "defaultdict(int, {'a': 1, 'b': 0, 'c': 1})"
      ]
     },
     "execution_count": 20,
     "metadata": {},
     "output_type": "execute_result"
    }
   ],
   "source": [
    "d"
   ]
  },
  {
   "cell_type": "code",
   "execution_count": 21,
   "id": "0073ee92-477a-4859-8597-7f896925f37b",
   "metadata": {},
   "outputs": [],
   "source": [
    "str_dict = defaultdict(str)"
   ]
  },
  {
   "cell_type": "code",
   "execution_count": 22,
   "id": "e7c727ba-b313-4c40-b073-64c40acfe433",
   "metadata": {},
   "outputs": [
    {
     "data": {
      "text/plain": [
       "defaultdict(str, {})"
      ]
     },
     "execution_count": 22,
     "metadata": {},
     "output_type": "execute_result"
    }
   ],
   "source": [
    "str_dict"
   ]
  },
  {
   "cell_type": "code",
   "execution_count": 23,
   "id": "7ab72d00-38d6-45de-8c11-719705a961fe",
   "metadata": {},
   "outputs": [
    {
     "data": {
      "text/plain": [
       "''"
      ]
     },
     "execution_count": 23,
     "metadata": {},
     "output_type": "execute_result"
    }
   ],
   "source": [
    "str_dict['key'] # key is not in the dict"
   ]
  },
  {
   "cell_type": "code",
   "execution_count": 24,
   "id": "c9256479-50a4-4155-bb21-52ef1d97465e",
   "metadata": {},
   "outputs": [],
   "source": [
    "list_dict = defaultdict(list)"
   ]
  },
  {
   "cell_type": "code",
   "execution_count": 25,
   "id": "f1f0c4b6-3fc0-4857-bab6-dc8874052e0b",
   "metadata": {},
   "outputs": [
    {
     "data": {
      "text/plain": [
       "[]"
      ]
     },
     "execution_count": 25,
     "metadata": {},
     "output_type": "execute_result"
    }
   ],
   "source": [
    "list_dict['foo']"
   ]
  },
  {
   "cell_type": "code",
   "execution_count": 26,
   "id": "5a42b2cd-8275-4dc8-88c0-bbee6210718f",
   "metadata": {},
   "outputs": [],
   "source": [
    "employee = 'Lee', 'Bruce', 1234"
   ]
  },
  {
   "cell_type": "code",
   "execution_count": 27,
   "id": "9b486a94-6989-4aea-a1a1-f44bc681f27a",
   "metadata": {},
   "outputs": [
    {
     "name": "stdout",
     "output_type": "stream",
     "text": [
      "Lee\n",
      "Bruce\n",
      "1234\n"
     ]
    }
   ],
   "source": [
    "for thing in employee:\n",
    "    print(thing)"
   ]
  },
  {
   "cell_type": "code",
   "execution_count": 28,
   "id": "5ea960fc-8099-423e-a9c7-a213b8a503e6",
   "metadata": {},
   "outputs": [
    {
     "data": {
      "text/plain": [
       "'Lee'"
      ]
     },
     "execution_count": 28,
     "metadata": {},
     "output_type": "execute_result"
    }
   ],
   "source": [
    "# how do I get the last time\n",
    "employee[0]"
   ]
  },
  {
   "cell_type": "code",
   "execution_count": 29,
   "id": "9783f375-c68e-4bdd-b155-e09600643088",
   "metadata": {},
   "outputs": [],
   "source": [
    "# difference between tuple and a list?\n",
    "# tuples are immutable vs. lists which are mutable"
   ]
  },
  {
   "cell_type": "code",
   "execution_count": 30,
   "id": "d3f1127e-aa27-4d0b-ab47-0586cb7b8b9a",
   "metadata": {},
   "outputs": [],
   "source": [
    "my_tuple = 'name', 1"
   ]
  },
  {
   "cell_type": "code",
   "execution_count": 32,
   "id": "0a55f312-fef6-4e8b-9089-281eff4c4e2f",
   "metadata": {},
   "outputs": [
    {
     "ename": "TypeError",
     "evalue": "'tuple' object does not support item assignment",
     "output_type": "error",
     "traceback": [
      "\u001b[0;31m---------------------------------------------------------------------------\u001b[0m",
      "\u001b[0;31mTypeError\u001b[0m                                 Traceback (most recent call last)",
      "Cell \u001b[0;32mIn[32], line 1\u001b[0m\n\u001b[0;32m----> 1\u001b[0m \u001b[43mmy_tuple\u001b[49m\u001b[43m[\u001b[49m\u001b[38;5;241;43m0\u001b[39;49m\u001b[43m]\u001b[49m \u001b[38;5;241m=\u001b[39m \u001b[38;5;124m'\u001b[39m\u001b[38;5;124msomething\u001b[39m\u001b[38;5;124m'\u001b[39m\n",
      "\u001b[0;31mTypeError\u001b[0m: 'tuple' object does not support item assignment"
     ]
    }
   ],
   "source": [
    "my_tuple[0] = 'something'"
   ]
  },
  {
   "cell_type": "code",
   "execution_count": 34,
   "id": "3aabd80c-5651-4d54-be3a-444b77a242b4",
   "metadata": {},
   "outputs": [],
   "source": [
    "# how are tuples/lists different than arrays?\n",
    "# arrays are homogeneous – all the elements are the same type\n",
    "# so... array of int, array of float\n",
    "# tuples/lists - can be heterogeneous"
   ]
  },
  {
   "cell_type": "code",
   "execution_count": 35,
   "id": "ea3bdf60-5c5d-4714-8a9f-8f539b327515",
   "metadata": {},
   "outputs": [
    {
     "data": {
      "text/plain": [
       "type"
      ]
     },
     "execution_count": 35,
     "metadata": {},
     "output_type": "execute_result"
    }
   ],
   "source": [
    "type(int)"
   ]
  },
  {
   "cell_type": "code",
   "execution_count": 36,
   "id": "8f028391-e230-407b-84d5-a51cafcee747",
   "metadata": {},
   "outputs": [],
   "source": [
    "num = 1"
   ]
  },
  {
   "cell_type": "code",
   "execution_count": 37,
   "id": "ea5e9daf-ccbe-48fc-9ee5-c1822b127032",
   "metadata": {},
   "outputs": [
    {
     "data": {
      "text/plain": [
       "int"
      ]
     },
     "execution_count": 37,
     "metadata": {},
     "output_type": "execute_result"
    }
   ],
   "source": [
    "type(num)"
   ]
  },
  {
   "cell_type": "code",
   "execution_count": 38,
   "id": "21c94e26-31e7-41ba-80ea-c8f6b2e7bfe8",
   "metadata": {},
   "outputs": [
    {
     "data": {
      "text/plain": [
       "int"
      ]
     },
     "execution_count": 38,
     "metadata": {},
     "output_type": "execute_result"
    }
   ],
   "source": [
    "num.__class__"
   ]
  },
  {
   "cell_type": "code",
   "execution_count": 39,
   "id": "7ef77bea-175f-4ab5-9c08-2d2f2c825462",
   "metadata": {},
   "outputs": [
    {
     "data": {
      "text/plain": [
       "float"
      ]
     },
     "execution_count": 39,
     "metadata": {},
     "output_type": "execute_result"
    }
   ],
   "source": [
    "num = 1.5\n",
    "num.__class__"
   ]
  },
  {
   "cell_type": "code",
   "execution_count": 40,
   "id": "d57790d3-86d2-4354-96ef-40d44f231410",
   "metadata": {},
   "outputs": [],
   "source": [
    "d = defaultdict(int)"
   ]
  },
  {
   "cell_type": "code",
   "execution_count": 41,
   "id": "de406f8d-8d1d-4458-926f-42e4f1ee79b6",
   "metadata": {},
   "outputs": [
    {
     "data": {
      "text/plain": [
       "defaultdict(int, {})"
      ]
     },
     "execution_count": 41,
     "metadata": {},
     "output_type": "execute_result"
    }
   ],
   "source": [
    "d"
   ]
  },
  {
   "cell_type": "code",
   "execution_count": 42,
   "id": "a6a0ac1e-c37a-4392-893c-e09889268628",
   "metadata": {},
   "outputs": [
    {
     "data": {
      "text/plain": [
       "0"
      ]
     },
     "execution_count": 42,
     "metadata": {},
     "output_type": "execute_result"
    }
   ],
   "source": [
    "d['not there']"
   ]
  },
  {
   "cell_type": "code",
   "execution_count": 43,
   "id": "f5c7c707-2b76-4488-9c55-38b6760750d3",
   "metadata": {},
   "outputs": [],
   "source": [
    "d['new key'] = 'blah'"
   ]
  },
  {
   "cell_type": "code",
   "execution_count": 44,
   "id": "4002a110-e360-4319-b955-7b42004a4b3b",
   "metadata": {},
   "outputs": [
    {
     "data": {
      "text/plain": [
       "defaultdict(int, {'not there': 0, 'new key': 'blah'})"
      ]
     },
     "execution_count": 44,
     "metadata": {},
     "output_type": "execute_result"
    }
   ],
   "source": [
    "d"
   ]
  },
  {
   "cell_type": "code",
   "execution_count": 45,
   "id": "1867532b-b80c-4d92-b7b8-97d7348bda4b",
   "metadata": {},
   "outputs": [
    {
     "name": "stdout",
     "output_type": "stream",
     "text": [
      "Help on built-in function len in module builtins:\n",
      "\n",
      "len(obj, /)\n",
      "    Return the number of items in a container.\n",
      "\n"
     ]
    }
   ],
   "source": [
    "help(len)"
   ]
  },
  {
   "cell_type": "code",
   "execution_count": 46,
   "id": "77377227-5471-4663-8875-b619c128f960",
   "metadata": {},
   "outputs": [],
   "source": [
    "# sorted can take a key= argument, which is a FUNCTION that accepts one argument\n",
    "# and that dictates how the sorting occurs"
   ]
  },
  {
   "cell_type": "code",
   "execution_count": 47,
   "id": "d83e3455-959c-4d3d-8598-650d1ce8367f",
   "metadata": {},
   "outputs": [],
   "source": [
    "fruits = 'fig apple pear'.split()"
   ]
  },
  {
   "cell_type": "code",
   "execution_count": 48,
   "id": "3d86387e-228a-4dc2-a75e-b68b3daa4df5",
   "metadata": {},
   "outputs": [
    {
     "data": {
      "text/plain": [
       "['fig', 'apple', 'pear']"
      ]
     },
     "execution_count": 48,
     "metadata": {},
     "output_type": "execute_result"
    }
   ],
   "source": [
    "fruits"
   ]
  },
  {
   "cell_type": "code",
   "execution_count": 49,
   "id": "9e417fb5-fd8c-4c9c-b749-9292e557bbbf",
   "metadata": {},
   "outputs": [
    {
     "data": {
      "text/plain": [
       "['apple', 'fig', 'pear']"
      ]
     },
     "execution_count": 49,
     "metadata": {},
     "output_type": "execute_result"
    }
   ],
   "source": [
    "sorted(fruits)"
   ]
  },
  {
   "cell_type": "code",
   "execution_count": 50,
   "id": "571da2fe-c98d-4b89-82cc-a021081e0f12",
   "metadata": {},
   "outputs": [
    {
     "data": {
      "text/plain": [
       "['fig', 'pear', 'apple']"
      ]
     },
     "execution_count": 50,
     "metadata": {},
     "output_type": "execute_result"
    }
   ],
   "source": [
    "sorted(fruits, key=len) # sort fruits, but when comparing pairs of items, call len and use result as sorting order"
   ]
  },
  {
   "cell_type": "code",
   "execution_count": null,
   "id": "c0564622-f71f-4bed-9eb2-e81a299dda3e",
   "metadata": {},
   "outputs": [],
   "source": [
    "# compare len('apple') and len('fig')"
   ]
  },
  {
   "cell_type": "code",
   "execution_count": 51,
   "id": "095d6bc0-9700-40ae-a5cc-fc29ae3771f0",
   "metadata": {},
   "outputs": [],
   "source": [
    "def myfunc(x, y, z):\n",
    "    print(x, y, z)"
   ]
  },
  {
   "cell_type": "code",
   "execution_count": 52,
   "id": "2550d36b-65ea-45e7-8dab-aaa443878894",
   "metadata": {},
   "outputs": [
    {
     "name": "stdout",
     "output_type": "stream",
     "text": [
      "1 2 3\n"
     ]
    }
   ],
   "source": [
    "myfunc(1, 2, 3)"
   ]
  },
  {
   "cell_type": "code",
   "execution_count": 53,
   "id": "439cfb1e-c2f8-4078-b8e8-93695ecf74d0",
   "metadata": {},
   "outputs": [
    {
     "name": "stdout",
     "output_type": "stream",
     "text": [
      "1, 2, 3\n"
     ]
    }
   ],
   "source": [
    "# \"keyword arguments\" has two meanings\n",
    "# meaning 1...\n",
    "print(1, 2, 3, sep=', ') "
   ]
  },
  {
   "cell_type": "code",
   "execution_count": 54,
   "id": "0c02431b-e4c7-4002-92c4-99604f614326",
   "metadata": {},
   "outputs": [
    {
     "name": "stdout",
     "output_type": "stream",
     "text": [
      "1 2 3\n"
     ]
    }
   ],
   "source": [
    "# meaning 2...\n",
    "# you can call a function and choose to name the arguments when you do so\n",
    "myfunc(z=3, x=1, y=2)"
   ]
  },
  {
   "cell_type": "code",
   "execution_count": 59,
   "id": "9daba242-f6b8-41cd-b052-3409538c7579",
   "metadata": {},
   "outputs": [],
   "source": [
    "def myfunc(x, y, /, z, q):\n",
    "    \"\"\"arguments to the lef of the / MAY NOT be passed by keyword\"\"\"\n",
    "    print(x, y, z, q)"
   ]
  },
  {
   "cell_type": "code",
   "execution_count": 60,
   "id": "396fd8b4-2062-49b0-ae59-3d8636e1f72e",
   "metadata": {},
   "outputs": [
    {
     "name": "stdout",
     "output_type": "stream",
     "text": [
      "1 2 3 4\n"
     ]
    }
   ],
   "source": [
    "myfunc(1, 2, 3, 4)"
   ]
  },
  {
   "cell_type": "code",
   "execution_count": 61,
   "id": "abbb8eb4-9528-4df8-bb71-45675548a357",
   "metadata": {},
   "outputs": [
    {
     "name": "stdout",
     "output_type": "stream",
     "text": [
      "1 2 3 5\n"
     ]
    }
   ],
   "source": [
    "myfunc(1, 2, q=5, z=3)"
   ]
  },
  {
   "cell_type": "code",
   "execution_count": 62,
   "id": "3a1aee54-2c3f-4fa2-be5f-abf73675b8f2",
   "metadata": {},
   "outputs": [
    {
     "ename": "TypeError",
     "evalue": "myfunc() got some positional-only arguments passed as keyword arguments: 'y'",
     "output_type": "error",
     "traceback": [
      "\u001b[0;31m---------------------------------------------------------------------------\u001b[0m",
      "\u001b[0;31mTypeError\u001b[0m                                 Traceback (most recent call last)",
      "Cell \u001b[0;32mIn[62], line 1\u001b[0m\n\u001b[0;32m----> 1\u001b[0m \u001b[43mmyfunc\u001b[49m\u001b[43m(\u001b[49m\u001b[38;5;241;43m1\u001b[39;49m\u001b[43m,\u001b[49m\u001b[43m \u001b[49m\u001b[43my\u001b[49m\u001b[38;5;241;43m=\u001b[39;49m\u001b[38;5;241;43m2\u001b[39;49m\u001b[43m,\u001b[49m\u001b[43m \u001b[49m\u001b[43mq\u001b[49m\u001b[38;5;241;43m=\u001b[39;49m\u001b[38;5;241;43m5\u001b[39;49m\u001b[43m,\u001b[49m\u001b[43m \u001b[49m\u001b[43mz\u001b[49m\u001b[38;5;241;43m=\u001b[39;49m\u001b[38;5;241;43m3\u001b[39;49m\u001b[43m)\u001b[49m\n",
      "\u001b[0;31mTypeError\u001b[0m: myfunc() got some positional-only arguments passed as keyword arguments: 'y'"
     ]
    }
   ],
   "source": [
    "myfunc(1, y=2, q=5, z=3)"
   ]
  },
  {
   "cell_type": "code",
   "execution_count": 63,
   "id": "25aa48e6-4997-4a61-9208-7e71a32d4a9b",
   "metadata": {},
   "outputs": [],
   "source": [
    "def f(iterable):\n",
    "    for thing in iterable:\n",
    "        print(thing)"
   ]
  },
  {
   "cell_type": "code",
   "execution_count": 64,
   "id": "157b2ff1-3126-46b9-9988-08f90fa6ccff",
   "metadata": {},
   "outputs": [
    {
     "name": "stdout",
     "output_type": "stream",
     "text": [
      "s\n",
      "t\n",
      "r\n",
      "i\n",
      "n\n",
      "g\n"
     ]
    }
   ],
   "source": [
    "f('string')"
   ]
  },
  {
   "cell_type": "code",
   "execution_count": 65,
   "id": "ce358dd0-8309-49af-b693-ee559e81575e",
   "metadata": {},
   "outputs": [
    {
     "name": "stdout",
     "output_type": "stream",
     "text": [
      "s\n",
      "t\n",
      "r\n",
      "i\n",
      "n\n",
      "g\n"
     ]
    }
   ],
   "source": [
    "f(iterable='string') # Python lets us pass args by keyword"
   ]
  },
  {
   "cell_type": "code",
   "execution_count": 66,
   "id": "563118f8-f0f9-4634-b5af-2d49178ab489",
   "metadata": {},
   "outputs": [],
   "source": [
    "def f(iterable, /):\n",
    "    for thing in iterable:\n",
    "        print(thing)"
   ]
  },
  {
   "cell_type": "code",
   "execution_count": 67,
   "id": "659b3440-9168-44bc-896d-aead488552ad",
   "metadata": {},
   "outputs": [
    {
     "ename": "TypeError",
     "evalue": "f() got some positional-only arguments passed as keyword arguments: 'iterable'",
     "output_type": "error",
     "traceback": [
      "\u001b[0;31m---------------------------------------------------------------------------\u001b[0m",
      "\u001b[0;31mTypeError\u001b[0m                                 Traceback (most recent call last)",
      "Cell \u001b[0;32mIn[67], line 1\u001b[0m\n\u001b[0;32m----> 1\u001b[0m \u001b[43mf\u001b[49m\u001b[43m(\u001b[49m\u001b[43miterable\u001b[49m\u001b[38;5;241;43m=\u001b[39;49m\u001b[38;5;124;43m'\u001b[39;49m\u001b[38;5;124;43mstring\u001b[39;49m\u001b[38;5;124;43m'\u001b[39;49m\u001b[43m)\u001b[49m\n",
      "\u001b[0;31mTypeError\u001b[0m: f() got some positional-only arguments passed as keyword arguments: 'iterable'"
     ]
    }
   ],
   "source": [
    "f(iterable='string')"
   ]
  },
  {
   "cell_type": "code",
   "execution_count": 68,
   "id": "49e6cdf7-4bea-4d3a-ade8-eef3ecaff7fb",
   "metadata": {},
   "outputs": [
    {
     "name": "stdout",
     "output_type": "stream",
     "text": [
      "s\n",
      "t\n",
      "r\n",
      "i\n",
      "n\n",
      "g\n"
     ]
    }
   ],
   "source": [
    "f('string')"
   ]
  },
  {
   "cell_type": "code",
   "execution_count": 69,
   "id": "8bd8fbf2-0259-4140-9b82-099da180cd89",
   "metadata": {},
   "outputs": [],
   "source": [
    "def myfunc(x, y, /, z, q, debug=True, color='red'):\n",
    "    \"\"\"arguments to the lef of the / MAY NOT be passed by keyword\"\"\"\n",
    "    print(x, y, z, q)\n",
    "    print(debug, color)"
   ]
  },
  {
   "cell_type": "code",
   "execution_count": 71,
   "id": "fb7359c4-7176-41e1-92e8-8843f2c27528",
   "metadata": {},
   "outputs": [
    {
     "name": "stdout",
     "output_type": "stream",
     "text": [
      "1 2 3 4\n",
      "True red\n"
     ]
    }
   ],
   "source": [
    "myfunc(1, 2, 3, 4)"
   ]
  },
  {
   "cell_type": "code",
   "execution_count": 73,
   "id": "34ef122e-03a5-4436-8174-0a5ccfa1809b",
   "metadata": {},
   "outputs": [
    {
     "name": "stdout",
     "output_type": "stream",
     "text": [
      "1 2 3 4\n",
      "False blue\n"
     ]
    }
   ],
   "source": [
    "myfunc(1, 2, 3, 4, debug=False, color='blue')"
   ]
  },
  {
   "cell_type": "code",
   "execution_count": 74,
   "id": "b0949dc4-0723-499a-bf36-605dd2f75654",
   "metadata": {},
   "outputs": [
    {
     "name": "stdout",
     "output_type": "stream",
     "text": [
      "1 2 3 4\n",
      "False blue\n"
     ]
    }
   ],
   "source": [
    "myfunc(1, 2, 3, 4, False, 'blue')"
   ]
  },
  {
   "cell_type": "code",
   "execution_count": 75,
   "id": "232cd45e-3646-4dd6-bf32-decf386cbbe2",
   "metadata": {},
   "outputs": [
    {
     "name": "stdout",
     "output_type": "stream",
     "text": [
      "1 2 3 4\n",
      "False blue\n"
     ]
    }
   ],
   "source": [
    "myfunc(1, 2, 3, 4, color='blue', debug=False)"
   ]
  },
  {
   "cell_type": "code",
   "execution_count": 76,
   "id": "04e9b038-fe2c-4ff8-a3f2-1867e6379347",
   "metadata": {},
   "outputs": [],
   "source": [
    "def myfunc(x, y, /, z, q, *, debug=True, color='red'):\n",
    "    \"\"\"arguments to the lef of the / MAY NOT be passed by keyword\"\"\"\n",
    "    print(x, y, z, q)\n",
    "    print(debug, color)"
   ]
  },
  {
   "cell_type": "code",
   "execution_count": 77,
   "id": "fe565d1c-6161-4381-a03e-267d8c2ad99e",
   "metadata": {},
   "outputs": [
    {
     "ename": "TypeError",
     "evalue": "myfunc() takes 4 positional arguments but 6 were given",
     "output_type": "error",
     "traceback": [
      "\u001b[0;31m---------------------------------------------------------------------------\u001b[0m",
      "\u001b[0;31mTypeError\u001b[0m                                 Traceback (most recent call last)",
      "Cell \u001b[0;32mIn[77], line 1\u001b[0m\n\u001b[0;32m----> 1\u001b[0m \u001b[43mmyfunc\u001b[49m\u001b[43m(\u001b[49m\u001b[38;5;241;43m1\u001b[39;49m\u001b[43m,\u001b[49m\u001b[43m \u001b[49m\u001b[38;5;241;43m2\u001b[39;49m\u001b[43m,\u001b[49m\u001b[43m \u001b[49m\u001b[38;5;241;43m3\u001b[39;49m\u001b[43m,\u001b[49m\u001b[43m \u001b[49m\u001b[38;5;241;43m4\u001b[39;49m\u001b[43m,\u001b[49m\u001b[43m \u001b[49m\u001b[38;5;28;43;01mFalse\u001b[39;49;00m\u001b[43m,\u001b[49m\u001b[43m \u001b[49m\u001b[38;5;124;43m'\u001b[39;49m\u001b[38;5;124;43mblue\u001b[39;49m\u001b[38;5;124;43m'\u001b[39;49m\u001b[43m)\u001b[49m\n",
      "\u001b[0;31mTypeError\u001b[0m: myfunc() takes 4 positional arguments but 6 were given"
     ]
    }
   ],
   "source": [
    "myfunc(1, 2, 3, 4, False, 'blue')"
   ]
  },
  {
   "cell_type": "code",
   "execution_count": 78,
   "id": "2806a2e6-cd36-41f4-81a6-d8571fc1ccc4",
   "metadata": {},
   "outputs": [
    {
     "name": "stdout",
     "output_type": "stream",
     "text": [
      "1 2 3 4\n",
      "False blue\n"
     ]
    }
   ],
   "source": [
    "myfunc(1, 2, 3, 4, color='blue', debug=False)"
   ]
  },
  {
   "cell_type": "code",
   "execution_count": 79,
   "id": "5bec6596-5428-4536-aee7-177bb699664d",
   "metadata": {},
   "outputs": [],
   "source": [
    "import math"
   ]
  },
  {
   "cell_type": "code",
   "execution_count": 80,
   "id": "15b04a68-fcae-4c3b-b2f0-6441ab960885",
   "metadata": {},
   "outputs": [
    {
     "name": "stdout",
     "output_type": "stream",
     "text": [
      "Help on built-in function sqrt in module math:\n",
      "\n",
      "sqrt(x, /)\n",
      "    Return the square root of x.\n",
      "\n"
     ]
    }
   ],
   "source": [
    "help(math.sqrt)"
   ]
  },
  {
   "cell_type": "code",
   "execution_count": 81,
   "id": "6e84ce63-8251-4c9b-b31f-fe4b88ad2370",
   "metadata": {},
   "outputs": [
    {
     "ename": "TypeError",
     "evalue": "math.sqrt() takes no keyword arguments",
     "output_type": "error",
     "traceback": [
      "\u001b[0;31m---------------------------------------------------------------------------\u001b[0m",
      "\u001b[0;31mTypeError\u001b[0m                                 Traceback (most recent call last)",
      "Cell \u001b[0;32mIn[81], line 1\u001b[0m\n\u001b[0;32m----> 1\u001b[0m \u001b[43mmath\u001b[49m\u001b[38;5;241;43m.\u001b[39;49m\u001b[43msqrt\u001b[49m\u001b[43m(\u001b[49m\u001b[43mx\u001b[49m\u001b[38;5;241;43m=\u001b[39;49m\u001b[38;5;241;43m25\u001b[39;49m\u001b[43m)\u001b[49m\n",
      "\u001b[0;31mTypeError\u001b[0m: math.sqrt() takes no keyword arguments"
     ]
    }
   ],
   "source": [
    "math.sqrt(x=25)"
   ]
  },
  {
   "cell_type": "code",
   "execution_count": 82,
   "id": "4b2d1653-6643-4929-a19d-44f006b9e8d5",
   "metadata": {},
   "outputs": [
    {
     "data": {
      "text/plain": [
       "5.0"
      ]
     },
     "execution_count": 82,
     "metadata": {},
     "output_type": "execute_result"
    }
   ],
   "source": [
    "math.sqrt(25)"
   ]
  },
  {
   "cell_type": "code",
   "execution_count": 83,
   "id": "08888837-55da-4f6c-87e8-769630674a85",
   "metadata": {},
   "outputs": [],
   "source": [
    "def fact(n):\n",
    "    \"\"\"returns n!\"\"\"\n",
    "    if n < 2:\n",
    "        return 1\n",
    "    else:\n",
    "        return n * fact(n - 1)"
   ]
  },
  {
   "cell_type": "code",
   "execution_count": 84,
   "id": "af0917bf-2737-450f-aeca-c6193ba17e9c",
   "metadata": {},
   "outputs": [
    {
     "data": {
      "text/plain": [
       "[1, 6, 120, 5040, 362880, 39916800]"
      ]
     },
     "execution_count": 84,
     "metadata": {},
     "output_type": "execute_result"
    }
   ],
   "source": [
    "factorials = []\n",
    "\n",
    "for num in range(1, 12, 2): # odds from 1..11\n",
    "    factorials.append(fact(num))\n",
    "\n",
    "factorials"
   ]
  },
  {
   "cell_type": "code",
   "execution_count": null,
   "id": "9389befb-272c-4899-b132-7cc67c1316bb",
   "metadata": {},
   "outputs": [],
   "source": [
    "# list comprehension\n",
    "# factorials is a/becomes a LIST of fact(num)'s ... which nums ...?\n",
    "#                the ones noted by the for loop\n",
    "factorials = [fact(num) for num in range(1, 12, 2)]"
   ]
  },
  {
   "cell_type": "code",
   "execution_count": 90,
   "id": "9e076f97-5025-4177-b62e-c91b3d06a148",
   "metadata": {},
   "outputs": [],
   "source": [
    "len = 1 # I have now made a global variable w/same name as builtin function"
   ]
  },
  {
   "cell_type": "code",
   "execution_count": 87,
   "id": "89ab942c-3453-4e41-b1a7-1acba3e23381",
   "metadata": {},
   "outputs": [
    {
     "ename": "TypeError",
     "evalue": "'int' object is not callable",
     "output_type": "error",
     "traceback": [
      "\u001b[0;31m---------------------------------------------------------------------------\u001b[0m",
      "\u001b[0;31mTypeError\u001b[0m                                 Traceback (most recent call last)",
      "Cell \u001b[0;32mIn[87], line 1\u001b[0m\n\u001b[0;32m----> 1\u001b[0m \u001b[38;5;28;43mlen\u001b[39;49m\u001b[43m(\u001b[49m\u001b[38;5;124;43m'\u001b[39;49m\u001b[38;5;124;43mhello\u001b[39;49m\u001b[38;5;124;43m'\u001b[39;49m\u001b[43m)\u001b[49m\n",
      "\u001b[0;31mTypeError\u001b[0m: 'int' object is not callable"
     ]
    }
   ],
   "source": [
    "len('hello')"
   ]
  },
  {
   "cell_type": "code",
   "execution_count": 91,
   "id": "e055cf50-5b54-4612-aa87-d42f093eb3d8",
   "metadata": {},
   "outputs": [],
   "source": [
    "del len # get rid of the global variable I created"
   ]
  },
  {
   "cell_type": "code",
   "execution_count": 92,
   "id": "1d123ea0-3bd2-4f19-8c73-dad4796a4ca4",
   "metadata": {},
   "outputs": [
    {
     "data": {
      "text/plain": [
       "2"
      ]
     },
     "execution_count": 92,
     "metadata": {},
     "output_type": "execute_result"
    }
   ],
   "source": [
    "len('hi')"
   ]
  },
  {
   "cell_type": "code",
   "execution_count": 93,
   "id": "66ef0664-2b77-4809-ab49-b513d6742351",
   "metadata": {},
   "outputs": [],
   "source": [
    "list = [1, 2, 3]"
   ]
  },
  {
   "cell_type": "code",
   "execution_count": 94,
   "id": "9dcb6a35-b0ce-495f-935f-bba4d86b22e3",
   "metadata": {},
   "outputs": [
    {
     "ename": "TypeError",
     "evalue": "'list' object is not callable",
     "output_type": "error",
     "traceback": [
      "\u001b[0;31m---------------------------------------------------------------------------\u001b[0m",
      "\u001b[0;31mTypeError\u001b[0m                                 Traceback (most recent call last)",
      "Cell \u001b[0;32mIn[94], line 1\u001b[0m\n\u001b[0;32m----> 1\u001b[0m \u001b[38;5;28;43mlist\u001b[39;49m\u001b[43m(\u001b[49m\u001b[38;5;124;43m'\u001b[39;49m\u001b[38;5;124;43mhello\u001b[39;49m\u001b[38;5;124;43m'\u001b[39;49m\u001b[43m)\u001b[49m\n",
      "\u001b[0;31mTypeError\u001b[0m: 'list' object is not callable"
     ]
    }
   ],
   "source": [
    "list('hello')"
   ]
  },
  {
   "cell_type": "code",
   "execution_count": 95,
   "id": "708ca93b-2331-4157-ade5-880bbf1bd9fa",
   "metadata": {},
   "outputs": [],
   "source": [
    "del list"
   ]
  },
  {
   "cell_type": "code",
   "execution_count": 96,
   "id": "69c8099f-5803-4bdf-af27-7de0f1879199",
   "metadata": {},
   "outputs": [
    {
     "data": {
      "text/plain": [
       "['h', 'e', 'l', 'l', 'o']"
      ]
     },
     "execution_count": 96,
     "metadata": {},
     "output_type": "execute_result"
    }
   ],
   "source": [
    "list('hello')"
   ]
  },
  {
   "cell_type": "code",
   "execution_count": 97,
   "id": "d67f9983-ec69-4c8a-9bbd-1575fef615be",
   "metadata": {},
   "outputs": [
    {
     "data": {
      "text/plain": [
       "4443006208"
      ]
     },
     "execution_count": 97,
     "metadata": {},
     "output_type": "execute_result"
    }
   ],
   "source": [
    "id(factorials)"
   ]
  },
  {
   "cell_type": "code",
   "execution_count": 98,
   "id": "45df78a3-b412-4869-a636-56f11726d2cf",
   "metadata": {},
   "outputs": [],
   "source": [
    "def myfunc(*args, **kwargs):\n",
    "    \"\"\"This function accepts 0+ positional arguments (*args), followed by 0+ keyword args (**kwargs)\"\"\"\n",
    "    print(args)\n",
    "    print(kwargs)"
   ]
  },
  {
   "cell_type": "code",
   "execution_count": 99,
   "id": "216b503a-681f-4e79-be85-35d83749487d",
   "metadata": {},
   "outputs": [
    {
     "name": "stdout",
     "output_type": "stream",
     "text": [
      "()\n",
      "{}\n"
     ]
    }
   ],
   "source": [
    "myfunc()"
   ]
  },
  {
   "cell_type": "code",
   "execution_count": 100,
   "id": "952e312c-0db3-4a60-bb52-e2f88bed99a6",
   "metadata": {},
   "outputs": [
    {
     "name": "stdout",
     "output_type": "stream",
     "text": [
      "(1, 2, 3, 'foo', 'bar')\n",
      "{}\n"
     ]
    }
   ],
   "source": [
    "myfunc(1, 2, 3, 'foo', 'bar')"
   ]
  },
  {
   "cell_type": "code",
   "execution_count": 101,
   "id": "346fa8d7-d5a6-4386-b654-2a0b7caf344b",
   "metadata": {},
   "outputs": [
    {
     "name": "stdout",
     "output_type": "stream",
     "text": [
      "()\n",
      "{'debug': True, 'color': 'red', 'stuff': 2}\n"
     ]
    }
   ],
   "source": [
    "myfunc(debug=True, color='red', stuff=2)"
   ]
  },
  {
   "cell_type": "code",
   "execution_count": 102,
   "id": "0e6106fe-ae4c-499b-9352-ee2fb9467c71",
   "metadata": {},
   "outputs": [
    {
     "name": "stdout",
     "output_type": "stream",
     "text": [
      "(1, 2, 3)\n",
      "{'debug': True, 'color': 'red', 'stuff': 2}\n"
     ]
    }
   ],
   "source": [
    "myfunc(1, 2, 3, debug=True, color='red', stuff=2)"
   ]
  },
  {
   "cell_type": "code",
   "execution_count": null,
   "id": "ee4e2409-e3b4-4a72-bc22-471921118c42",
   "metadata": {},
   "outputs": [],
   "source": []
  }
 ],
 "metadata": {
  "kernelspec": {
   "display_name": "Python 3 (ipykernel)",
   "language": "python",
   "name": "python3"
  },
  "language_info": {
   "codemirror_mode": {
    "name": "ipython",
    "version": 3
   },
   "file_extension": ".py",
   "mimetype": "text/x-python",
   "name": "python",
   "nbconvert_exporter": "python",
   "pygments_lexer": "ipython3",
   "version": "3.13.1"
  }
 },
 "nbformat": 4,
 "nbformat_minor": 5
}
