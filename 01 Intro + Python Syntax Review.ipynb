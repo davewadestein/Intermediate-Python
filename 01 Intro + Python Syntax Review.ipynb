{
 "cells": [
  {
   "cell_type": "markdown",
   "metadata": {
    "slideshow": {
     "slide_type": "subslide"
    },
    "tags": []
   },
   "source": [
    "# Intermediate Python\n",
    "\n",
    "#### Dave Wade-Stein  \n",
    "#### dave@developintelligence.com  "
   ]
  },
  {
   "cell_type": "markdown",
   "metadata": {},
   "source": [
    "## Important Note\n",
    "* the materials consist of a bunch of Jupyter notebooks, some of which we likely will not get to\n",
    "* some of the notebooks are very long (e.g., 1 and 2), others are very short"
   ]
  },
  {
   "cell_type": "markdown",
   "metadata": {
    "slideshow": {
     "slide_type": "slide"
    }
   },
   "source": [
    "# Python Conceptual Review"
   ]
  },
  {
   "cell_type": "markdown",
   "metadata": {
    "slideshow": {
     "slide_type": "subslide"
    }
   },
   "source": [
    "## __Dynamic__ typing, no declarations"
   ]
  },
  {
   "cell_type": "code",
   "execution_count": null,
   "metadata": {},
   "outputs": [],
   "source": [
    "number = 3.9\n",
    "print(number)\n",
    "number = 'Python'\n",
    "print(number)"
   ]
  },
  {
   "cell_type": "markdown",
   "metadata": {
    "slideshow": {
     "slide_type": "subslide"
    }
   },
   "source": [
    "## ...but strongly typed"
   ]
  },
  {
   "cell_type": "code",
   "execution_count": null,
   "metadata": {},
   "outputs": [],
   "source": [
    "name = 'Dave'\n",
    "something = name + 1\n",
    "something"
   ]
  },
  {
   "cell_type": "markdown",
   "metadata": {
    "slideshow": {
     "slide_type": "slide"
    }
   },
   "source": [
    "## __Everything__ is an object\n",
    "  1. every thing lives in memory and we can inspect those things\n",
    "  1. every object consists of multiple fields, possibly with functions attached/inside"
   ]
  },
  {
   "cell_type": "code",
   "execution_count": null,
   "metadata": {},
   "outputs": [],
   "source": [
    "import math\n",
    "dir(math)"
   ]
  },
  {
   "cell_type": "markdown",
   "metadata": {
    "slideshow": {
     "slide_type": "slide"
    }
   },
   "source": [
    "## 'Duck-typing'\n",
    "* built-in (and our own) functions can accept lots of different types"
   ]
  },
  {
   "cell_type": "code",
   "execution_count": null,
   "metadata": {},
   "outputs": [],
   "source": []
  },
  {
   "cell_type": "markdown",
   "metadata": {
    "slideshow": {
     "slide_type": "slide"
    }
   },
   "source": [
    "## Built-in functions\n",
    "* ... DO NOT change the objects that are passed into them\n",
    "    * if you want to change an object, you must call/invoke a method on it\n",
    "      * not all methods change the objects they are applied to or called/invoke on"
   ]
  },
  {
   "cell_type": "code",
   "execution_count": null,
   "metadata": {},
   "outputs": [],
   "source": []
  },
  {
   "cell_type": "markdown",
   "metadata": {
    "slideshow": {
     "slide_type": "slide"
    }
   },
   "source": [
    "## Ways in which we can compare Python's data types\n"
   ]
  },
  {
   "cell_type": "markdown",
   "metadata": {
    "slideshow": {
     "slide_type": "slide"
    }
   },
   "source": [
    "### scalars vs. containers\n",
    "* scalar = 'a single value' (int, float, bool)\n",
    "* containers = '0+ values': str, list, tuple, dict, set"
   ]
  },
  {
   "cell_type": "code",
   "execution_count": null,
   "metadata": {},
   "outputs": [],
   "source": []
  },
  {
   "cell_type": "markdown",
   "metadata": {
    "slideshow": {
     "slide_type": "slide"
    }
   },
   "source": [
    "### mutable vs. immutable objects\n",
    "  * mutable: list, dict, set\n",
    "  * immutable: str, tuple, frozenset"
   ]
  },
  {
   "cell_type": "code",
   "execution_count": null,
   "metadata": {},
   "outputs": [],
   "source": []
  },
  {
   "cell_type": "markdown",
   "metadata": {},
   "source": [
    "## 'Truthiness'\n",
    "* Python lets us use non-Booleans in a Boolean context\n",
    "* What are the rules?"
   ]
  },
  {
   "cell_type": "code",
   "execution_count": null,
   "metadata": {},
   "outputs": [],
   "source": []
  },
  {
   "cell_type": "markdown",
   "metadata": {},
   "source": [
    "## Jackie Stewart 'mechanical sympathy'\n",
    "  * you can't truly understand something or be an expert at it if you don't know how it works under the hood"
   ]
  },
  {
   "cell_type": "code",
   "execution_count": null,
   "metadata": {},
   "outputs": [],
   "source": []
  },
  {
   "cell_type": "markdown",
   "metadata": {},
   "source": [
    "## Slicing (__`[start:stop:step]`__)\n",
    "* Edsger Dijkstra\n",
    "* all of the 'st' are optional!"
   ]
  },
  {
   "cell_type": "markdown",
   "metadata": {},
   "source": [
    "## 'Pythonic'\n",
    "* if an object is difficult to work with, consider changing its type\n",
    "* __`container[-1]`__ is the last item in the container\n",
    "  * __`container[-n]`__ is the nth from the last item in the container\n",
    "* compose function where appropriate, e.g., __`int(input(...))`__\n",
    "* __`[:n]`__ means the first n items in a container\n",
    "* __`[-n:]`__ means the last n items in a container\n",
    "* __`[::-1]`__ means a reversed version of the container\n",
    "* don't use indexing in str/list/container, if you don't need it"
   ]
  },
  {
   "cell_type": "code",
   "execution_count": null,
   "metadata": {},
   "outputs": [],
   "source": []
  },
  {
   "cell_type": "markdown",
   "metadata": {
    "slideshow": {
     "slide_type": "subslide"
    }
   },
   "source": [
    "## Functions\n",
    "* docstrings PEP 257"
   ]
  },
  {
   "cell_type": "code",
   "execution_count": null,
   "metadata": {},
   "outputs": [],
   "source": [
    "def myfunc(thing):\n",
    "    '''Double thing!'''\n",
    "    print('do something', thing)\n",
    "    return thing * 2\n",
    "    \n",
    "print(myfunc(2))"
   ]
  },
  {
   "cell_type": "markdown",
   "metadata": {},
   "source": [
    "## ... return __`None`__ if no return statement"
   ]
  },
  {
   "cell_type": "code",
   "execution_count": null,
   "metadata": {
    "scrolled": true
   },
   "outputs": [],
   "source": [
    "def myfunc(num):\n",
    "    print('do something', num)\n",
    "\n",
    "print(myfunc(35))"
   ]
  },
  {
   "cell_type": "markdown",
   "metadata": {},
   "source": [
    "## __`None`__?\n",
    "* it acts like __`False`__, but it's a different object"
   ]
  },
  {
   "cell_type": "code",
   "execution_count": null,
   "metadata": {},
   "outputs": [],
   "source": [
    "retval = myfunc(2)\n",
    "if retval:\n",
    "    print('True branch of if')\n",
    "else:\n",
    "    print('False branch of if')"
   ]
  },
  {
   "cell_type": "code",
   "execution_count": null,
   "metadata": {},
   "outputs": [],
   "source": [
    "if retval is None:\n",
    "    print('preferred over retval == None')\n",
    "print('Is None the same as False?', None is False)\n",
    "id(None), id(False)"
   ]
  },
  {
   "cell_type": "markdown",
   "metadata": {
    "slideshow": {
     "slide_type": "subslide"
    }
   },
   "source": [
    "## Two types of __`for`__ loops\n",
    "* iterating through a numeric range\n",
    "  * Edsger Dijkstra ... why number should start at zero\n",
    "* iterating through a container"
   ]
  },
  {
   "cell_type": "code",
   "execution_count": null,
   "metadata": {},
   "outputs": [],
   "source": [
    "for num in range(10):\n",
    "    print(num, end=' ')"
   ]
  },
  {
   "cell_type": "code",
   "execution_count": null,
   "metadata": {},
   "outputs": [],
   "source": [
    "cars = 'Tesla Rivian Polestar Farady'.split()\n",
    "for car in cars:\n",
    "    print(car)"
   ]
  },
  {
   "cell_type": "markdown",
   "metadata": {
    "slideshow": {
     "slide_type": "subslide"
    }
   },
   "source": [
    "## Scope \n",
    "* Python is _NOT_ block scoped"
   ]
  },
  {
   "cell_type": "code",
   "execution_count": null,
   "metadata": {
    "slideshow": {
     "slide_type": "subslide"
    }
   },
   "outputs": [],
   "source": [
    "if True:\n",
    "    declared_in_a_block = 'global not local' # x will persist outside this block\n",
    "\n",
    "print('outside the block', declared_in_a_block)"
   ]
  },
  {
   "cell_type": "code",
   "execution_count": null,
   "metadata": {},
   "outputs": [],
   "source": []
  },
  {
   "cell_type": "markdown",
   "metadata": {},
   "source": [
    "## f-strings\n",
    "* strings that have an __`f`__ (or __`F`__) before the quotes\n",
    "* braces represent expressions that Python will substitute for us within the f-string"
   ]
  },
  {
   "cell_type": "code",
   "execution_count": null,
   "metadata": {},
   "outputs": [],
   "source": []
  },
  {
   "cell_type": "markdown",
   "metadata": {
    "slideshow": {
     "slide_type": "subslide"
    }
   },
   "source": [
    "## Tuples\n",
    "* immutable\n",
    "* typically used like rows of a spreadsheet / database\n",
    "* one tuple generally describes one object (person, building, country, etc.)\n",
    "* parens not required when declaring"
   ]
  },
  {
   "cell_type": "code",
   "execution_count": null,
   "metadata": {
    "slideshow": {
     "slide_type": "subslide"
    }
   },
   "outputs": [],
   "source": [
    "# empty tuple\n",
    "t = ()\n",
    "print(t)\n",
    "# singleton tuple\n",
    "t = 1,\n",
    "print(t)"
   ]
  },
  {
   "cell_type": "code",
   "execution_count": null,
   "metadata": {},
   "outputs": [],
   "source": [
    "# use case for a singleton tuple: concatenation\n",
    "t + (2,)"
   ]
  },
  {
   "cell_type": "code",
   "execution_count": null,
   "metadata": {
    "slideshow": {
     "slide_type": "subslide"
    }
   },
   "outputs": [],
   "source": [
    "# another use case for singleton tuple:\n",
    "# enables you to pass a single value to a function which takes an iterable\n",
    "def func(iterable):\n",
    "    for thing in iterable:\n",
    "        print(thing, end=' ')\n",
    "    print()\n",
    "        \n",
    "func('hello')\n",
    "func((9,))\n",
    "func(9)"
   ]
  },
  {
   "cell_type": "markdown",
   "metadata": {
    "slideshow": {
     "slide_type": "subslide"
    }
   },
   "source": [
    "## Sets\n",
    "* unordered\n",
    "* no duplicates"
   ]
  },
  {
   "cell_type": "code",
   "execution_count": null,
   "metadata": {
    "slideshow": {
     "slide_type": "-"
    }
   },
   "outputs": [],
   "source": [
    "t = set()\n",
    "type(t)"
   ]
  },
  {
   "cell_type": "code",
   "execution_count": null,
   "metadata": {},
   "outputs": [],
   "source": [
    "even = { 2, 4, 6 }\n",
    "print(even)\n",
    "even.add(8)\n",
    "even.add(2)\n",
    "print(even)"
   ]
  },
  {
   "cell_type": "code",
   "execution_count": null,
   "metadata": {},
   "outputs": [],
   "source": [
    "prime = set([int(x) for x in '2357'])\n",
    "print(prime)\n",
    "print('all numbers =', prime | even)\n",
    "print('even primes =', prime & even)\n"
   ]
  },
  {
   "cell_type": "markdown",
   "metadata": {
    "slideshow": {
     "slide_type": "subslide"
    }
   },
   "source": [
    "## Dictionaries\n",
    "* unordered sequence of key/value pairs\n",
    "* dict indices are the keys, not index values (since dicts are unordered)\n",
    "* two ways to use dictionaries\n",
    "  1. fill them at the beginning of your code, use them as a translation table throughout the code\n",
    "  1. start empty, fill as you process user input/file etc. and at end of program, dict reflects your data\n",
    "* __`.get()`__ method is like indexing, but no crash for unknown key"
   ]
  },
  {
   "cell_type": "code",
   "execution_count": null,
   "metadata": {},
   "outputs": [],
   "source": [
    "d = {}\n",
    "d['tall'] = 12\n",
    "d['grande'] = 16\n",
    "d['venti'] = 20\n",
    "print(d)"
   ]
  },
  {
   "cell_type": "code",
   "execution_count": null,
   "metadata": {},
   "outputs": [],
   "source": [
    "# keys() function returns a view object, which is dynamic\n",
    "keys = d.keys()\n",
    "print('keys are', d.keys())\n",
    "print('values are', d.values())\n",
    "print('items are', d.items())"
   ]
  },
  {
   "cell_type": "code",
   "execution_count": null,
   "metadata": {},
   "outputs": [],
   "source": [
    "print(keys)"
   ]
  },
  {
   "cell_type": "code",
   "execution_count": null,
   "metadata": {},
   "outputs": [],
   "source": [
    "# now add to the dict...\n",
    "d['trenta'] = 31\n",
    "keys"
   ]
  },
  {
   "cell_type": "code",
   "execution_count": null,
   "metadata": {},
   "outputs": [],
   "source": []
  },
  {
   "cell_type": "markdown",
   "metadata": {},
   "source": [
    "## List Comprehensions\n",
    "* four types\n",
    "  * 'standard'\n",
    "  * filter\n",
    "  * Cartesian product\n",
    "  * zip\n",
    "* also dict comprehension and set comprehensions"
   ]
  },
  {
   "cell_type": "code",
   "execution_count": null,
   "metadata": {},
   "outputs": [],
   "source": []
  },
  {
   "cell_type": "markdown",
   "metadata": {},
   "source": [
    "## File I/O\n",
    "* files are iterable\n",
    "  * __`for line in file_object:`__\n",
    "* __`with`__ block"
   ]
  },
  {
   "cell_type": "code",
   "execution_count": null,
   "metadata": {},
   "outputs": [],
   "source": []
  },
  {
   "cell_type": "markdown",
   "metadata": {},
   "source": [
    "## More about functions...\n",
    "* positional vs. keyword arguments\n",
    "* __`*args`__\n",
    "* __`**kwargs`__"
   ]
  },
  {
   "cell_type": "code",
   "execution_count": null,
   "metadata": {},
   "outputs": [],
   "source": []
  },
  {
   "cell_type": "markdown",
   "metadata": {},
   "source": [
    "## Exceptions\n",
    "* __`try/except`__\n",
    "* __`else`__ clause\n",
    "* __`finally`__ clause"
   ]
  },
  {
   "cell_type": "markdown",
   "metadata": {
    "slideshow": {
     "slide_type": "subslide"
    }
   },
   "source": [
    "## Modules\n",
    "* files of Python code\n",
    "* export variables, functions, and/or classes\n",
    "* __`import module`__ vs. __`from module import thing`__\n",
    "* leading underscore indicates desire for object to be private\n",
    "  * two leading underscores indicates stronger desire (name mangling)\n",
    "* **\\_\\_name\\_\\_** set to **\\_\\_main\\_\\_** vs. module name"
   ]
  },
  {
   "cell_type": "code",
   "execution_count": null,
   "metadata": {
    "slideshow": {
     "slide_type": "subslide"
    }
   },
   "outputs": [],
   "source": [
    "# this code lives in mymodule.py\n",
    "def dummy():\n",
    "    return 45\n",
    "   \n",
    "public_data = 'public stuff!'\n",
    "_private_data = 'private stuff!'\n",
    "print('__name__ =', __name__) # 'dunder'\n",
    "\n",
    "# If this code is being *run*, then __name__ will be '__main__'\n",
    "if __name__ == '__main__':\n",
    "    # test dummy\n",
    "    if dummy() == 45:\n",
    "        print('success')"
   ]
  },
  {
   "cell_type": "code",
   "execution_count": null,
   "metadata": {},
   "outputs": [],
   "source": [
    "import mymodule\n",
    "mymodule.dummy() # must preface identifiers with module name"
   ]
  },
  {
   "cell_type": "code",
   "execution_count": null,
   "metadata": {},
   "outputs": [],
   "source": [
    "dir()"
   ]
  },
  {
   "cell_type": "code",
   "execution_count": null,
   "metadata": {},
   "outputs": [],
   "source": [
    "print(mymodule._private_data, mymodule.public_data, sep='\\n')"
   ]
  },
  {
   "cell_type": "code",
   "execution_count": null,
   "metadata": {
    "scrolled": true,
    "slideshow": {
     "slide_type": "subslide"
    }
   },
   "outputs": [],
   "source": [
    "from mymodule import public_data as thismodule_data\n",
    "dir()"
   ]
  },
  {
   "cell_type": "code",
   "execution_count": null,
   "metadata": {},
   "outputs": [],
   "source": [
    "import sys\n",
    "sys.path.insert(0, '/organization/specific/dir')\n",
    "sys.path"
   ]
  },
  {
   "cell_type": "code",
   "execution_count": null,
   "metadata": {},
   "outputs": [],
   "source": []
  },
  {
   "cell_type": "markdown",
   "metadata": {},
   "source": [
    "## Command-line arguments\n",
    "* __`sys.argv`__"
   ]
  },
  {
   "cell_type": "code",
   "execution_count": null,
   "metadata": {},
   "outputs": [],
   "source": []
  },
  {
   "cell_type": "markdown",
   "metadata": {
    "slideshow": {
     "slide_type": "subslide"
    }
   },
   "source": [
    "## Regular Expressions (regex)"
   ]
  },
  {
   "cell_type": "code",
   "execution_count": null,
   "metadata": {
    "slideshow": {
     "slide_type": "subslide"
    }
   },
   "outputs": [],
   "source": [
    "import re \n",
    "if re.match('a.*b', 'alphabet'):\n",
    "    print('match found!')"
   ]
  },
  {
   "cell_type": "code",
   "execution_count": null,
   "metadata": {},
   "outputs": [],
   "source": [
    "# match() only matches at beginning of string\n",
    "if re.match('l.*b', 'alphabet'):\n",
    "    print('match found!')"
   ]
  },
  {
   "cell_type": "code",
   "execution_count": null,
   "metadata": {},
   "outputs": [],
   "source": [
    "match = re.search('l.*e', 'alphabet')\n",
    "if match:\n",
    "    print('match found!')"
   ]
  },
  {
   "cell_type": "code",
   "execution_count": null,
   "metadata": {},
   "outputs": [],
   "source": [
    "match.re.pattern, match.string"
   ]
  },
  {
   "cell_type": "code",
   "execution_count": null,
   "metadata": {},
   "outputs": [],
   "source": [
    "match.start(), match.end()"
   ]
  },
  {
   "cell_type": "code",
   "execution_count": null,
   "metadata": {},
   "outputs": [],
   "source": [
    "match.string[match.start():match.end()]"
   ]
  },
  {
   "cell_type": "code",
   "execution_count": null,
   "metadata": {},
   "outputs": [],
   "source": [
    "# %load poem.txt\n",
    "TWO roads diverged in a yellow wood,\t\n",
    "And sorry I could not travel both\t\n",
    "And be one traveler, long I stood\t\n",
    "And looked down one as far as I could\t\n",
    "To where it bent in the undergrowth;\n",
    " \n",
    "Then took the other, as just as fair,\t\n",
    "And having perhaps the better claim,\t\n",
    "Because it was grassy and wanted wear;\t\n",
    "Though as for that the passing there\t\n",
    "Had worn them really about the same,\n",
    " \n",
    "And both that morning equally lay\t\n",
    "In leaves no step had trodden black.\t\n",
    "Oh, I kept the first for another day!\t\n",
    "Yet knowing how way leads on to way,\t\n",
    "I doubted if I should ever come back.\n",
    " \n",
    "I shall be telling this with a sigh\t\n",
    "Somewhere ages and ages hence:\t\n",
    "Two roads diverged in a wood, and I—\t\n",
    "I took the one less traveled by,\t\n",
    "And that has made all the difference.\n"
   ]
  },
  {
   "cell_type": "code",
   "execution_count": null,
   "metadata": {},
   "outputs": [],
   "source": [
    "import re\n",
    "linenum = 0\n",
    "for line in open('poem.txt'):\n",
    "    linenum += 1\n",
    "    if re.search('the', line):\n",
    "        print(f'{linenum}: {re.sub('the', '---', line)}', end='')"
   ]
  },
  {
   "cell_type": "markdown",
   "metadata": {},
   "source": [
    "* let's write a function which takes a word as an argument and outputs the plural of that word\n",
    "* the program should follow these rules:\n",
    "  * if the word ends in 's', 'x', or 'z', the plural adds 'es', e.g., ax => axes, loss => losses\n",
    "  * if the word ends in an 'h', which is not preceded by a vowel or 'd', 'g', 'k', 'p', 'r', or 't', the plural adds 'es', e.g., moth => moths, but match => matches\n",
    "  * if the word ends in a 'y' which is not preceded by a vowel, then the plural strips the 'y' and adds 'ies', e.g., baby => babies, but boy => boys\n",
    "  * otherwise just add 's'"
   ]
  },
  {
   "cell_type": "code",
   "execution_count": null,
   "metadata": {},
   "outputs": [],
   "source": [
    "import re\n",
    "\n",
    "def pluralize(noun):\n",
    "    if re.search('[sxz]$', noun):\n",
    "        return noun + 'es'\n",
    "    elif re.search('[^aeioudgkprt]h$', noun):\n",
    "        return noun + 'es'\n",
    "    elif re.search('[^aeiou]y$', noun):\n",
    "        return re.sub('y$', 'ies', noun)\n",
    "    else:\n",
    "        return noun + 's'"
   ]
  },
  {
   "cell_type": "markdown",
   "metadata": {},
   "source": [
    "## New features in Python 3.8/3.10"
   ]
  },
  {
   "cell_type": "markdown",
   "metadata": {},
   "source": [
    "### The Walrus Operator\n",
    "* how we used to do it"
   ]
  },
  {
   "cell_type": "code",
   "execution_count": null,
   "metadata": {},
   "outputs": [],
   "source": [
    "response = input('Enter: ')\n",
    "\n",
    "while response != 'quit':\n",
    "    print('process', response)\n",
    "    response = input('Enter: ')"
   ]
  },
  {
   "cell_type": "markdown",
   "metadata": {},
   "source": [
    "#### or, if you don't like repeating the input()..."
   ]
  },
  {
   "cell_type": "code",
   "execution_count": null,
   "metadata": {},
   "outputs": [],
   "source": [
    "response = ''\n",
    "\n",
    "while True: # infinite loop\n",
    "    response = input('Enter: ')\n",
    "    if response == 'quit':\n",
    "        break\n",
    "    print('process', response)    "
   ]
  },
  {
   "cell_type": "markdown",
   "metadata": {},
   "source": [
    "#### the problem is that we need to get input AND compare it in the same 'breath'...\n",
    "* and we can now do that, thanks to the 'walrus operator'\n",
    "* also called 'assignment expressions'"
   ]
  },
  {
   "cell_type": "code",
   "execution_count": null,
   "metadata": {},
   "outputs": [],
   "source": [
    "while (response := input('Enter: ')) != 'quit':\n",
    "    print('process', response)"
   ]
  },
  {
   "cell_type": "markdown",
   "metadata": {},
   "source": [
    "#### another example: initializing a dict"
   ]
  },
  {
   "cell_type": "code",
   "execution_count": null,
   "metadata": {},
   "outputs": [],
   "source": [
    "cache = {}"
   ]
  },
  {
   "cell_type": "code",
   "execution_count": null,
   "metadata": {},
   "outputs": [],
   "source": [
    "key = input('Enter key: ')\n",
    "\n",
    "count = cache.get(key)\n",
    "\n",
    "if count is None:\n",
    "    count = 0\n",
    "cache[key] = count + 1\n",
    "\n",
    "cache"
   ]
  },
  {
   "cell_type": "code",
   "execution_count": null,
   "metadata": {},
   "outputs": [],
   "source": [
    "key = input('Enter key: ')\n",
    "cache[key] = (count := cache.get(key, 0)) + 1\n",
    "\n",
    "cache"
   ]
  },
  {
   "cell_type": "markdown",
   "metadata": {},
   "source": [
    "### __`match`__ statement\n",
    "* at long last, we have a case statement for Python (and much more)\n"
   ]
  },
  {
   "cell_type": "code",
   "execution_count": null,
   "metadata": {},
   "outputs": [],
   "source": [
    "def describe_value(val):\n",
    "    match val:\n",
    "        case 0:\n",
    "            return 'zero'\n",
    "        case 1:\n",
    "            return 'one'\n",
    "        case 2:\n",
    "            return 'two'\n",
    "        case _:\n",
    "            return f'something else: {val}'"
   ]
  },
  {
   "cell_type": "code",
   "execution_count": null,
   "metadata": {},
   "outputs": [],
   "source": [
    "describe_value(0), describe_value(1), describe_value(-1)"
   ]
  },
  {
   "cell_type": "code",
   "execution_count": null,
   "metadata": {},
   "outputs": [],
   "source": [
    "def describe_point(point):\n",
    "    match point:\n",
    "        case 0, 0:\n",
    "            return 'origin'\n",
    "        case 0, y:\n",
    "            return f'y-axis at {y}'\n",
    "        case x, 0:\n",
    "            return f'x-axis at {x}'\n",
    "        case x, y:\n",
    "            return f'point at {x}, {y}'\n",
    "        case _:\n",
    "            return 'not a point!'"
   ]
  },
  {
   "cell_type": "code",
   "execution_count": null,
   "metadata": {},
   "outputs": [],
   "source": [
    "describe_point((0, 0)), describe_point((5, 0)), describe_point((1, 2)), describe_point(1)"
   ]
  },
  {
   "cell_type": "code",
   "execution_count": null,
   "metadata": {},
   "outputs": [],
   "source": [
    "def process_command(command):\n",
    "    match command.split():\n",
    "        case ['quit']:\n",
    "            return 'Exiting program'\n",
    "        case ['load', filename]:\n",
    "            return f'Loading file: {filename}'\n",
    "        case ['save', filename]:\n",
    "            return f'Saving to file: {filename}'\n",
    "        case ['search', *keywords]:\n",
    "            return f'Searching for: {' '.join(keywords)}'\n",
    "        case _:\n",
    "            return 'Unknown command'"
   ]
  },
  {
   "cell_type": "code",
   "execution_count": null,
   "metadata": {},
   "outputs": [],
   "source": [
    "process_command('quit'), process_command('load somefile.txt'), process_command('x')"
   ]
  },
  {
   "cell_type": "code",
   "execution_count": null,
   "metadata": {},
   "outputs": [],
   "source": [
    "process_command('save otherfile.txt'), process_command('search one two three')"
   ]
  },
  {
   "cell_type": "code",
   "execution_count": null,
   "metadata": {},
   "outputs": [],
   "source": [
    "def is_valid_http_status(status):\n",
    "    match status:\n",
    "        case 200 | 201 | 204:\n",
    "            return 'Success'\n",
    "        case 400 | 401 | 403 | 404:\n",
    "            return 'Client error'\n",
    "        case 500 | 502 | 503:\n",
    "            return 'Server error'\n",
    "        case _:\n",
    "            return 'Unknown status code'"
   ]
  },
  {
   "cell_type": "code",
   "execution_count": null,
   "metadata": {},
   "outputs": [],
   "source": [
    "is_valid_http_status(404), is_valid_http_status(111)"
   ]
  }
 ],
 "metadata": {
  "celltoolbar": "Slideshow",
  "kernelspec": {
   "display_name": "Python 3 (ipykernel)",
   "language": "python",
   "name": "python3"
  },
  "language_info": {
   "codemirror_mode": {
    "name": "ipython",
    "version": 3
   },
   "file_extension": ".py",
   "mimetype": "text/x-python",
   "name": "python",
   "nbconvert_exporter": "python",
   "pygments_lexer": "ipython3",
   "version": "3.13.1"
  }
 },
 "nbformat": 4,
 "nbformat_minor": 4
}
